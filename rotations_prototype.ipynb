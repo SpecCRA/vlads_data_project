{
 "cells": [
  {
   "cell_type": "markdown",
   "metadata": {},
   "source": [
    "# Create rotations chart data"
   ]
  },
  {
   "cell_type": "markdown",
   "metadata": {},
   "source": [
    "# Setup"
   ]
  },
  {
   "cell_type": "code",
   "execution_count": 49,
   "metadata": {},
   "outputs": [],
   "source": [
    "import pandas as pd\n",
    "import numpy as np\n",
    "import nba_api\n",
    "import re"
   ]
  },
  {
   "cell_type": "code",
   "execution_count": 11,
   "metadata": {},
   "outputs": [],
   "source": [
    "from nba_api.stats.static.teams import get_teams, find_teams_by_nickname\n",
    "from nba_api.stats.endpoints import LeagueGameFinder\n",
    "from nba_api.stats.endpoints import PlayByPlayV2\n",
    "from nba_api.stats.endpoints import PlayByPlay\n",
    "from nba_api.stats.endpoints import BoxScorePlayerTrackV2"
   ]
  },
  {
   "cell_type": "code",
   "execution_count": 12,
   "metadata": {
    "jupyter": {
     "source_hidden": true
    }
   },
   "outputs": [],
   "source": [
    "spurs_info = find_teams_by_nickname('Spurs')\n",
    "spurs_id = spurs_info[0]['id']\n",
    "\n",
    "# find all Spurs games\n",
    "gamefinder = LeagueGameFinder(team_id_nullable=spurs_id,\n",
    "                                              season_nullable='2019-20')\n",
    "team_box_scores_df = gamefinder.get_data_frames()[0]\n",
    "team_box_scores_df.head(n=10)\n",
    "\n",
    "spurs_games = list(team_box_scores_df.GAME_ID.unique()) # grab unique list of game IDs\n",
    "\n",
    "test_game = spurs_games[0]"
   ]
  },
  {
   "cell_type": "markdown",
   "metadata": {},
   "source": [
    "## Get list of active players and starters for each team"
   ]
  },
  {
   "cell_type": "code",
   "execution_count": 13,
   "metadata": {},
   "outputs": [],
   "source": [
    "# get list of rosters and starting players\n",
    "roster_data_df = BoxScorePlayerTrackV2(game_id=test_game).data_sets[0].get_data_frame()\n",
    "starters_df = roster_data_df[roster_data_df.START_POSITION.isin(['F', 'G', 'C'])]\n",
    "spurs_starters = list(starters_df[starters_df.TEAM_ABBREVIATION == 'SAS'].PLAYER_NAME)\n",
    "opp_starters = list(starters_df[starters_df.TEAM_ABBREVIATION != 'SAS'].PLAYER_NAME)\n",
    "spurs_roster = list(roster_data_df[roster_data_df.TEAM_ABBREVIATION == 'SAS'].PLAYER_NAME)\n",
    "opp_roster = list(roster_data_df[roster_data_df.TEAM_ABBREVIATION != 'SAS'].PLAYER_NAME)"
   ]
  },
  {
   "cell_type": "code",
   "execution_count": 14,
   "metadata": {},
   "outputs": [],
   "source": [
    "pbp = PlayByPlayV2(game_id=test_game).data_sets"
   ]
  },
  {
   "cell_type": "code",
   "execution_count": 15,
   "metadata": {},
   "outputs": [
    {
     "data": {
      "text/html": [
       "<div>\n",
       "<style scoped>\n",
       "    .dataframe tbody tr th:only-of-type {\n",
       "        vertical-align: middle;\n",
       "    }\n",
       "\n",
       "    .dataframe tbody tr th {\n",
       "        vertical-align: top;\n",
       "    }\n",
       "\n",
       "    .dataframe thead th {\n",
       "        text-align: right;\n",
       "    }\n",
       "</style>\n",
       "<table border=\"1\" class=\"dataframe\">\n",
       "  <thead>\n",
       "    <tr style=\"text-align: right;\">\n",
       "      <th></th>\n",
       "      <th>GAME_ID</th>\n",
       "      <th>EVENTNUM</th>\n",
       "      <th>EVENTMSGTYPE</th>\n",
       "      <th>EVENTMSGACTIONTYPE</th>\n",
       "      <th>PERIOD</th>\n",
       "      <th>WCTIMESTRING</th>\n",
       "      <th>PCTIMESTRING</th>\n",
       "      <th>HOMEDESCRIPTION</th>\n",
       "      <th>NEUTRALDESCRIPTION</th>\n",
       "      <th>VISITORDESCRIPTION</th>\n",
       "      <th>...</th>\n",
       "      <th>PLAYER2_TEAM_NICKNAME</th>\n",
       "      <th>PLAYER2_TEAM_ABBREVIATION</th>\n",
       "      <th>PERSON3TYPE</th>\n",
       "      <th>PLAYER3_ID</th>\n",
       "      <th>PLAYER3_NAME</th>\n",
       "      <th>PLAYER3_TEAM_ID</th>\n",
       "      <th>PLAYER3_TEAM_CITY</th>\n",
       "      <th>PLAYER3_TEAM_NICKNAME</th>\n",
       "      <th>PLAYER3_TEAM_ABBREVIATION</th>\n",
       "      <th>VIDEO_AVAILABLE_FLAG</th>\n",
       "    </tr>\n",
       "  </thead>\n",
       "  <tbody>\n",
       "    <tr>\n",
       "      <th>0</th>\n",
       "      <td>0021901314</td>\n",
       "      <td>2</td>\n",
       "      <td>12</td>\n",
       "      <td>0</td>\n",
       "      <td>1</td>\n",
       "      <td>6:38 PM</td>\n",
       "      <td>12:00</td>\n",
       "      <td>None</td>\n",
       "      <td>None</td>\n",
       "      <td>None</td>\n",
       "      <td>...</td>\n",
       "      <td>None</td>\n",
       "      <td>None</td>\n",
       "      <td>0</td>\n",
       "      <td>0</td>\n",
       "      <td>None</td>\n",
       "      <td>NaN</td>\n",
       "      <td>None</td>\n",
       "      <td>None</td>\n",
       "      <td>None</td>\n",
       "      <td>0</td>\n",
       "    </tr>\n",
       "    <tr>\n",
       "      <th>1</th>\n",
       "      <td>0021901314</td>\n",
       "      <td>4</td>\n",
       "      <td>10</td>\n",
       "      <td>0</td>\n",
       "      <td>1</td>\n",
       "      <td>6:38 PM</td>\n",
       "      <td>12:00</td>\n",
       "      <td>Jump Ball Bradley vs. Poeltl: Tip to Ingles</td>\n",
       "      <td>None</td>\n",
       "      <td>None</td>\n",
       "      <td>...</td>\n",
       "      <td>Spurs</td>\n",
       "      <td>SAS</td>\n",
       "      <td>4</td>\n",
       "      <td>204060</td>\n",
       "      <td>Joe Ingles</td>\n",
       "      <td>1.610613e+09</td>\n",
       "      <td>Utah</td>\n",
       "      <td>Jazz</td>\n",
       "      <td>UTA</td>\n",
       "      <td>1</td>\n",
       "    </tr>\n",
       "    <tr>\n",
       "      <th>2</th>\n",
       "      <td>0021901314</td>\n",
       "      <td>7</td>\n",
       "      <td>1</td>\n",
       "      <td>47</td>\n",
       "      <td>1</td>\n",
       "      <td>6:38 PM</td>\n",
       "      <td>11:46</td>\n",
       "      <td>Clarkson 7' Turnaround Jump Shot (2 PTS) (Mitc...</td>\n",
       "      <td>None</td>\n",
       "      <td>None</td>\n",
       "      <td>...</td>\n",
       "      <td>Jazz</td>\n",
       "      <td>UTA</td>\n",
       "      <td>0</td>\n",
       "      <td>0</td>\n",
       "      <td>None</td>\n",
       "      <td>NaN</td>\n",
       "      <td>None</td>\n",
       "      <td>None</td>\n",
       "      <td>None</td>\n",
       "      <td>1</td>\n",
       "    </tr>\n",
       "    <tr>\n",
       "      <th>3</th>\n",
       "      <td>0021901314</td>\n",
       "      <td>9</td>\n",
       "      <td>2</td>\n",
       "      <td>78</td>\n",
       "      <td>1</td>\n",
       "      <td>6:38 PM</td>\n",
       "      <td>11:31</td>\n",
       "      <td>O'Neale BLOCK (1 BLK)</td>\n",
       "      <td>None</td>\n",
       "      <td>MISS Samanic 4' Floating Jump Shot</td>\n",
       "      <td>...</td>\n",
       "      <td>None</td>\n",
       "      <td>None</td>\n",
       "      <td>4</td>\n",
       "      <td>1626220</td>\n",
       "      <td>Royce O'Neale</td>\n",
       "      <td>1.610613e+09</td>\n",
       "      <td>Utah</td>\n",
       "      <td>Jazz</td>\n",
       "      <td>UTA</td>\n",
       "      <td>1</td>\n",
       "    </tr>\n",
       "    <tr>\n",
       "      <th>4</th>\n",
       "      <td>0021901314</td>\n",
       "      <td>11</td>\n",
       "      <td>4</td>\n",
       "      <td>0</td>\n",
       "      <td>1</td>\n",
       "      <td>6:38 PM</td>\n",
       "      <td>11:28</td>\n",
       "      <td>Bradley REBOUND (Off:0 Def:1)</td>\n",
       "      <td>None</td>\n",
       "      <td>None</td>\n",
       "      <td>...</td>\n",
       "      <td>None</td>\n",
       "      <td>None</td>\n",
       "      <td>0</td>\n",
       "      <td>0</td>\n",
       "      <td>None</td>\n",
       "      <td>NaN</td>\n",
       "      <td>None</td>\n",
       "      <td>None</td>\n",
       "      <td>None</td>\n",
       "      <td>1</td>\n",
       "    </tr>\n",
       "    <tr>\n",
       "      <th>5</th>\n",
       "      <td>0021901314</td>\n",
       "      <td>12</td>\n",
       "      <td>2</td>\n",
       "      <td>1</td>\n",
       "      <td>1</td>\n",
       "      <td>6:38 PM</td>\n",
       "      <td>11:23</td>\n",
       "      <td>MISS O'Neale 25' 3PT Jump Shot</td>\n",
       "      <td>None</td>\n",
       "      <td>None</td>\n",
       "      <td>...</td>\n",
       "      <td>None</td>\n",
       "      <td>None</td>\n",
       "      <td>0</td>\n",
       "      <td>0</td>\n",
       "      <td>None</td>\n",
       "      <td>NaN</td>\n",
       "      <td>None</td>\n",
       "      <td>None</td>\n",
       "      <td>None</td>\n",
       "      <td>1</td>\n",
       "    </tr>\n",
       "    <tr>\n",
       "      <th>6</th>\n",
       "      <td>0021901314</td>\n",
       "      <td>13</td>\n",
       "      <td>4</td>\n",
       "      <td>0</td>\n",
       "      <td>1</td>\n",
       "      <td>6:38 PM</td>\n",
       "      <td>11:17</td>\n",
       "      <td>None</td>\n",
       "      <td>None</td>\n",
       "      <td>Samanic REBOUND (Off:0 Def:1)</td>\n",
       "      <td>...</td>\n",
       "      <td>None</td>\n",
       "      <td>None</td>\n",
       "      <td>0</td>\n",
       "      <td>0</td>\n",
       "      <td>None</td>\n",
       "      <td>NaN</td>\n",
       "      <td>None</td>\n",
       "      <td>None</td>\n",
       "      <td>None</td>\n",
       "      <td>1</td>\n",
       "    </tr>\n",
       "    <tr>\n",
       "      <th>7</th>\n",
       "      <td>0021901314</td>\n",
       "      <td>14</td>\n",
       "      <td>2</td>\n",
       "      <td>78</td>\n",
       "      <td>1</td>\n",
       "      <td>6:38 PM</td>\n",
       "      <td>11:12</td>\n",
       "      <td>None</td>\n",
       "      <td>None</td>\n",
       "      <td>MISS Walker IV 14' Floating Jump Shot</td>\n",
       "      <td>...</td>\n",
       "      <td>None</td>\n",
       "      <td>None</td>\n",
       "      <td>0</td>\n",
       "      <td>0</td>\n",
       "      <td>None</td>\n",
       "      <td>NaN</td>\n",
       "      <td>None</td>\n",
       "      <td>None</td>\n",
       "      <td>None</td>\n",
       "      <td>1</td>\n",
       "    </tr>\n",
       "    <tr>\n",
       "      <th>8</th>\n",
       "      <td>0021901314</td>\n",
       "      <td>15</td>\n",
       "      <td>4</td>\n",
       "      <td>0</td>\n",
       "      <td>1</td>\n",
       "      <td>6:38 PM</td>\n",
       "      <td>11:10</td>\n",
       "      <td>Bradley REBOUND (Off:0 Def:2)</td>\n",
       "      <td>None</td>\n",
       "      <td>None</td>\n",
       "      <td>...</td>\n",
       "      <td>None</td>\n",
       "      <td>None</td>\n",
       "      <td>0</td>\n",
       "      <td>0</td>\n",
       "      <td>None</td>\n",
       "      <td>NaN</td>\n",
       "      <td>None</td>\n",
       "      <td>None</td>\n",
       "      <td>None</td>\n",
       "      <td>1</td>\n",
       "    </tr>\n",
       "    <tr>\n",
       "      <th>9</th>\n",
       "      <td>0021901314</td>\n",
       "      <td>16</td>\n",
       "      <td>2</td>\n",
       "      <td>1</td>\n",
       "      <td>1</td>\n",
       "      <td>6:39 PM</td>\n",
       "      <td>10:58</td>\n",
       "      <td>MISS Clarkson 25' 3PT Jump Shot</td>\n",
       "      <td>None</td>\n",
       "      <td>None</td>\n",
       "      <td>...</td>\n",
       "      <td>None</td>\n",
       "      <td>None</td>\n",
       "      <td>0</td>\n",
       "      <td>0</td>\n",
       "      <td>None</td>\n",
       "      <td>NaN</td>\n",
       "      <td>None</td>\n",
       "      <td>None</td>\n",
       "      <td>None</td>\n",
       "      <td>1</td>\n",
       "    </tr>\n",
       "  </tbody>\n",
       "</table>\n",
       "<p>10 rows × 34 columns</p>\n",
       "</div>"
      ],
      "text/plain": [
       "      GAME_ID  EVENTNUM  EVENTMSGTYPE  EVENTMSGACTIONTYPE  PERIOD  \\\n",
       "0  0021901314         2            12                   0       1   \n",
       "1  0021901314         4            10                   0       1   \n",
       "2  0021901314         7             1                  47       1   \n",
       "3  0021901314         9             2                  78       1   \n",
       "4  0021901314        11             4                   0       1   \n",
       "5  0021901314        12             2                   1       1   \n",
       "6  0021901314        13             4                   0       1   \n",
       "7  0021901314        14             2                  78       1   \n",
       "8  0021901314        15             4                   0       1   \n",
       "9  0021901314        16             2                   1       1   \n",
       "\n",
       "  WCTIMESTRING PCTIMESTRING  \\\n",
       "0      6:38 PM        12:00   \n",
       "1      6:38 PM        12:00   \n",
       "2      6:38 PM        11:46   \n",
       "3      6:38 PM        11:31   \n",
       "4      6:38 PM        11:28   \n",
       "5      6:38 PM        11:23   \n",
       "6      6:38 PM        11:17   \n",
       "7      6:38 PM        11:12   \n",
       "8      6:38 PM        11:10   \n",
       "9      6:39 PM        10:58   \n",
       "\n",
       "                                     HOMEDESCRIPTION NEUTRALDESCRIPTION  \\\n",
       "0                                               None               None   \n",
       "1        Jump Ball Bradley vs. Poeltl: Tip to Ingles               None   \n",
       "2  Clarkson 7' Turnaround Jump Shot (2 PTS) (Mitc...               None   \n",
       "3                              O'Neale BLOCK (1 BLK)               None   \n",
       "4                      Bradley REBOUND (Off:0 Def:1)               None   \n",
       "5                     MISS O'Neale 25' 3PT Jump Shot               None   \n",
       "6                                               None               None   \n",
       "7                                               None               None   \n",
       "8                      Bradley REBOUND (Off:0 Def:2)               None   \n",
       "9                    MISS Clarkson 25' 3PT Jump Shot               None   \n",
       "\n",
       "                      VISITORDESCRIPTION  ... PLAYER2_TEAM_NICKNAME  \\\n",
       "0                                   None  ...                  None   \n",
       "1                                   None  ...                 Spurs   \n",
       "2                                   None  ...                  Jazz   \n",
       "3     MISS Samanic 4' Floating Jump Shot  ...                  None   \n",
       "4                                   None  ...                  None   \n",
       "5                                   None  ...                  None   \n",
       "6          Samanic REBOUND (Off:0 Def:1)  ...                  None   \n",
       "7  MISS Walker IV 14' Floating Jump Shot  ...                  None   \n",
       "8                                   None  ...                  None   \n",
       "9                                   None  ...                  None   \n",
       "\n",
       "  PLAYER2_TEAM_ABBREVIATION  PERSON3TYPE  PLAYER3_ID   PLAYER3_NAME  \\\n",
       "0                      None            0           0           None   \n",
       "1                       SAS            4      204060     Joe Ingles   \n",
       "2                       UTA            0           0           None   \n",
       "3                      None            4     1626220  Royce O'Neale   \n",
       "4                      None            0           0           None   \n",
       "5                      None            0           0           None   \n",
       "6                      None            0           0           None   \n",
       "7                      None            0           0           None   \n",
       "8                      None            0           0           None   \n",
       "9                      None            0           0           None   \n",
       "\n",
       "   PLAYER3_TEAM_ID PLAYER3_TEAM_CITY PLAYER3_TEAM_NICKNAME  \\\n",
       "0              NaN              None                  None   \n",
       "1     1.610613e+09              Utah                  Jazz   \n",
       "2              NaN              None                  None   \n",
       "3     1.610613e+09              Utah                  Jazz   \n",
       "4              NaN              None                  None   \n",
       "5              NaN              None                  None   \n",
       "6              NaN              None                  None   \n",
       "7              NaN              None                  None   \n",
       "8              NaN              None                  None   \n",
       "9              NaN              None                  None   \n",
       "\n",
       "  PLAYER3_TEAM_ABBREVIATION  VIDEO_AVAILABLE_FLAG  \n",
       "0                      None                     0  \n",
       "1                       UTA                     1  \n",
       "2                      None                     1  \n",
       "3                       UTA                     1  \n",
       "4                      None                     1  \n",
       "5                      None                     1  \n",
       "6                      None                     1  \n",
       "7                      None                     1  \n",
       "8                      None                     1  \n",
       "9                      None                     1  \n",
       "\n",
       "[10 rows x 34 columns]"
      ]
     },
     "execution_count": 15,
     "metadata": {},
     "output_type": "execute_result"
    }
   ],
   "source": [
    "pbp_df = pbp[0].get_data_frame()\n",
    "pbp_df.head(n=10)"
   ]
  },
  {
   "cell_type": "markdown",
   "metadata": {},
   "source": [
    "# Functions"
   ]
  },
  {
   "cell_type": "code",
   "execution_count": 16,
   "metadata": {},
   "outputs": [],
   "source": [
    "def conv_time_to_sec(time):\n",
    "    split_time = time.split(':')\n",
    "    # convert time to seconds\n",
    "    # seconds in elapsed time\n",
    "    new_time = int(split_time[0]) * 60 + int(split_time[1])\n",
    "    new_time = 12*60 - new_time\n",
    "    return new_time"
   ]
  },
  {
   "cell_type": "code",
   "execution_count": 17,
   "metadata": {},
   "outputs": [],
   "source": [
    "def parse_player_in(pbp_text):\n",
    "    split_text = pbp_text.split('FOR')\n",
    "    \n",
    "    return (split_text[0][4:].strip())"
   ]
  },
  {
   "cell_type": "code",
   "execution_count": 18,
   "metadata": {},
   "outputs": [],
   "source": [
    "def parse_player_out(pbp_text):\n",
    "    split_text = pbp_text.split('FOR')\n",
    "    \n",
    "    return (split_text[1].strip())"
   ]
  },
  {
   "cell_type": "markdown",
   "metadata": {},
   "source": [
    "# Parse PBP data"
   ]
  },
  {
   "cell_type": "code",
   "execution_count": 33,
   "metadata": {},
   "outputs": [
    {
     "data": {
      "text/html": [
       "<div>\n",
       "<style scoped>\n",
       "    .dataframe tbody tr th:only-of-type {\n",
       "        vertical-align: middle;\n",
       "    }\n",
       "\n",
       "    .dataframe tbody tr th {\n",
       "        vertical-align: top;\n",
       "    }\n",
       "\n",
       "    .dataframe thead th {\n",
       "        text-align: right;\n",
       "    }\n",
       "</style>\n",
       "<table border=\"1\" class=\"dataframe\">\n",
       "  <thead>\n",
       "    <tr style=\"text-align: right;\">\n",
       "      <th></th>\n",
       "      <th>GAME_ID</th>\n",
       "      <th>EVENTNUM</th>\n",
       "      <th>EVENTMSGTYPE</th>\n",
       "      <th>EVENTMSGACTIONTYPE</th>\n",
       "      <th>PERIOD</th>\n",
       "      <th>WCTIMESTRING</th>\n",
       "      <th>PCTIMESTRING</th>\n",
       "      <th>HOMEDESCRIPTION</th>\n",
       "      <th>NEUTRALDESCRIPTION</th>\n",
       "      <th>VISITORDESCRIPTION</th>\n",
       "      <th>...</th>\n",
       "      <th>PLAYER2_TEAM_NICKNAME</th>\n",
       "      <th>PLAYER2_TEAM_ABBREVIATION</th>\n",
       "      <th>PERSON3TYPE</th>\n",
       "      <th>PLAYER3_ID</th>\n",
       "      <th>PLAYER3_NAME</th>\n",
       "      <th>PLAYER3_TEAM_ID</th>\n",
       "      <th>PLAYER3_TEAM_CITY</th>\n",
       "      <th>PLAYER3_TEAM_NICKNAME</th>\n",
       "      <th>PLAYER3_TEAM_ABBREVIATION</th>\n",
       "      <th>VIDEO_AVAILABLE_FLAG</th>\n",
       "    </tr>\n",
       "  </thead>\n",
       "  <tbody>\n",
       "    <tr>\n",
       "      <th>143</th>\n",
       "      <td>0021901314</td>\n",
       "      <td>205</td>\n",
       "      <td>8</td>\n",
       "      <td>0</td>\n",
       "      <td>2</td>\n",
       "      <td>7:13 PM</td>\n",
       "      <td>9:15</td>\n",
       "      <td>None</td>\n",
       "      <td>None</td>\n",
       "      <td>SUB: Johnson FOR Murray</td>\n",
       "      <td>...</td>\n",
       "      <td>Spurs</td>\n",
       "      <td>SAS</td>\n",
       "      <td>0</td>\n",
       "      <td>0</td>\n",
       "      <td>None</td>\n",
       "      <td>NaN</td>\n",
       "      <td>None</td>\n",
       "      <td>None</td>\n",
       "      <td>None</td>\n",
       "      <td>0</td>\n",
       "    </tr>\n",
       "    <tr>\n",
       "      <th>144</th>\n",
       "      <td>0021901314</td>\n",
       "      <td>206</td>\n",
       "      <td>8</td>\n",
       "      <td>0</td>\n",
       "      <td>2</td>\n",
       "      <td>7:13 PM</td>\n",
       "      <td>9:15</td>\n",
       "      <td>None</td>\n",
       "      <td>None</td>\n",
       "      <td>SUB: Walker IV FOR Belinelli</td>\n",
       "      <td>...</td>\n",
       "      <td>Spurs</td>\n",
       "      <td>SAS</td>\n",
       "      <td>0</td>\n",
       "      <td>0</td>\n",
       "      <td>None</td>\n",
       "      <td>NaN</td>\n",
       "      <td>None</td>\n",
       "      <td>None</td>\n",
       "      <td>None</td>\n",
       "      <td>0</td>\n",
       "    </tr>\n",
       "    <tr>\n",
       "      <th>177</th>\n",
       "      <td>0021901314</td>\n",
       "      <td>253</td>\n",
       "      <td>8</td>\n",
       "      <td>0</td>\n",
       "      <td>2</td>\n",
       "      <td>7:21 PM</td>\n",
       "      <td>6:04</td>\n",
       "      <td>None</td>\n",
       "      <td>None</td>\n",
       "      <td>SUB: Poeltl FOR Johnson</td>\n",
       "      <td>...</td>\n",
       "      <td>Spurs</td>\n",
       "      <td>SAS</td>\n",
       "      <td>0</td>\n",
       "      <td>0</td>\n",
       "      <td>None</td>\n",
       "      <td>NaN</td>\n",
       "      <td>None</td>\n",
       "      <td>None</td>\n",
       "      <td>None</td>\n",
       "      <td>0</td>\n",
       "    </tr>\n",
       "    <tr>\n",
       "      <th>178</th>\n",
       "      <td>0021901314</td>\n",
       "      <td>254</td>\n",
       "      <td>8</td>\n",
       "      <td>0</td>\n",
       "      <td>2</td>\n",
       "      <td>7:21 PM</td>\n",
       "      <td>6:04</td>\n",
       "      <td>None</td>\n",
       "      <td>None</td>\n",
       "      <td>SUB: Belinelli FOR Eubanks</td>\n",
       "      <td>...</td>\n",
       "      <td>Spurs</td>\n",
       "      <td>SAS</td>\n",
       "      <td>0</td>\n",
       "      <td>0</td>\n",
       "      <td>None</td>\n",
       "      <td>NaN</td>\n",
       "      <td>None</td>\n",
       "      <td>None</td>\n",
       "      <td>None</td>\n",
       "      <td>0</td>\n",
       "    </tr>\n",
       "    <tr>\n",
       "      <th>192</th>\n",
       "      <td>0021901314</td>\n",
       "      <td>279</td>\n",
       "      <td>8</td>\n",
       "      <td>0</td>\n",
       "      <td>2</td>\n",
       "      <td>7:25 PM</td>\n",
       "      <td>4:29</td>\n",
       "      <td>None</td>\n",
       "      <td>None</td>\n",
       "      <td>SUB: Murray FOR Samanic</td>\n",
       "      <td>...</td>\n",
       "      <td>Spurs</td>\n",
       "      <td>SAS</td>\n",
       "      <td>0</td>\n",
       "      <td>0</td>\n",
       "      <td>None</td>\n",
       "      <td>NaN</td>\n",
       "      <td>None</td>\n",
       "      <td>None</td>\n",
       "      <td>None</td>\n",
       "      <td>0</td>\n",
       "    </tr>\n",
       "    <tr>\n",
       "      <th>200</th>\n",
       "      <td>0021901314</td>\n",
       "      <td>293</td>\n",
       "      <td>8</td>\n",
       "      <td>0</td>\n",
       "      <td>2</td>\n",
       "      <td>7:26 PM</td>\n",
       "      <td>3:51</td>\n",
       "      <td>None</td>\n",
       "      <td>None</td>\n",
       "      <td>SUB: Eubanks FOR Metu</td>\n",
       "      <td>...</td>\n",
       "      <td>Spurs</td>\n",
       "      <td>SAS</td>\n",
       "      <td>0</td>\n",
       "      <td>0</td>\n",
       "      <td>None</td>\n",
       "      <td>NaN</td>\n",
       "      <td>None</td>\n",
       "      <td>None</td>\n",
       "      <td>None</td>\n",
       "      <td>0</td>\n",
       "    </tr>\n",
       "    <tr>\n",
       "      <th>210</th>\n",
       "      <td>0021901314</td>\n",
       "      <td>312</td>\n",
       "      <td>8</td>\n",
       "      <td>0</td>\n",
       "      <td>2</td>\n",
       "      <td>7:30 PM</td>\n",
       "      <td>2:46</td>\n",
       "      <td>None</td>\n",
       "      <td>None</td>\n",
       "      <td>SUB: Samanic FOR Walker IV</td>\n",
       "      <td>...</td>\n",
       "      <td>Spurs</td>\n",
       "      <td>SAS</td>\n",
       "      <td>0</td>\n",
       "      <td>0</td>\n",
       "      <td>None</td>\n",
       "      <td>NaN</td>\n",
       "      <td>None</td>\n",
       "      <td>None</td>\n",
       "      <td>None</td>\n",
       "      <td>0</td>\n",
       "    </tr>\n",
       "  </tbody>\n",
       "</table>\n",
       "<p>7 rows × 34 columns</p>\n",
       "</div>"
      ],
      "text/plain": [
       "        GAME_ID  EVENTNUM  EVENTMSGTYPE  EVENTMSGACTIONTYPE  PERIOD  \\\n",
       "143  0021901314       205             8                   0       2   \n",
       "144  0021901314       206             8                   0       2   \n",
       "177  0021901314       253             8                   0       2   \n",
       "178  0021901314       254             8                   0       2   \n",
       "192  0021901314       279             8                   0       2   \n",
       "200  0021901314       293             8                   0       2   \n",
       "210  0021901314       312             8                   0       2   \n",
       "\n",
       "    WCTIMESTRING PCTIMESTRING HOMEDESCRIPTION NEUTRALDESCRIPTION  \\\n",
       "143      7:13 PM         9:15            None               None   \n",
       "144      7:13 PM         9:15            None               None   \n",
       "177      7:21 PM         6:04            None               None   \n",
       "178      7:21 PM         6:04            None               None   \n",
       "192      7:25 PM         4:29            None               None   \n",
       "200      7:26 PM         3:51            None               None   \n",
       "210      7:30 PM         2:46            None               None   \n",
       "\n",
       "               VISITORDESCRIPTION  ... PLAYER2_TEAM_NICKNAME  \\\n",
       "143       SUB: Johnson FOR Murray  ...                 Spurs   \n",
       "144  SUB: Walker IV FOR Belinelli  ...                 Spurs   \n",
       "177       SUB: Poeltl FOR Johnson  ...                 Spurs   \n",
       "178    SUB: Belinelli FOR Eubanks  ...                 Spurs   \n",
       "192       SUB: Murray FOR Samanic  ...                 Spurs   \n",
       "200         SUB: Eubanks FOR Metu  ...                 Spurs   \n",
       "210    SUB: Samanic FOR Walker IV  ...                 Spurs   \n",
       "\n",
       "    PLAYER2_TEAM_ABBREVIATION  PERSON3TYPE  PLAYER3_ID PLAYER3_NAME  \\\n",
       "143                       SAS            0           0         None   \n",
       "144                       SAS            0           0         None   \n",
       "177                       SAS            0           0         None   \n",
       "178                       SAS            0           0         None   \n",
       "192                       SAS            0           0         None   \n",
       "200                       SAS            0           0         None   \n",
       "210                       SAS            0           0         None   \n",
       "\n",
       "     PLAYER3_TEAM_ID PLAYER3_TEAM_CITY PLAYER3_TEAM_NICKNAME  \\\n",
       "143              NaN              None                  None   \n",
       "144              NaN              None                  None   \n",
       "177              NaN              None                  None   \n",
       "178              NaN              None                  None   \n",
       "192              NaN              None                  None   \n",
       "200              NaN              None                  None   \n",
       "210              NaN              None                  None   \n",
       "\n",
       "    PLAYER3_TEAM_ABBREVIATION  VIDEO_AVAILABLE_FLAG  \n",
       "143                      None                     0  \n",
       "144                      None                     0  \n",
       "177                      None                     0  \n",
       "178                      None                     0  \n",
       "192                      None                     0  \n",
       "200                      None                     0  \n",
       "210                      None                     0  \n",
       "\n",
       "[7 rows x 34 columns]"
      ]
     },
     "execution_count": 33,
     "metadata": {},
     "output_type": "execute_result"
    }
   ],
   "source": [
    "pbp_df[(pbp_df.PERIOD == 2) & (pbp_df.VISITORDESCRIPTION.str.contains('SUB'))]"
   ]
  },
  {
   "cell_type": "code",
   "execution_count": 34,
   "metadata": {},
   "outputs": [
    {
     "data": {
      "text/plain": [
       "['Keldon Johnson',\n",
       " 'Luka Samanic',\n",
       " 'Jakob Poeltl',\n",
       " 'Lonnie Walker IV',\n",
       " 'Dejounte Murray',\n",
       " 'Marco Belinelli',\n",
       " 'Quinndary Weatherspoon',\n",
       " 'Drew Eubanks',\n",
       " 'Chimezie Metu',\n",
       " 'DeMar DeRozan',\n",
       " 'Rudy Gay',\n",
       " 'Patty Mills',\n",
       " 'Derrick White']"
      ]
     },
     "execution_count": 34,
     "metadata": {},
     "output_type": "execute_result"
    }
   ],
   "source": [
    "spurs_roster"
   ]
  },
  {
   "cell_type": "code",
   "execution_count": 142,
   "metadata": {},
   "outputs": [],
   "source": [
    "spurs_last_names = [' '.join(l_name.split(' ')[1:]) for l_name in spurs_roster]\n",
    "spurs_re = \"(\" +  ')|('.join(spurs_last_names) + \")\"\n",
    "opp_last_names = [' '.join(l_name.split(' ')[1:]) for l_name in opp_roster]\n",
    "opp_re = '(' + ')|('.join(opp_last_names) + ')'"
   ]
  },
  {
   "cell_type": "code",
   "execution_count": 143,
   "metadata": {},
   "outputs": [
    {
     "data": {
      "text/plain": [
       "'(Johnson)|(Samanic)|(Poeltl)|(Walker IV)|(Murray)|(Belinelli)|(Weatherspoon)|(Eubanks)|(Metu)|(DeRozan)|(Gay)|(Mills)|(White)'"
      ]
     },
     "execution_count": 143,
     "metadata": {},
     "output_type": "execute_result"
    }
   ],
   "source": [
    "spurs_re"
   ]
  },
  {
   "cell_type": "code",
   "execution_count": 111,
   "metadata": {},
   "outputs": [
    {
     "data": {
      "text/plain": [
       "\"(Ingles)|(O'Neale)|(Bradley)|(Clarkson)|(Mitchell)|(Niang)|(Oni)|(Davis)|(Morgan)|(Brantley)|(Tucker)|(Williams-Goss)|(Wright-Foreman)\""
      ]
     },
     "execution_count": 111,
     "metadata": {},
     "output_type": "execute_result"
    }
   ],
   "source": [
    "opp_re"
   ]
  },
  {
   "cell_type": "code",
   "execution_count": 67,
   "metadata": {},
   "outputs": [
    {
     "data": {
      "text/plain": [
       "'(Johnson)|(Samanic)|(Poeltl)|(IV)|(Murray)|(Belinelli)|(Weatherspoon)|(Eubanks)|(Metu)|(DeRozan)|(Gay)|(Mills)|(White)'"
      ]
     },
     "execution_count": 67,
     "metadata": {},
     "output_type": "execute_result"
    }
   ],
   "source": [
    "spurs_re"
   ]
  },
  {
   "cell_type": "code",
   "execution_count": 107,
   "metadata": {},
   "outputs": [
    {
     "data": {
      "text/plain": [
       "\"Ingles|O'Neale|Bradley|Clarkson|Mitchell|Niang|Oni|Davis|Morgan|Brantley|Tucker|Williams-Goss|Wright-Foreman\""
      ]
     },
     "execution_count": 107,
     "metadata": {},
     "output_type": "execute_result"
    }
   ],
   "source": [
    "opp_re"
   ]
  },
  {
   "cell_type": "code",
   "execution_count": 151,
   "metadata": {},
   "outputs": [],
   "source": [
    "p = re.compile(spurs_re)\n",
    "play = sec_q_pbp.VISITORDESCRIPTION.iloc[44]"
   ]
  },
  {
   "cell_type": "code",
   "execution_count": 152,
   "metadata": {},
   "outputs": [
    {
     "data": {
      "text/plain": [
       "\"MISS Samanic 3' Driving Layup\""
      ]
     },
     "execution_count": 152,
     "metadata": {},
     "output_type": "execute_result"
    }
   ],
   "source": [
    "play"
   ]
  },
  {
   "cell_type": "code",
   "execution_count": 155,
   "metadata": {},
   "outputs": [
    {
     "data": {
      "text/plain": [
       "'Samanic'"
      ]
     },
     "execution_count": 155,
     "metadata": {},
     "output_type": "execute_result"
    }
   ],
   "source": [
    "p.search(play).group()"
   ]
  },
  {
   "cell_type": "code",
   "execution_count": 188,
   "metadata": {},
   "outputs": [],
   "source": [
    "sec_q_pbp.HOMEDESCRIPTION.iloc[0]\n",
    "s = re.compile(opp_re)"
   ]
  },
  {
   "cell_type": "code",
   "execution_count": 198,
   "metadata": {},
   "outputs": [
    {
     "ename": "TypeError",
     "evalue": "array() missing required argument 'object' (pos 1)",
     "output_type": "error",
     "traceback": [
      "\u001b[0;31m---------------------------------------------------------------------------\u001b[0m",
      "\u001b[0;31mTypeError\u001b[0m                                 Traceback (most recent call last)",
      "\u001b[0;32m<ipython-input-198-16c87ce4053c>\u001b[0m in \u001b[0;36m<module>\u001b[0;34m\u001b[0m\n\u001b[0;32m----> 1\u001b[0;31m \u001b[0msec_q_starters\u001b[0m \u001b[0;34m=\u001b[0m \u001b[0mnp\u001b[0m\u001b[0;34m.\u001b[0m\u001b[0marray\u001b[0m\u001b[0;34m(\u001b[0m\u001b[0;34m)\u001b[0m\u001b[0;34m\u001b[0m\u001b[0;34m\u001b[0m\u001b[0m\n\u001b[0m\u001b[1;32m      2\u001b[0m \u001b[0mnp\u001b[0m\u001b[0;34m.\u001b[0m\u001b[0minsert\u001b[0m\u001b[0;34m(\u001b[0m\u001b[0msec_q_starters\u001b[0m\u001b[0;34m,\u001b[0m \u001b[0;34m'Davis'\u001b[0m\u001b[0;34m,\u001b[0m \u001b[0;36m0\u001b[0m\u001b[0;34m)\u001b[0m\u001b[0;34m\u001b[0m\u001b[0;34m\u001b[0m\u001b[0m\n",
      "\u001b[0;31mTypeError\u001b[0m: array() missing required argument 'object' (pos 1)"
     ]
    }
   ],
   "source": [
    "sec_q_starters = np.array()\n",
    "np.insert(sec_q_starters, 'Davis')"
   ]
  },
  {
   "cell_type": "code",
   "execution_count": null,
   "metadata": {},
   "outputs": [],
   "source": [
    "def find_starters(period, storage_list, df, sas_or_opp):\n",
    "    # check home or away\n",
    "    # check which team is which\n",
    "    if home_or_away.lower() == 'home':\n",
    "        side == 'HOMEDESCRPTION'\n",
    "    else:\n",
    "        side == 'VISITORDESCRIPTION'\n",
    "    period_pbp = df[(df.PERIOD == period) & (pbp_df[side].notnull())]\n",
    "    \n",
    "    match = \n",
    "    \n",
    "    pass"
   ]
  },
  {
   "cell_type": "code",
   "execution_count": 205,
   "metadata": {},
   "outputs": [
    {
     "name": "stdout",
     "output_type": "stream",
     "text": [
      "Davis\n",
      "Davis\n",
      "Clarkson\n",
      "Davis\n",
      "Clarkson\n",
      "Ingles\n",
      "Davis\n",
      "Ingles\n",
      "Davis\n",
      "Davis\n",
      "Mitchell\n",
      "O'Neale\n",
      "Oni\n",
      "Clarkson\n",
      "Mitchell\n",
      "Davis\n",
      "Davis\n",
      "Davis\n",
      "Brantley\n",
      "Bradley\n",
      "O'Neale\n",
      "Bradley\n",
      "Bradley\n",
      "O'Neale\n",
      "Mitchell\n",
      "Brantley\n",
      "Bradley\n",
      "Bradley\n",
      "Brantley\n",
      "Brantley\n",
      "Mitchell\n",
      "Niang\n",
      "Clarkson\n",
      "Clarkson\n",
      "Oni\n",
      "Tucker\n",
      "Oni\n",
      "Niang\n",
      "Oni\n",
      "Brantley\n",
      "Bradley\n",
      "Tucker\n",
      "Brantley\n",
      "Niang\n",
      "Brantley\n",
      "Brantley\n",
      "Bradley\n",
      "Tucker\n",
      "Tucker\n",
      "Niang\n",
      "Niang\n",
      "Tucker\n",
      "Tucker\n",
      "Brantley\n",
      "Brantley\n",
      "Bradley\n",
      "Bradley\n"
     ]
    }
   ],
   "source": [
    "# get 2nd quarter starters list\n",
    "\n",
    "sec_q_starters = list()\n",
    "\n",
    "sec_q_pbp = pbp_df[(pbp_df.PERIOD == 2) & (pbp_df.HOMEDESCRIPTION.notnull())].copy()\n",
    "\n",
    "for play in range(len(sec_q_pbp)):\n",
    "    play_descrip = sec_q_pbp.HOMEDESCRIPTION.iloc[play]\n",
    "        \n",
    "    match = s.search(play_descrip)\n",
    "    try:\n",
    "        player = match.group()\n",
    "        print(player)\n",
    "        if player in sec_q_starters:\n",
    "            continue\n",
    "        else:\n",
    "            sec_q_starters.append(player)\n",
    "    except:\n",
    "        continue"
   ]
  },
  {
   "cell_type": "code",
   "execution_count": 208,
   "metadata": {},
   "outputs": [
    {
     "data": {
      "text/plain": [
       "array(['Davis', 'Clarkson', 'Ingles', 'Mitchell', \"O'Neale\"], dtype='<U8')"
      ]
     },
     "execution_count": 208,
     "metadata": {},
     "output_type": "execute_result"
    }
   ],
   "source": [
    "np.array(sec_q_starters)[:5]"
   ]
  },
  {
   "cell_type": "code",
   "execution_count": 187,
   "metadata": {},
   "outputs": [
    {
     "name": "stdout",
     "output_type": "stream",
     "text": [
      "None\n"
     ]
    }
   ],
   "source": [
    "print(s.search(sec_q_pbp.HOMEDESCRIPTION.iloc[0]))"
   ]
  },
  {
   "cell_type": "code",
   "execution_count": null,
   "metadata": {},
   "outputs": [],
   "source": [
    "prin"
   ]
  },
  {
   "cell_type": "markdown",
   "metadata": {},
   "source": [
    "# Create rotations data for visualization"
   ]
  },
  {
   "cell_type": "code",
   "execution_count": 47,
   "metadata": {},
   "outputs": [
    {
     "data": {
      "text/plain": [
       "True"
      ]
     },
     "execution_count": 47,
     "metadata": {},
     "output_type": "execute_result"
    }
   ],
   "source": [
    "any(l_name in sec_q_pbp.iloc[0].VISITORDESCRIPTION for l_name in spurs_last_names)"
   ]
  },
  {
   "cell_type": "code",
   "execution_count": 31,
   "metadata": {},
   "outputs": [],
   "source": [
    "# find starters for each team\n",
    "# at the start of each quarter, track down the five players initally in the game"
   ]
  }
 ],
 "metadata": {
  "kernelspec": {
   "display_name": "Python 3",
   "language": "python",
   "name": "python3"
  },
  "language_info": {
   "codemirror_mode": {
    "name": "ipython",
    "version": 3
   },
   "file_extension": ".py",
   "mimetype": "text/x-python",
   "name": "python",
   "nbconvert_exporter": "python",
   "pygments_lexer": "ipython3",
   "version": "3.7.7"
  }
 },
 "nbformat": 4,
 "nbformat_minor": 4
}
