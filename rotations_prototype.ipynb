{
 "cells": [
  {
   "cell_type": "markdown",
   "metadata": {},
   "source": [
    "# Create rotations chart data"
   ]
  },
  {
   "cell_type": "markdown",
   "metadata": {},
   "source": [
    "# Setup"
   ]
  },
  {
   "cell_type": "code",
   "execution_count": 1,
   "metadata": {},
   "outputs": [],
   "source": [
    "import pandas as pd\n",
    "import numpy as np\n",
    "import nba_api\n",
    "import re"
   ]
  },
  {
   "cell_type": "code",
   "execution_count": 2,
   "metadata": {},
   "outputs": [],
   "source": [
    "from nba_api.stats.static.teams import get_teams, find_teams_by_nickname\n",
    "from nba_api.stats.endpoints import LeagueGameFinder\n",
    "from nba_api.stats.endpoints import PlayByPlayV2\n",
    "from nba_api.stats.endpoints import PlayByPlay\n",
    "from nba_api.stats.endpoints import BoxScorePlayerTrackV2"
   ]
  },
  {
   "cell_type": "markdown",
   "metadata": {},
   "source": [
    "## Import data sheet for home/away"
   ]
  },
  {
   "cell_type": "code",
   "execution_count": 3,
   "metadata": {},
   "outputs": [],
   "source": [
    "spurs_file = 'data/team_box_scores_spurs.json'\n",
    "opp_file = 'data/team_box_scores_opp.json'\n",
    "\n",
    "spurs_df = pd.read_json(spurs_file)\n",
    "opp_df = pd.read_json(opp_file)\n",
    "\n",
    "spurs_home = True"
   ]
  },
  {
   "cell_type": "code",
   "execution_count": 4,
   "metadata": {},
   "outputs": [
    {
     "output_type": "execute_result",
     "data": {
      "text/plain": [
       "  TEAM_ABBREVIATION   home  PTS     FG FG_PCT     2P     3P FG3_PCT     FT  \\\n",
       "0               SAS  False  131  48-95    50%  38-70  10-25     40%  25-29   \n",
       "\n",
       "  FT_PCT  AST  REB  DREB  OREB  BLK  STL  TO  PF  \n",
       "0    86%   28   48    40     8    8    8  10  18  "
      ],
      "text/html": "<div>\n<style scoped>\n    .dataframe tbody tr th:only-of-type {\n        vertical-align: middle;\n    }\n\n    .dataframe tbody tr th {\n        vertical-align: top;\n    }\n\n    .dataframe thead th {\n        text-align: right;\n    }\n</style>\n<table border=\"1\" class=\"dataframe\">\n  <thead>\n    <tr style=\"text-align: right;\">\n      <th></th>\n      <th>TEAM_ABBREVIATION</th>\n      <th>home</th>\n      <th>PTS</th>\n      <th>FG</th>\n      <th>FG_PCT</th>\n      <th>2P</th>\n      <th>3P</th>\n      <th>FG3_PCT</th>\n      <th>FT</th>\n      <th>FT_PCT</th>\n      <th>AST</th>\n      <th>REB</th>\n      <th>DREB</th>\n      <th>OREB</th>\n      <th>BLK</th>\n      <th>STL</th>\n      <th>TO</th>\n      <th>PF</th>\n    </tr>\n  </thead>\n  <tbody>\n    <tr>\n      <th>0</th>\n      <td>SAS</td>\n      <td>False</td>\n      <td>131</td>\n      <td>48-95</td>\n      <td>50%</td>\n      <td>38-70</td>\n      <td>10-25</td>\n      <td>40%</td>\n      <td>25-29</td>\n      <td>86%</td>\n      <td>28</td>\n      <td>48</td>\n      <td>40</td>\n      <td>8</td>\n      <td>8</td>\n      <td>8</td>\n      <td>10</td>\n      <td>18</td>\n    </tr>\n  </tbody>\n</table>\n</div>"
     },
     "metadata": {},
     "execution_count": 4
    }
   ],
   "source": [
    "spurs_df.head()"
   ]
  },
  {
   "cell_type": "code",
   "execution_count": 5,
   "metadata": {},
   "outputs": [
    {
     "output_type": "execute_result",
     "data": {
      "text/plain": [
       "  TEAM_ABBREVIATION  home  PTS     FG FG_PCT     2P     3P FG3_PCT     FT  \\\n",
       "0               MEM  True  119  49-95    52%  39-68  10-27     37%  11-18   \n",
       "\n",
       "  FT_PCT  AST  REB  DREB  OREB  BLK  STL  TO  PF  \n",
       "0    61%   27   42    37     5    8    6  11  20  "
      ],
      "text/html": "<div>\n<style scoped>\n    .dataframe tbody tr th:only-of-type {\n        vertical-align: middle;\n    }\n\n    .dataframe tbody tr th {\n        vertical-align: top;\n    }\n\n    .dataframe thead th {\n        text-align: right;\n    }\n</style>\n<table border=\"1\" class=\"dataframe\">\n  <thead>\n    <tr style=\"text-align: right;\">\n      <th></th>\n      <th>TEAM_ABBREVIATION</th>\n      <th>home</th>\n      <th>PTS</th>\n      <th>FG</th>\n      <th>FG_PCT</th>\n      <th>2P</th>\n      <th>3P</th>\n      <th>FG3_PCT</th>\n      <th>FT</th>\n      <th>FT_PCT</th>\n      <th>AST</th>\n      <th>REB</th>\n      <th>DREB</th>\n      <th>OREB</th>\n      <th>BLK</th>\n      <th>STL</th>\n      <th>TO</th>\n      <th>PF</th>\n    </tr>\n  </thead>\n  <tbody>\n    <tr>\n      <th>0</th>\n      <td>MEM</td>\n      <td>True</td>\n      <td>119</td>\n      <td>49-95</td>\n      <td>52%</td>\n      <td>39-68</td>\n      <td>10-27</td>\n      <td>37%</td>\n      <td>11-18</td>\n      <td>61%</td>\n      <td>27</td>\n      <td>42</td>\n      <td>37</td>\n      <td>5</td>\n      <td>8</td>\n      <td>6</td>\n      <td>11</td>\n      <td>20</td>\n    </tr>\n  </tbody>\n</table>\n</div>"
     },
     "metadata": {},
     "execution_count": 5
    }
   ],
   "source": [
    "opp_df.head()"
   ]
  },
  {
   "cell_type": "code",
   "execution_count": 6,
   "metadata": {},
   "outputs": [],
   "source": [
    "if spurs_df.home.iloc[0] == 'away':\n",
    "    spurs_home = False\n",
    "else:\n",
    "    spurs_home = True"
   ]
  },
  {
   "cell_type": "code",
   "execution_count": 7,
   "metadata": {
    "jupyter": {
     "source_hidden": true
    }
   },
   "outputs": [],
   "source": [
    "spurs_info = find_teams_by_nickname('Spurs')\n",
    "spurs_id = spurs_info[0]['id']\n",
    "\n",
    "# find all Spurs games\n",
    "gamefinder = LeagueGameFinder(team_id_nullable=spurs_id,\n",
    "                                              season_nullable='2019-20')\n",
    "team_box_scores_df = gamefinder.get_data_frames()[0]\n",
    "team_box_scores_df.head(n=10)\n",
    "\n",
    "spurs_games = list(team_box_scores_df.GAME_ID.unique()) # grab unique list of game IDs\n",
    "\n",
    "test_game = spurs_games[0]"
   ]
  },
  {
   "cell_type": "markdown",
   "metadata": {},
   "source": [
    "## Get list of active players and starters for each team"
   ]
  },
  {
   "cell_type": "code",
   "execution_count": 8,
   "metadata": {},
   "outputs": [],
   "source": [
    "# get list of rosters and starting players\n",
    "roster_data_df = BoxScorePlayerTrackV2(game_id=test_game).data_sets[0].get_data_frame()\n",
    "starters_df = roster_data_df[roster_data_df.START_POSITION.isin(['F', 'G', 'C'])]\n",
    "spurs_starters = list(starters_df[starters_df.TEAM_ABBREVIATION == 'SAS'].PLAYER_NAME)\n",
    "opp_starters = list(starters_df[starters_df.TEAM_ABBREVIATION != 'SAS'].PLAYER_NAME)\n",
    "spurs_roster = list(roster_data_df[roster_data_df.TEAM_ABBREVIATION == 'SAS'].PLAYER_NAME)\n",
    "opp_roster = list(roster_data_df[roster_data_df.TEAM_ABBREVIATION != 'SAS'].PLAYER_NAME)"
   ]
  },
  {
   "cell_type": "code",
   "execution_count": 9,
   "metadata": {},
   "outputs": [],
   "source": [
    "pbp = PlayByPlayV2(game_id=test_game).data_sets"
   ]
  },
  {
   "cell_type": "code",
   "execution_count": 10,
   "metadata": {},
   "outputs": [
    {
     "output_type": "execute_result",
     "data": {
      "text/plain": [
       "      GAME_ID  EVENTNUM  EVENTMSGTYPE  EVENTMSGACTIONTYPE  PERIOD  \\\n",
       "0  0021901314         2            12                   0       1   \n",
       "1  0021901314         4            10                   0       1   \n",
       "2  0021901314         7             1                  47       1   \n",
       "3  0021901314         9             2                  78       1   \n",
       "4  0021901314        11             4                   0       1   \n",
       "\n",
       "  WCTIMESTRING PCTIMESTRING  \\\n",
       "0      6:38 PM        12:00   \n",
       "1      6:38 PM        12:00   \n",
       "2      6:38 PM        11:46   \n",
       "3      6:38 PM        11:31   \n",
       "4      6:38 PM        11:28   \n",
       "\n",
       "                                     HOMEDESCRIPTION NEUTRALDESCRIPTION  \\\n",
       "0                                               None               None   \n",
       "1        Jump Ball Bradley vs. Poeltl: Tip to Ingles               None   \n",
       "2  Clarkson 7' Turnaround Jump Shot (2 PTS) (Mitc...               None   \n",
       "3                              O'Neale BLOCK (1 BLK)               None   \n",
       "4                      Bradley REBOUND (Off:0 Def:1)               None   \n",
       "\n",
       "                   VISITORDESCRIPTION  ... PLAYER2_TEAM_NICKNAME  \\\n",
       "0                                None  ...                  None   \n",
       "1                                None  ...                 Spurs   \n",
       "2                                None  ...                  Jazz   \n",
       "3  MISS Samanic 4' Floating Jump Shot  ...                  None   \n",
       "4                                None  ...                  None   \n",
       "\n",
       "  PLAYER2_TEAM_ABBREVIATION  PERSON3TYPE  PLAYER3_ID   PLAYER3_NAME  \\\n",
       "0                      None            0           0           None   \n",
       "1                       SAS            4      204060     Joe Ingles   \n",
       "2                       UTA            0           0           None   \n",
       "3                      None            4     1626220  Royce O'Neale   \n",
       "4                      None            0           0           None   \n",
       "\n",
       "   PLAYER3_TEAM_ID PLAYER3_TEAM_CITY PLAYER3_TEAM_NICKNAME  \\\n",
       "0              NaN              None                  None   \n",
       "1     1.610613e+09              Utah                  Jazz   \n",
       "2              NaN              None                  None   \n",
       "3     1.610613e+09              Utah                  Jazz   \n",
       "4              NaN              None                  None   \n",
       "\n",
       "  PLAYER3_TEAM_ABBREVIATION  VIDEO_AVAILABLE_FLAG  \n",
       "0                      None                     0  \n",
       "1                       UTA                     1  \n",
       "2                      None                     1  \n",
       "3                       UTA                     1  \n",
       "4                      None                     1  \n",
       "\n",
       "[5 rows x 34 columns]"
      ],
      "text/html": "<div>\n<style scoped>\n    .dataframe tbody tr th:only-of-type {\n        vertical-align: middle;\n    }\n\n    .dataframe tbody tr th {\n        vertical-align: top;\n    }\n\n    .dataframe thead th {\n        text-align: right;\n    }\n</style>\n<table border=\"1\" class=\"dataframe\">\n  <thead>\n    <tr style=\"text-align: right;\">\n      <th></th>\n      <th>GAME_ID</th>\n      <th>EVENTNUM</th>\n      <th>EVENTMSGTYPE</th>\n      <th>EVENTMSGACTIONTYPE</th>\n      <th>PERIOD</th>\n      <th>WCTIMESTRING</th>\n      <th>PCTIMESTRING</th>\n      <th>HOMEDESCRIPTION</th>\n      <th>NEUTRALDESCRIPTION</th>\n      <th>VISITORDESCRIPTION</th>\n      <th>...</th>\n      <th>PLAYER2_TEAM_NICKNAME</th>\n      <th>PLAYER2_TEAM_ABBREVIATION</th>\n      <th>PERSON3TYPE</th>\n      <th>PLAYER3_ID</th>\n      <th>PLAYER3_NAME</th>\n      <th>PLAYER3_TEAM_ID</th>\n      <th>PLAYER3_TEAM_CITY</th>\n      <th>PLAYER3_TEAM_NICKNAME</th>\n      <th>PLAYER3_TEAM_ABBREVIATION</th>\n      <th>VIDEO_AVAILABLE_FLAG</th>\n    </tr>\n  </thead>\n  <tbody>\n    <tr>\n      <th>0</th>\n      <td>0021901314</td>\n      <td>2</td>\n      <td>12</td>\n      <td>0</td>\n      <td>1</td>\n      <td>6:38 PM</td>\n      <td>12:00</td>\n      <td>None</td>\n      <td>None</td>\n      <td>None</td>\n      <td>...</td>\n      <td>None</td>\n      <td>None</td>\n      <td>0</td>\n      <td>0</td>\n      <td>None</td>\n      <td>NaN</td>\n      <td>None</td>\n      <td>None</td>\n      <td>None</td>\n      <td>0</td>\n    </tr>\n    <tr>\n      <th>1</th>\n      <td>0021901314</td>\n      <td>4</td>\n      <td>10</td>\n      <td>0</td>\n      <td>1</td>\n      <td>6:38 PM</td>\n      <td>12:00</td>\n      <td>Jump Ball Bradley vs. Poeltl: Tip to Ingles</td>\n      <td>None</td>\n      <td>None</td>\n      <td>...</td>\n      <td>Spurs</td>\n      <td>SAS</td>\n      <td>4</td>\n      <td>204060</td>\n      <td>Joe Ingles</td>\n      <td>1.610613e+09</td>\n      <td>Utah</td>\n      <td>Jazz</td>\n      <td>UTA</td>\n      <td>1</td>\n    </tr>\n    <tr>\n      <th>2</th>\n      <td>0021901314</td>\n      <td>7</td>\n      <td>1</td>\n      <td>47</td>\n      <td>1</td>\n      <td>6:38 PM</td>\n      <td>11:46</td>\n      <td>Clarkson 7' Turnaround Jump Shot (2 PTS) (Mitc...</td>\n      <td>None</td>\n      <td>None</td>\n      <td>...</td>\n      <td>Jazz</td>\n      <td>UTA</td>\n      <td>0</td>\n      <td>0</td>\n      <td>None</td>\n      <td>NaN</td>\n      <td>None</td>\n      <td>None</td>\n      <td>None</td>\n      <td>1</td>\n    </tr>\n    <tr>\n      <th>3</th>\n      <td>0021901314</td>\n      <td>9</td>\n      <td>2</td>\n      <td>78</td>\n      <td>1</td>\n      <td>6:38 PM</td>\n      <td>11:31</td>\n      <td>O'Neale BLOCK (1 BLK)</td>\n      <td>None</td>\n      <td>MISS Samanic 4' Floating Jump Shot</td>\n      <td>...</td>\n      <td>None</td>\n      <td>None</td>\n      <td>4</td>\n      <td>1626220</td>\n      <td>Royce O'Neale</td>\n      <td>1.610613e+09</td>\n      <td>Utah</td>\n      <td>Jazz</td>\n      <td>UTA</td>\n      <td>1</td>\n    </tr>\n    <tr>\n      <th>4</th>\n      <td>0021901314</td>\n      <td>11</td>\n      <td>4</td>\n      <td>0</td>\n      <td>1</td>\n      <td>6:38 PM</td>\n      <td>11:28</td>\n      <td>Bradley REBOUND (Off:0 Def:1)</td>\n      <td>None</td>\n      <td>None</td>\n      <td>...</td>\n      <td>None</td>\n      <td>None</td>\n      <td>0</td>\n      <td>0</td>\n      <td>None</td>\n      <td>NaN</td>\n      <td>None</td>\n      <td>None</td>\n      <td>None</td>\n      <td>1</td>\n    </tr>\n  </tbody>\n</table>\n<p>5 rows × 34 columns</p>\n</div>"
     },
     "metadata": {},
     "execution_count": 10
    }
   ],
   "source": [
    "pbp_df = pbp[0].get_data_frame()\n",
    "pbp_df.head(n=5)"
   ]
  },
  {
   "cell_type": "markdown",
   "metadata": {},
   "source": [
    "# Functions"
   ]
  },
  {
   "cell_type": "code",
   "execution_count": 11,
   "metadata": {},
   "outputs": [],
   "source": [
    "def conv_time_to_sec(time):\n",
    "    \"\"\"\n",
    "    This function takes a string quarter time marker and converts it to elapsed game time in seconds.\n",
    "    Input example: '7:12'\n",
    "    Output example: 288\n",
    "    \"\"\"\n",
    "    split_time = time.split(':')\n",
    "    # convert time to seconds\n",
    "    # seconds in elapsed time\n",
    "    new_time = int(split_time[0]) * 60 + int(split_time[1])\n",
    "    new_time = 12*60 - new_time\n",
    "    return new_time"
   ]
  },
  {
   "cell_type": "code",
   "execution_count": 12,
   "metadata": {},
   "outputs": [],
   "source": [
    "def get_col(spurs_or_opp):\n",
    "    \"\"\" \n",
    "    This function determines whether the spurs or opponent is the home team and returns the \n",
    "    appropriate regex player set match and dataframe column.\n",
    "    \n",
    "    spurs_or_opp can be 'spurs' or 'opp'\n",
    "    \"\"\"\n",
    "    text_col = '{}DESCRIPTION'\n",
    "    # check home or away\n",
    "    if spurs_or_opp == 'spurs':\n",
    "        re_match = spurs_players_re\n",
    "        if spurs_home == True:\n",
    "            side = text_col.format('HOME')\n",
    "        elif spurs_home == False:\n",
    "            side = text_col.format('VISITOR')\n",
    "    elif spurs_or_opp == 'opp':\n",
    "        re_match = opp_players_re\n",
    "        if spurs_home == True:\n",
    "            side = text_col.format('VISITOR')\n",
    "        else:\n",
    "            side = text_col.format('HOME')\n",
    "    \n",
    "    return side, re_match"
   ]
  },
  {
   "cell_type": "code",
   "execution_count": 13,
   "metadata": {},
   "outputs": [],
   "source": [
    "def create_period_starters_list(period, df, spurs_or_opp):\n",
    "    \"\"\"\n",
    "    This function returns the 5 players which started a certain period.\n",
    "    It works by acquiring a unique list of players appearing in play by play then\n",
    "    returning the first 5 names. \n",
    "    \n",
    "    spurs_or_opp = 'spurs' or 'opp'\n",
    "    period is an integer figure between 2-4\n",
    "    df = play by play dataframe\n",
    "    \"\"\"\n",
    "    data = list()\n",
    "    side, re_match = get_col(spurs_or_opp)\n",
    "    period_pbp = df[(df.PERIOD == period) & (pbp_df[side].notnull())]\n",
    "    \n",
    "    num_rows = period_pbp[side].shape[0]\n",
    "    \n",
    "    for i in range(num_rows):\n",
    "        play_descrip = period_pbp[side].iloc[i]\n",
    "        try:\n",
    "            player_match = re_match.search(play_descrip).group()\n",
    "            if player_match in data:\n",
    "                continue\n",
    "            else:\n",
    "                data.append(player_match)\n",
    "        except:\n",
    "            continue\n",
    "    \n",
    "    return data[:5]"
   ]
  },
  {
   "cell_type": "code",
   "execution_count": 14,
   "metadata": {},
   "outputs": [],
   "source": [
    "def split_player_out(pbp):\n",
    "    \"\"\"\n",
    "    Takes in a substitution play by play line and outputs the last name of the player exiting the game.\n",
    "    \"\"\"\n",
    "    split_pbp = pbp.split('FOR')\n",
    "    return split_pbp[1].strip() # remove all white space"
   ]
  },
  {
   "cell_type": "code",
   "execution_count": 15,
   "metadata": {},
   "outputs": [],
   "source": [
    "def split_player_in(pbp):\n",
    "    \"\"\"\n",
    "    Takes in a sub play by play line and outputs the last name of the player entering the game.\n",
    "    \"\"\"\n",
    "    split_pbp = pbp.split('FOR')\n",
    "    return split_pbp[0][4:].strip() # remove white space & 'SUB: '"
   ]
  },
  {
   "cell_type": "code",
   "execution_count": 16,
   "metadata": {},
   "outputs": [],
   "source": [
    "def round_game_time(time_mark):\n",
    "    \"\"\"\n",
    "    This function takes a time mark in seconds as an input and outputs \n",
    "    a rounded minute figure. \n",
    "    \n",
    "    Inputs should be converted to seconds before use. \n",
    "    \n",
    "    Outputs are rounded to the nearest 30 second marker.\n",
    "    \n",
    "    Example: \n",
    "    Input: 238\n",
    "    Output: 240\n",
    "    \"\"\"\n",
    "    minute_markers = [i*60 for i in range(1, 49)]\n",
    "    for i in range(len(minute_markers)):\n",
    "        diff = abs(minute_markers[i] - time_mark)\n",
    "        if diff <= 30:\n",
    "            return minute_markers[i]\n",
    "        elif diff <= 60:\n",
    "            return minute_markers[i+1]\n",
    "        else:\n",
    "            continue"
   ]
  },
  {
   "cell_type": "markdown",
   "metadata": {},
   "source": [
    "# Parse PBP data"
   ]
  },
  {
   "cell_type": "markdown",
   "metadata": {},
   "source": [
    "## Gather quarterly starters"
   ]
  },
  {
   "cell_type": "code",
   "execution_count": 17,
   "metadata": {},
   "outputs": [],
   "source": [
    "# Create regex of both rosters\n",
    "spurs_last_names = [' '.join(l_name.split(' ')[1:]) for l_name in spurs_roster]\n",
    "spurs_re = \"(\" +  ')|('.join(spurs_last_names) + \")\"\n",
    "opp_last_names = [' '.join(l_name.split(' ')[1:]) for l_name in opp_roster]\n",
    "opp_re = '(' + ')|('.join(opp_last_names) + ')'"
   ]
  },
  {
   "cell_type": "code",
   "execution_count": 18,
   "metadata": {},
   "outputs": [],
   "source": [
    "# compile regex patterns\n",
    "spurs_players_re = re.compile(spurs_re)\n",
    "opp_players_re = re.compile(opp_re)"
   ]
  },
  {
   "cell_type": "code",
   "execution_count": 28,
   "metadata": {},
   "outputs": [
    {
     "output_type": "execute_result",
     "data": {
      "text/plain": [
       "re.compile(r'(Johnson)|(Samanic)|(Poeltl)|(Walker IV)|(Murray)|(Belinelli)|(Weatherspoon)|(Eubanks)|(Metu)|(DeRozan)|(Gay)|(Mills)|(White)',\n",
       "re.UNICODE)"
      ]
     },
     "metadata": {},
     "execution_count": 28
    }
   ],
   "source": [
    "spurs_players_re"
   ]
  },
  {
   "cell_type": "code",
   "execution_count": 19,
   "metadata": {},
   "outputs": [],
   "source": [
    "# Get all quarter starters\n",
    "spurs_second_starters = create_period_starters_list(2, pbp_df, 'spurs')\n",
    "spurs_third_starters = create_period_starters_list(3, pbp_df, 'spurs')\n",
    "spurs_fourth_starters = create_period_starters_list(4, pbp_df, 'spurs')\n",
    "\n",
    "opp_second_starters = create_period_starters_list(2, pbp_df, 'opp')\n",
    "opp_third_starters = create_period_starters_list(3, pbp_df, 'opp')\n",
    "opp_fourth_starters = create_period_starters_list(4, pbp_df, 'opp')"
   ]
  },
  {
   "cell_type": "code",
   "execution_count": 27,
   "metadata": {},
   "outputs": [
    {
     "output_type": "execute_result",
     "data": {
      "text/plain": [
       "[]"
      ]
     },
     "metadata": {},
     "execution_count": 27
    }
   ],
   "source": [
    "spurs_second_starters"
   ]
  },
  {
   "cell_type": "markdown",
   "metadata": {},
   "source": [
    "## Get sub data"
   ]
  },
  {
   "cell_type": "code",
   "execution_count": 20,
   "metadata": {},
   "outputs": [],
   "source": [
    "# Get appropriate column for each team\n",
    "spurs_col = get_col('spurs')[0]\n",
    "opp_col = get_col('opp')[0]"
   ]
  },
  {
   "cell_type": "code",
   "execution_count": 21,
   "metadata": {},
   "outputs": [],
   "source": [
    "# Grab sub column \n",
    "spurs_sub_df = pbp_df[\n",
    "    (pbp_df[spurs_col].notnull()) & # remove None values\n",
    "    (pbp_df[spurs_col].str.contains('SUB')) # query if it contains subs\n",
    "][['GAME_ID', 'PERIOD', 'PCTIMESTRING', spurs_col]].copy()\n",
    "\n",
    "opp_sub_df = pbp_df[\n",
    "    (pbp_df[opp_col].notnull()) &\n",
    "    (pbp_df[opp_col].str.contains('SUB'))\n",
    "][['GAME_ID', 'PERIOD', 'PCTIMESTRING', opp_col]].copy()"
   ]
  },
  {
   "cell_type": "code",
   "execution_count": 29,
   "metadata": {},
   "outputs": [
    {
     "output_type": "execute_result",
     "data": {
      "text/plain": [
       "        GAME_ID  PERIOD PCTIMESTRING                   HOMEDESCRIPTION\n",
       "45   0021901314       1         6:16           SUB: Niang FOR Clarkson\n",
       "46   0021901314       1         6:16               SUB: Oni FOR Ingles\n",
       "67   0021901314       1         3:51           SUB: Ingles FOR Bradley\n",
       "68   0021901314       1         3:51            SUB: Davis FOR O'Neale\n",
       "69   0021901314       1         3:51        SUB: Clarkson FOR Mitchell\n",
       "70   0021901314       1         3:51               SUB: Morgan FOR Oni\n",
       "140  0021901314       2         9:15          SUB: Mitchell FOR Ingles\n",
       "141  0021901314       2         9:15           SUB: O'Neale FOR Morgan\n",
       "142  0021901314       2         9:15                SUB: Oni FOR Niang\n",
       "155  0021901314       2         8:24        SUB: Brantley FOR Clarkson\n",
       "158  0021901314       2         8:22            SUB: Bradley FOR Davis\n",
       "179  0021901314       2         6:04            SUB: Niang FOR O'Neale\n",
       "180  0021901314       2         6:04        SUB: Clarkson FOR Mitchell\n",
       "186  0021901314       2         5:13          SUB: Tucker FOR Clarkson\n",
       "282  0021901314       3         6:50               SUB: Tucker FOR Oni\n",
       "283  0021901314       3         6:50  SUB: Wright-Foreman FOR Brantley\n",
       "284  0021901314       3         6:50           SUB: Morgan FOR Bradley\n",
       "308  0021901314       3         5:05           SUB: Brantley FOR Niang\n",
       "393  0021901314       4         8:23     SUB: Morgan FOR Williams-Goss\n",
       "402  0021901314       4         6:34   SUB: Williams-Goss FOR Brantley\n",
       "423  0021901314       4         4:54  SUB: Brantley FOR Wright-Foreman\n",
       "443  0021901314       4         3:01       SUB: Wright-Foreman FOR Oni"
      ],
      "text/html": "<div>\n<style scoped>\n    .dataframe tbody tr th:only-of-type {\n        vertical-align: middle;\n    }\n\n    .dataframe tbody tr th {\n        vertical-align: top;\n    }\n\n    .dataframe thead th {\n        text-align: right;\n    }\n</style>\n<table border=\"1\" class=\"dataframe\">\n  <thead>\n    <tr style=\"text-align: right;\">\n      <th></th>\n      <th>GAME_ID</th>\n      <th>PERIOD</th>\n      <th>PCTIMESTRING</th>\n      <th>HOMEDESCRIPTION</th>\n    </tr>\n  </thead>\n  <tbody>\n    <tr>\n      <th>45</th>\n      <td>0021901314</td>\n      <td>1</td>\n      <td>6:16</td>\n      <td>SUB: Niang FOR Clarkson</td>\n    </tr>\n    <tr>\n      <th>46</th>\n      <td>0021901314</td>\n      <td>1</td>\n      <td>6:16</td>\n      <td>SUB: Oni FOR Ingles</td>\n    </tr>\n    <tr>\n      <th>67</th>\n      <td>0021901314</td>\n      <td>1</td>\n      <td>3:51</td>\n      <td>SUB: Ingles FOR Bradley</td>\n    </tr>\n    <tr>\n      <th>68</th>\n      <td>0021901314</td>\n      <td>1</td>\n      <td>3:51</td>\n      <td>SUB: Davis FOR O'Neale</td>\n    </tr>\n    <tr>\n      <th>69</th>\n      <td>0021901314</td>\n      <td>1</td>\n      <td>3:51</td>\n      <td>SUB: Clarkson FOR Mitchell</td>\n    </tr>\n    <tr>\n      <th>70</th>\n      <td>0021901314</td>\n      <td>1</td>\n      <td>3:51</td>\n      <td>SUB: Morgan FOR Oni</td>\n    </tr>\n    <tr>\n      <th>140</th>\n      <td>0021901314</td>\n      <td>2</td>\n      <td>9:15</td>\n      <td>SUB: Mitchell FOR Ingles</td>\n    </tr>\n    <tr>\n      <th>141</th>\n      <td>0021901314</td>\n      <td>2</td>\n      <td>9:15</td>\n      <td>SUB: O'Neale FOR Morgan</td>\n    </tr>\n    <tr>\n      <th>142</th>\n      <td>0021901314</td>\n      <td>2</td>\n      <td>9:15</td>\n      <td>SUB: Oni FOR Niang</td>\n    </tr>\n    <tr>\n      <th>155</th>\n      <td>0021901314</td>\n      <td>2</td>\n      <td>8:24</td>\n      <td>SUB: Brantley FOR Clarkson</td>\n    </tr>\n    <tr>\n      <th>158</th>\n      <td>0021901314</td>\n      <td>2</td>\n      <td>8:22</td>\n      <td>SUB: Bradley FOR Davis</td>\n    </tr>\n    <tr>\n      <th>179</th>\n      <td>0021901314</td>\n      <td>2</td>\n      <td>6:04</td>\n      <td>SUB: Niang FOR O'Neale</td>\n    </tr>\n    <tr>\n      <th>180</th>\n      <td>0021901314</td>\n      <td>2</td>\n      <td>6:04</td>\n      <td>SUB: Clarkson FOR Mitchell</td>\n    </tr>\n    <tr>\n      <th>186</th>\n      <td>0021901314</td>\n      <td>2</td>\n      <td>5:13</td>\n      <td>SUB: Tucker FOR Clarkson</td>\n    </tr>\n    <tr>\n      <th>282</th>\n      <td>0021901314</td>\n      <td>3</td>\n      <td>6:50</td>\n      <td>SUB: Tucker FOR Oni</td>\n    </tr>\n    <tr>\n      <th>283</th>\n      <td>0021901314</td>\n      <td>3</td>\n      <td>6:50</td>\n      <td>SUB: Wright-Foreman FOR Brantley</td>\n    </tr>\n    <tr>\n      <th>284</th>\n      <td>0021901314</td>\n      <td>3</td>\n      <td>6:50</td>\n      <td>SUB: Morgan FOR Bradley</td>\n    </tr>\n    <tr>\n      <th>308</th>\n      <td>0021901314</td>\n      <td>3</td>\n      <td>5:05</td>\n      <td>SUB: Brantley FOR Niang</td>\n    </tr>\n    <tr>\n      <th>393</th>\n      <td>0021901314</td>\n      <td>4</td>\n      <td>8:23</td>\n      <td>SUB: Morgan FOR Williams-Goss</td>\n    </tr>\n    <tr>\n      <th>402</th>\n      <td>0021901314</td>\n      <td>4</td>\n      <td>6:34</td>\n      <td>SUB: Williams-Goss FOR Brantley</td>\n    </tr>\n    <tr>\n      <th>423</th>\n      <td>0021901314</td>\n      <td>4</td>\n      <td>4:54</td>\n      <td>SUB: Brantley FOR Wright-Foreman</td>\n    </tr>\n    <tr>\n      <th>443</th>\n      <td>0021901314</td>\n      <td>4</td>\n      <td>3:01</td>\n      <td>SUB: Wright-Foreman FOR Oni</td>\n    </tr>\n  </tbody>\n</table>\n</div>"
     },
     "metadata": {},
     "execution_count": 29
    }
   ],
   "source": [
    "pbp_df[\n",
    "    (pbp_df[spurs_col].notnull()) & # remove None values\n",
    "    (pbp_df[spurs_col].str.contains('SUB')) # query if it contains subs\n",
    "][['GAME_ID', 'PERIOD', 'PCTIMESTRING', spurs_col]].copy()"
   ]
  },
  {
   "cell_type": "code",
   "execution_count": 22,
   "metadata": {},
   "outputs": [],
   "source": [
    "# Assign total game time\n",
    "spurs_sub_df['game_time'] = spurs_sub_df.PCTIMESTRING.apply(conv_time_to_sec) + (spurs_sub_df.PERIOD - 1) * (12*60)\n",
    "opp_sub_df['game_time'] = opp_sub_df.PCTIMESTRING.apply(conv_time_to_sec) + (opp_sub_df.PERIOD - 1) * (12*60)"
   ]
  },
  {
   "cell_type": "code",
   "execution_count": 23,
   "metadata": {},
   "outputs": [],
   "source": [
    "# Assign columns for player in and out\n",
    "spurs_sub_df['player_in'] = spurs_sub_df[spurs_col].apply(split_player_in)\n",
    "spurs_sub_df['player_out'] = spurs_sub_df[spurs_col].apply(split_player_out)\n",
    "\n",
    "opp_sub_df['player_in'] = opp_sub_df[opp_col].apply(split_player_in)\n",
    "opp_sub_df['player_out'] = opp_sub_df[opp_col].apply(split_player_out)"
   ]
  },
  {
   "cell_type": "code",
   "execution_count": 24,
   "metadata": {},
   "outputs": [
    {
     "output_type": "execute_result",
     "data": {
      "text/plain": [
       "Index(['GAME_ID', 'PERIOD', 'PCTIMESTRING', 'HOMEDESCRIPTION', 'game_time',\n",
       "       'player_in', 'player_out'],\n",
       "      dtype='object')"
      ]
     },
     "metadata": {},
     "execution_count": 24
    }
   ],
   "source": [
    "spurs_sub_df.columns"
   ]
  },
  {
   "cell_type": "code",
   "execution_count": 25,
   "metadata": {},
   "outputs": [],
   "source": [
    "# Filter out unnecessary columns\n",
    "# Remove time string and pbp column\n",
    "spurs_sub_df = spurs_sub_df[['GAME_ID', 'PERIOD', 'game_time', 'player_in', 'player_out']]\n",
    "opp_sub_df = opp_sub_df[['GAME_ID', 'PERIOD', 'game_time', 'player_in', 'player_out']]"
   ]
  },
  {
   "cell_type": "code",
   "execution_count": 26,
   "metadata": {},
   "outputs": [
    {
     "output_type": "execute_result",
     "data": {
      "text/plain": [
       "        GAME_ID  PERIOD  game_time       player_in      player_out\n",
       "45   0021901314       1        344           Niang        Clarkson\n",
       "46   0021901314       1        344             Oni          Ingles\n",
       "67   0021901314       1        489          Ingles         Bradley\n",
       "68   0021901314       1        489           Davis         O'Neale\n",
       "69   0021901314       1        489        Clarkson        Mitchell\n",
       "70   0021901314       1        489          Morgan             Oni\n",
       "140  0021901314       2        885        Mitchell          Ingles\n",
       "141  0021901314       2        885         O'Neale          Morgan\n",
       "142  0021901314       2        885             Oni           Niang\n",
       "155  0021901314       2        936        Brantley        Clarkson\n",
       "158  0021901314       2        938         Bradley           Davis\n",
       "179  0021901314       2       1076           Niang         O'Neale\n",
       "180  0021901314       2       1076        Clarkson        Mitchell\n",
       "186  0021901314       2       1127          Tucker        Clarkson\n",
       "282  0021901314       3       1750          Tucker             Oni\n",
       "283  0021901314       3       1750  Wright-Foreman        Brantley\n",
       "284  0021901314       3       1750          Morgan         Bradley\n",
       "308  0021901314       3       1855        Brantley           Niang\n",
       "393  0021901314       4       2377          Morgan   Williams-Goss\n",
       "402  0021901314       4       2486   Williams-Goss        Brantley\n",
       "423  0021901314       4       2586        Brantley  Wright-Foreman\n",
       "443  0021901314       4       2699  Wright-Foreman             Oni"
      ],
      "text/html": "<div>\n<style scoped>\n    .dataframe tbody tr th:only-of-type {\n        vertical-align: middle;\n    }\n\n    .dataframe tbody tr th {\n        vertical-align: top;\n    }\n\n    .dataframe thead th {\n        text-align: right;\n    }\n</style>\n<table border=\"1\" class=\"dataframe\">\n  <thead>\n    <tr style=\"text-align: right;\">\n      <th></th>\n      <th>GAME_ID</th>\n      <th>PERIOD</th>\n      <th>game_time</th>\n      <th>player_in</th>\n      <th>player_out</th>\n    </tr>\n  </thead>\n  <tbody>\n    <tr>\n      <th>45</th>\n      <td>0021901314</td>\n      <td>1</td>\n      <td>344</td>\n      <td>Niang</td>\n      <td>Clarkson</td>\n    </tr>\n    <tr>\n      <th>46</th>\n      <td>0021901314</td>\n      <td>1</td>\n      <td>344</td>\n      <td>Oni</td>\n      <td>Ingles</td>\n    </tr>\n    <tr>\n      <th>67</th>\n      <td>0021901314</td>\n      <td>1</td>\n      <td>489</td>\n      <td>Ingles</td>\n      <td>Bradley</td>\n    </tr>\n    <tr>\n      <th>68</th>\n      <td>0021901314</td>\n      <td>1</td>\n      <td>489</td>\n      <td>Davis</td>\n      <td>O'Neale</td>\n    </tr>\n    <tr>\n      <th>69</th>\n      <td>0021901314</td>\n      <td>1</td>\n      <td>489</td>\n      <td>Clarkson</td>\n      <td>Mitchell</td>\n    </tr>\n    <tr>\n      <th>70</th>\n      <td>0021901314</td>\n      <td>1</td>\n      <td>489</td>\n      <td>Morgan</td>\n      <td>Oni</td>\n    </tr>\n    <tr>\n      <th>140</th>\n      <td>0021901314</td>\n      <td>2</td>\n      <td>885</td>\n      <td>Mitchell</td>\n      <td>Ingles</td>\n    </tr>\n    <tr>\n      <th>141</th>\n      <td>0021901314</td>\n      <td>2</td>\n      <td>885</td>\n      <td>O'Neale</td>\n      <td>Morgan</td>\n    </tr>\n    <tr>\n      <th>142</th>\n      <td>0021901314</td>\n      <td>2</td>\n      <td>885</td>\n      <td>Oni</td>\n      <td>Niang</td>\n    </tr>\n    <tr>\n      <th>155</th>\n      <td>0021901314</td>\n      <td>2</td>\n      <td>936</td>\n      <td>Brantley</td>\n      <td>Clarkson</td>\n    </tr>\n    <tr>\n      <th>158</th>\n      <td>0021901314</td>\n      <td>2</td>\n      <td>938</td>\n      <td>Bradley</td>\n      <td>Davis</td>\n    </tr>\n    <tr>\n      <th>179</th>\n      <td>0021901314</td>\n      <td>2</td>\n      <td>1076</td>\n      <td>Niang</td>\n      <td>O'Neale</td>\n    </tr>\n    <tr>\n      <th>180</th>\n      <td>0021901314</td>\n      <td>2</td>\n      <td>1076</td>\n      <td>Clarkson</td>\n      <td>Mitchell</td>\n    </tr>\n    <tr>\n      <th>186</th>\n      <td>0021901314</td>\n      <td>2</td>\n      <td>1127</td>\n      <td>Tucker</td>\n      <td>Clarkson</td>\n    </tr>\n    <tr>\n      <th>282</th>\n      <td>0021901314</td>\n      <td>3</td>\n      <td>1750</td>\n      <td>Tucker</td>\n      <td>Oni</td>\n    </tr>\n    <tr>\n      <th>283</th>\n      <td>0021901314</td>\n      <td>3</td>\n      <td>1750</td>\n      <td>Wright-Foreman</td>\n      <td>Brantley</td>\n    </tr>\n    <tr>\n      <th>284</th>\n      <td>0021901314</td>\n      <td>3</td>\n      <td>1750</td>\n      <td>Morgan</td>\n      <td>Bradley</td>\n    </tr>\n    <tr>\n      <th>308</th>\n      <td>0021901314</td>\n      <td>3</td>\n      <td>1855</td>\n      <td>Brantley</td>\n      <td>Niang</td>\n    </tr>\n    <tr>\n      <th>393</th>\n      <td>0021901314</td>\n      <td>4</td>\n      <td>2377</td>\n      <td>Morgan</td>\n      <td>Williams-Goss</td>\n    </tr>\n    <tr>\n      <th>402</th>\n      <td>0021901314</td>\n      <td>4</td>\n      <td>2486</td>\n      <td>Williams-Goss</td>\n      <td>Brantley</td>\n    </tr>\n    <tr>\n      <th>423</th>\n      <td>0021901314</td>\n      <td>4</td>\n      <td>2586</td>\n      <td>Brantley</td>\n      <td>Wright-Foreman</td>\n    </tr>\n    <tr>\n      <th>443</th>\n      <td>0021901314</td>\n      <td>4</td>\n      <td>2699</td>\n      <td>Wright-Foreman</td>\n      <td>Oni</td>\n    </tr>\n  </tbody>\n</table>\n</div>"
     },
     "metadata": {},
     "execution_count": 26
    }
   ],
   "source": [
    "spurs_sub_df"
   ]
  },
  {
   "cell_type": "markdown",
   "metadata": {},
   "source": [
    "# Create rotations data for visualization"
   ]
  },
  {
   "cell_type": "code",
   "execution_count": 71,
   "metadata": {},
   "outputs": [],
   "source": [
    "# create a dictionary with players as keys and sub in times\n",
    "# create a dict of sub out times\n",
    "# clean up times to fit into one minute bins\n",
    "# minute start times also become dataframe columns\n",
    "# check starters for quarter start times - 0, 720, 1440, 2160\n",
    "\n",
    "spurs_subs_in = dict()\n",
    "spurs_subs_out = dict()\n",
    "opp_subs_in = dict()\n",
    "opp_subs_out = dict() \n",
    "\n",
    "# A list of quarter start times in seconds\n",
    "quarter_start_times = [i*720 for i in range(0, 4)]"
   ]
  },
  {
   "cell_type": "code",
   "execution_count": 89,
   "metadata": {},
   "outputs": [],
   "source": [
    "# append the rounded game time to a new column\n",
    "spurs_sub_df['rounded_game_time'] = spurs_sub_df.game_time.apply(round_game_time)\n",
    "opp_sub_df['rounded_game_time'] = opp_sub_df.game_time.apply(round_game_game)"
   ]
  },
  {
   "cell_type": "code",
   "execution_count": 91,
   "metadata": {},
   "outputs": [],
   "source": [
    "# 1. add quarter starts \n",
    "# 2. go through each time to add 1 or 0\n",
    "\n",
    "spurs_quarter_starts = [spurs_starters, spurs_second_starters, \\\n",
    "                       spurs_third_starters, spurs_fourth_starters]\n",
    "\n",
    "opp_quarter_starts = [opp_starters, opp_second_starters, \\\n",
    "                     opp_third_starters, opp_fourth_starters]\n",
    "\n",
    "for i in range(4):\n",
    "    \n",
    "\n",
    "# decide if sub out equates to 1 or 0\n",
    "# same with sub in"
   ]
  },
  {
   "cell_type": "code",
   "execution_count": 109,
   "metadata": {},
   "outputs": [],
   "source": [
    "def lookup_full_name(last_name, roster):\n",
    "    \"\"\"\n",
    "    This function takes a player's last name and outputs his full name.\n",
    "    \n",
    "    The input should also include a roster list of full names.\n",
    "    \n",
    "    Example:\n",
    "    Input: Johnson\n",
    "    Output: Keldon Johnson\n",
    "    \"\"\"\n",
    "    for name in roster:\n",
    "        if name.endswith(last_name):\n",
    "            return name\n",
    "        else:\n",
    "            continue"
   ]
  },
  {
   "cell_type": "code",
   "execution_count": 119,
   "metadata": {},
   "outputs": [
    {
     "data": {
      "text/plain": [
       "36            Marco Belinelli\n",
       "52     Quinndary Weatherspoon\n",
       "71               Drew Eubanks\n",
       "80           Lonnie Walker IV\n",
       "81              Chimezie Metu\n",
       "98            Dejounte Murray\n",
       "143            Keldon Johnson\n",
       "144          Lonnie Walker IV\n",
       "177              Jakob Poeltl\n",
       "178           Marco Belinelli\n",
       "192           Dejounte Murray\n",
       "200              Drew Eubanks\n",
       "210              Luka Samanic\n",
       "288           Marco Belinelli\n",
       "290             Chimezie Metu\n",
       "309              Drew Eubanks\n",
       "338           Dejounte Murray\n",
       "342              Luka Samanic\n",
       "391            Keldon Johnson\n",
       "392          Lonnie Walker IV\n",
       "424              Drew Eubanks\n",
       "425              Luka Samanic\n",
       "442           Dejounte Murray\n",
       "Name: player_in, dtype: object"
      ]
     },
     "execution_count": 119,
     "metadata": {},
     "output_type": "execute_result"
    }
   ],
   "source": [
    "spurs_sub_df.player_in.apply(lookup_full_name, args=(spurs_roster, ))"
   ]
  },
  {
   "cell_type": "code",
   "execution_count": 121,
   "metadata": {},
   "outputs": [
    {
     "data": {
      "text/plain": [
       "36               Luka Samanic\n",
       "52           Lonnie Walker IV\n",
       "71               Jakob Poeltl\n",
       "80             Keldon Johnson\n",
       "81            Dejounte Murray\n",
       "98     Quinndary Weatherspoon\n",
       "143           Dejounte Murray\n",
       "144           Marco Belinelli\n",
       "177            Keldon Johnson\n",
       "178              Drew Eubanks\n",
       "192              Luka Samanic\n",
       "200             Chimezie Metu\n",
       "210          Lonnie Walker IV\n",
       "288           Dejounte Murray\n",
       "290              Luka Samanic\n",
       "309              Jakob Poeltl\n",
       "338          Lonnie Walker IV\n",
       "342            Keldon Johnson\n",
       "391              Drew Eubanks\n",
       "392              Luka Samanic\n",
       "424           Dejounte Murray\n",
       "425           Marco Belinelli\n",
       "442             Chimezie Metu\n",
       "Name: player_out, dtype: object"
      ]
     },
     "execution_count": 121,
     "metadata": {},
     "output_type": "execute_result"
    }
   ],
   "source": [
    "spurs_sub_df.player_out.apply(lookup_full_name, args=(spurs_roster, ))"
   ]
  },
  {
   "cell_type": "code",
   "execution_count": 103,
   "metadata": {},
   "outputs": [
    {
     "data": {
      "text/plain": [
       "'Walker IV'"
      ]
     },
     "execution_count": 103,
     "metadata": {},
     "output_type": "execute_result"
    }
   ],
   "source": [
    "# Apply full names to player in and player out"
   ]
  }
 ],
 "metadata": {
  "kernelspec": {
   "display_name": "Python 3",
   "language": "python",
   "name": "python3"
  },
  "language_info": {
   "codemirror_mode": {
    "name": "ipython",
    "version": 3
   },
   "file_extension": ".py",
   "mimetype": "text/x-python",
   "name": "python",
   "nbconvert_exporter": "python",
   "pygments_lexer": "ipython3",
   "version": "3.7.7-final"
  }
 },
 "nbformat": 4,
 "nbformat_minor": 4
}