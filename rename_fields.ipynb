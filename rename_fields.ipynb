{
 "cells": [
  {
   "cell_type": "markdown",
   "metadata": {},
   "source": [
    "# Renaming field names"
   ]
  },
  {
   "cell_type": "markdown",
   "metadata": {},
   "source": [
    "# Setup"
   ]
  },
  {
   "cell_type": "code",
   "execution_count": 1,
   "metadata": {},
   "outputs": [],
   "source": [
    "import pandas as pd"
   ]
  },
  {
   "cell_type": "markdown",
   "metadata": {},
   "source": [
    "# Import and check data"
   ]
  },
  {
   "cell_type": "code",
   "execution_count": 2,
   "metadata": {},
   "outputs": [],
   "source": [
    "players_df = pd.read_json('data/players_full_box_score.json')\n",
    "team_df = pd.read_json('data/team_box_scores_full.json')\n",
    "\n"
   ]
  },
  {
   "cell_type": "code",
   "execution_count": 3,
   "metadata": {},
   "outputs": [
    {
     "data": {
      "text/html": [
       "<div>\n",
       "<style scoped>\n",
       "    .dataframe tbody tr th:only-of-type {\n",
       "        vertical-align: middle;\n",
       "    }\n",
       "\n",
       "    .dataframe tbody tr th {\n",
       "        vertical-align: top;\n",
       "    }\n",
       "\n",
       "    .dataframe thead th {\n",
       "        text-align: right;\n",
       "    }\n",
       "</style>\n",
       "<table border=\"1\" class=\"dataframe\">\n",
       "  <thead>\n",
       "    <tr style=\"text-align: right;\">\n",
       "      <th></th>\n",
       "      <th>name</th>\n",
       "      <th>TEAM_ABBREVIATION</th>\n",
       "      <th>MIN</th>\n",
       "      <th>PTS</th>\n",
       "      <th>FG</th>\n",
       "      <th>3P</th>\n",
       "      <th>FT</th>\n",
       "      <th>AST</th>\n",
       "      <th>REB</th>\n",
       "      <th>DREB</th>\n",
       "      <th>OREB</th>\n",
       "      <th>BLK</th>\n",
       "      <th>STL</th>\n",
       "      <th>TO</th>\n",
       "      <th>PF</th>\n",
       "    </tr>\n",
       "  </thead>\n",
       "  <tbody>\n",
       "    <tr>\n",
       "      <th>0</th>\n",
       "      <td>K. Johnson</td>\n",
       "      <td>SAS</td>\n",
       "      <td>30:11</td>\n",
       "      <td>24</td>\n",
       "      <td>8-12</td>\n",
       "      <td>1-3</td>\n",
       "      <td>7-8</td>\n",
       "      <td>0</td>\n",
       "      <td>2</td>\n",
       "      <td>2</td>\n",
       "      <td>0</td>\n",
       "      <td>0</td>\n",
       "      <td>1</td>\n",
       "      <td>3</td>\n",
       "      <td>4</td>\n",
       "    </tr>\n",
       "    <tr>\n",
       "      <th>1</th>\n",
       "      <td>L. Samanic</td>\n",
       "      <td>SAS</td>\n",
       "      <td>31:27</td>\n",
       "      <td>16</td>\n",
       "      <td>5-10</td>\n",
       "      <td>3-5</td>\n",
       "      <td>3-4</td>\n",
       "      <td>3</td>\n",
       "      <td>6</td>\n",
       "      <td>5</td>\n",
       "      <td>1</td>\n",
       "      <td>1</td>\n",
       "      <td>0</td>\n",
       "      <td>1</td>\n",
       "      <td>4</td>\n",
       "    </tr>\n",
       "    <tr>\n",
       "      <th>2</th>\n",
       "      <td>J. Poeltl</td>\n",
       "      <td>SAS</td>\n",
       "      <td>21:08</td>\n",
       "      <td>10</td>\n",
       "      <td>5-6</td>\n",
       "      <td>0-0</td>\n",
       "      <td>0-5</td>\n",
       "      <td>3</td>\n",
       "      <td>5</td>\n",
       "      <td>3</td>\n",
       "      <td>2</td>\n",
       "      <td>2</td>\n",
       "      <td>1</td>\n",
       "      <td>1</td>\n",
       "      <td>3</td>\n",
       "    </tr>\n",
       "    <tr>\n",
       "      <th>3</th>\n",
       "      <td>L. Walker IV</td>\n",
       "      <td>SAS</td>\n",
       "      <td>34:04</td>\n",
       "      <td>15</td>\n",
       "      <td>6-14</td>\n",
       "      <td>3-3</td>\n",
       "      <td>0-0</td>\n",
       "      <td>4</td>\n",
       "      <td>3</td>\n",
       "      <td>2</td>\n",
       "      <td>1</td>\n",
       "      <td>0</td>\n",
       "      <td>1</td>\n",
       "      <td>1</td>\n",
       "      <td>0</td>\n",
       "    </tr>\n",
       "    <tr>\n",
       "      <th>4</th>\n",
       "      <td>D. Murray</td>\n",
       "      <td>SAS</td>\n",
       "      <td>36:16</td>\n",
       "      <td>12</td>\n",
       "      <td>5-14</td>\n",
       "      <td>0-2</td>\n",
       "      <td>2-2</td>\n",
       "      <td>7</td>\n",
       "      <td>14</td>\n",
       "      <td>13</td>\n",
       "      <td>1</td>\n",
       "      <td>0</td>\n",
       "      <td>0</td>\n",
       "      <td>6</td>\n",
       "      <td>3</td>\n",
       "    </tr>\n",
       "  </tbody>\n",
       "</table>\n",
       "</div>"
      ],
      "text/plain": [
       "           name TEAM_ABBREVIATION    MIN  PTS    FG   3P   FT  AST  REB  DREB  \\\n",
       "0    K. Johnson               SAS  30:11   24  8-12  1-3  7-8    0    2     2   \n",
       "1    L. Samanic               SAS  31:27   16  5-10  3-5  3-4    3    6     5   \n",
       "2     J. Poeltl               SAS  21:08   10   5-6  0-0  0-5    3    5     3   \n",
       "3  L. Walker IV               SAS  34:04   15  6-14  3-3  0-0    4    3     2   \n",
       "4     D. Murray               SAS  36:16   12  5-14  0-2  2-2    7   14    13   \n",
       "\n",
       "   OREB  BLK  STL  TO  PF  \n",
       "0     0    0    1   3   4  \n",
       "1     1    1    0   1   4  \n",
       "2     2    2    1   1   3  \n",
       "3     1    0    1   1   0  \n",
       "4     1    0    0   6   3  "
      ]
     },
     "execution_count": 3,
     "metadata": {},
     "output_type": "execute_result"
    }
   ],
   "source": [
    "players_df.head()"
   ]
  },
  {
   "cell_type": "code",
   "execution_count": 4,
   "metadata": {},
   "outputs": [
    {
     "data": {
      "text/html": [
       "<div>\n",
       "<style scoped>\n",
       "    .dataframe tbody tr th:only-of-type {\n",
       "        vertical-align: middle;\n",
       "    }\n",
       "\n",
       "    .dataframe tbody tr th {\n",
       "        vertical-align: top;\n",
       "    }\n",
       "\n",
       "    .dataframe thead th {\n",
       "        text-align: right;\n",
       "    }\n",
       "</style>\n",
       "<table border=\"1\" class=\"dataframe\">\n",
       "  <thead>\n",
       "    <tr style=\"text-align: right;\">\n",
       "      <th></th>\n",
       "      <th>TEAM_ABBREVIATION</th>\n",
       "      <th>FG</th>\n",
       "      <th>FG_PCT</th>\n",
       "      <th>3P</th>\n",
       "      <th>FG3_PCT</th>\n",
       "      <th>FT</th>\n",
       "      <th>FT_PCT</th>\n",
       "      <th>AST</th>\n",
       "      <th>REB</th>\n",
       "      <th>DREB</th>\n",
       "      <th>OREB</th>\n",
       "      <th>BLK</th>\n",
       "      <th>STL</th>\n",
       "      <th>TO</th>\n",
       "      <th>PF</th>\n",
       "    </tr>\n",
       "  </thead>\n",
       "  <tbody>\n",
       "    <tr>\n",
       "      <th>0</th>\n",
       "      <td>UTA</td>\n",
       "      <td>47-101</td>\n",
       "      <td>46.5</td>\n",
       "      <td>15-46</td>\n",
       "      <td>32.6</td>\n",
       "      <td>9-10</td>\n",
       "      <td>90.0</td>\n",
       "      <td>25</td>\n",
       "      <td>43</td>\n",
       "      <td>31</td>\n",
       "      <td>12</td>\n",
       "      <td>5</td>\n",
       "      <td>7</td>\n",
       "      <td>8</td>\n",
       "      <td>23</td>\n",
       "    </tr>\n",
       "    <tr>\n",
       "      <th>1</th>\n",
       "      <td>SAS</td>\n",
       "      <td>39-79</td>\n",
       "      <td>49.4</td>\n",
       "      <td>10-20</td>\n",
       "      <td>50.0</td>\n",
       "      <td>24-36</td>\n",
       "      <td>66.7</td>\n",
       "      <td>24</td>\n",
       "      <td>44</td>\n",
       "      <td>35</td>\n",
       "      <td>9</td>\n",
       "      <td>8</td>\n",
       "      <td>4</td>\n",
       "      <td>15</td>\n",
       "      <td>20</td>\n",
       "    </tr>\n",
       "  </tbody>\n",
       "</table>\n",
       "</div>"
      ],
      "text/plain": [
       "  TEAM_ABBREVIATION      FG  FG_PCT     3P  FG3_PCT     FT  FT_PCT  AST  REB  \\\n",
       "0               UTA  47-101    46.5  15-46     32.6   9-10    90.0   25   43   \n",
       "1               SAS   39-79    49.4  10-20     50.0  24-36    66.7   24   44   \n",
       "\n",
       "   DREB  OREB  BLK  STL  TO  PF  \n",
       "0    31    12    5    7   8  23  \n",
       "1    35     9    8    4  15  20  "
      ]
     },
     "execution_count": 4,
     "metadata": {},
     "output_type": "execute_result"
    }
   ],
   "source": [
    "team_df.head()"
   ]
  },
  {
   "cell_type": "code",
   "execution_count": 5,
   "metadata": {},
   "outputs": [
    {
     "data": {
      "text/plain": [
       "Index(['name', 'TEAM_ABBREVIATION', 'MIN', 'PTS', 'FG', '3P', 'FT', 'AST',\n",
       "       'REB', 'DREB', 'OREB', 'BLK', 'STL', 'TO', 'PF'],\n",
       "      dtype='object')"
      ]
     },
     "execution_count": 5,
     "metadata": {},
     "output_type": "execute_result"
    }
   ],
   "source": [
    "players_df.columns"
   ]
  },
  {
   "cell_type": "code",
   "execution_count": 6,
   "metadata": {},
   "outputs": [
    {
     "data": {
      "text/plain": [
       "Index(['TEAM_ABBREVIATION', 'FG', 'FG_PCT', '3P', 'FG3_PCT', 'FT', 'FT_PCT',\n",
       "       'AST', 'REB', 'DREB', 'OREB', 'BLK', 'STL', 'TO', 'PF'],\n",
       "      dtype='object')"
      ]
     },
     "execution_count": 6,
     "metadata": {},
     "output_type": "execute_result"
    }
   ],
   "source": [
    "team_df.columns"
   ]
  },
  {
   "cell_type": "code",
   "execution_count": 7,
   "metadata": {},
   "outputs": [],
   "source": [
    "players_rename = dict()\n",
    "teams_rename = dict()\n",
    "\n",
    "for header in list(players_df.columns):\n",
    "    new_header = 'player_' + str(header)\n",
    "    players_rename[header] = new_header\n",
    "\n",
    "for header in list(team_df.columns):\n",
    "    new_header = 'team_' + str(header)\n",
    "    teams_rename[header] = new_header"
   ]
  },
  {
   "cell_type": "code",
   "execution_count": 8,
   "metadata": {},
   "outputs": [],
   "source": [
    "# team names are a litle cumbersome right now\n",
    "teams_rename['TEAM_ABBREVIATION'] = 'team_name'\n",
    "players_rename['TEAM_ABBREVIATION'] = 'team'"
   ]
  },
  {
   "cell_type": "code",
   "execution_count": 9,
   "metadata": {},
   "outputs": [
    {
     "data": {
      "text/plain": [
       "{'name': 'player_name',\n",
       " 'TEAM_ABBREVIATION': 'team',\n",
       " 'MIN': 'player_MIN',\n",
       " 'PTS': 'player_PTS',\n",
       " 'FG': 'player_FG',\n",
       " '3P': 'player_3P',\n",
       " 'FT': 'player_FT',\n",
       " 'AST': 'player_AST',\n",
       " 'REB': 'player_REB',\n",
       " 'DREB': 'player_DREB',\n",
       " 'OREB': 'player_OREB',\n",
       " 'BLK': 'player_BLK',\n",
       " 'STL': 'player_STL',\n",
       " 'TO': 'player_TO',\n",
       " 'PF': 'player_PF'}"
      ]
     },
     "execution_count": 9,
     "metadata": {},
     "output_type": "execute_result"
    }
   ],
   "source": [
    "players_rename"
   ]
  },
  {
   "cell_type": "code",
   "execution_count": 10,
   "metadata": {},
   "outputs": [
    {
     "data": {
      "text/plain": [
       "{'TEAM_ABBREVIATION': 'team_name',\n",
       " 'FG': 'team_FG',\n",
       " 'FG_PCT': 'team_FG_PCT',\n",
       " '3P': 'team_3P',\n",
       " 'FG3_PCT': 'team_FG3_PCT',\n",
       " 'FT': 'team_FT',\n",
       " 'FT_PCT': 'team_FT_PCT',\n",
       " 'AST': 'team_AST',\n",
       " 'REB': 'team_REB',\n",
       " 'DREB': 'team_DREB',\n",
       " 'OREB': 'team_OREB',\n",
       " 'BLK': 'team_BLK',\n",
       " 'STL': 'team_STL',\n",
       " 'TO': 'team_TO',\n",
       " 'PF': 'team_PF'}"
      ]
     },
     "execution_count": 10,
     "metadata": {},
     "output_type": "execute_result"
    }
   ],
   "source": [
    "teams_rename"
   ]
  },
  {
   "cell_type": "code",
   "execution_count": 11,
   "metadata": {},
   "outputs": [],
   "source": [
    "players_df.rename(columns=players_rename, inplace=True)\n",
    "team_df.rename(columns=teams_rename, inplace=True)"
   ]
  },
  {
   "cell_type": "code",
   "execution_count": 12,
   "metadata": {},
   "outputs": [
    {
     "data": {
      "text/plain": [
       "Index(['player_name', 'team', 'player_MIN', 'player_PTS', 'player_FG',\n",
       "       'player_3P', 'player_FT', 'player_AST', 'player_REB', 'player_DREB',\n",
       "       'player_OREB', 'player_BLK', 'player_STL', 'player_TO', 'player_PF'],\n",
       "      dtype='object')"
      ]
     },
     "execution_count": 12,
     "metadata": {},
     "output_type": "execute_result"
    }
   ],
   "source": [
    "players_df.columns"
   ]
  },
  {
   "cell_type": "code",
   "execution_count": 16,
   "metadata": {},
   "outputs": [],
   "source": [
    "# Export files\n",
    "players_df.to_json('data/renamed_players_box_score.json', orient='index')\n",
    "team_df.to_json('data/renamed_team_box_score.json', orient='index')"
   ]
  }
 ],
 "metadata": {
  "kernelspec": {
   "display_name": "Python 3",
   "language": "python",
   "name": "python3"
  },
  "language_info": {
   "codemirror_mode": {
    "name": "ipython",
    "version": 3
   },
   "file_extension": ".py",
   "mimetype": "text/x-python",
   "name": "python",
   "nbconvert_exporter": "python",
   "pygments_lexer": "ipython3",
   "version": "3.7.7"
  }
 },
 "nbformat": 4,
 "nbformat_minor": 4
}
