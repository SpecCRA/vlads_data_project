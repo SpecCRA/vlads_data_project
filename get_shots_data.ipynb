{
 "cells": [
  {
   "cell_type": "markdown",
   "metadata": {},
   "source": [
    "# Setup"
   ]
  },
  {
   "cell_type": "code",
   "execution_count": 1,
   "metadata": {},
   "outputs": [],
   "source": [
    "import pandas as pd\n",
    "import numpy as np\n",
    "import nba_api\n",
    "import json\n",
    "import time"
   ]
  },
  {
   "cell_type": "code",
   "execution_count": 2,
   "metadata": {},
   "outputs": [],
   "source": [
    "season = '2019-20'"
   ]
  },
  {
   "cell_type": "markdown",
   "metadata": {},
   "source": [
    "## nba_api packages"
   ]
  },
  {
   "cell_type": "code",
   "execution_count": 3,
   "metadata": {},
   "outputs": [],
   "source": [
    "from nba_api.stats.static.teams import get_teams, find_teams_by_nickname\n",
    "from nba_api.stats.static.players import get_active_players, find_players_by_full_name\n",
    "from nba_api.stats.endpoints import CommonTeamRoster\n",
    "\n",
    "from nba_api.stats.endpoints import leaguegamefinder\n",
    "from nba_api.stats.endpoints import LeagueDashTeamShotLocations\n",
    "from nba_api.stats.endpoints import ShotChartLineupDetail\n",
    "from nba_api.stats.endpoints import ShotChartDetail\n",
    "from nba_api.stats.endpoints import BoxScorePlayerTrackV2"
   ]
  },
  {
   "cell_type": "markdown",
   "metadata": {},
   "source": [
    "## Get spurs test game"
   ]
  },
  {
   "cell_type": "code",
   "execution_count": 4,
   "metadata": {},
   "outputs": [
    {
     "output_type": "execute_result",
     "data": {
      "text/plain": [
       "  SEASON_ID     TEAM_ID TEAM_ABBREVIATION          TEAM_NAME     GAME_ID  \\\n",
       "0     22019  1610612759               SAS  San Antonio Spurs  0021901314   \n",
       "1     22019  1610612759               SAS  San Antonio Spurs  0021901298   \n",
       "2     22019  1610612759               SAS  San Antonio Spurs  0021901287   \n",
       "3     22019  1610612759               SAS  San Antonio Spurs  0021901274   \n",
       "4     22019  1610612759               SAS  San Antonio Spurs  0021901264   \n",
       "\n",
       "    GAME_DATE      MATCHUP WL  MIN  PTS  ...  FT_PCT  OREB  DREB  REB  AST  \\\n",
       "0  2020-08-13    SAS @ UTA  L  239  112  ...   0.667     9    35   44   24   \n",
       "1  2020-08-11  SAS vs. HOU  W  240  123  ...   0.900     9    50   59   28   \n",
       "2  2020-08-09    SAS @ NOP  W  241  122  ...   0.969    15    36   51   22   \n",
       "3  2020-08-07  SAS vs. UTA  W  240  119  ...   0.769     8    39   47   27   \n",
       "4  2020-08-05  SAS vs. DEN  L  239  126  ...   0.852    10    25   35   29   \n",
       "\n",
       "   STL  BLK  TOV  PF  PLUS_MINUS  \n",
       "0    4    8   15  20        -6.0  \n",
       "1   10    5   22  20        18.0  \n",
       "2   12    6   17  27         9.0  \n",
       "3   10    5   13  18         8.0  \n",
       "4   10    5    7  20        -6.0  \n",
       "\n",
       "[5 rows x 28 columns]"
      ],
      "text/html": "<div>\n<style scoped>\n    .dataframe tbody tr th:only-of-type {\n        vertical-align: middle;\n    }\n\n    .dataframe tbody tr th {\n        vertical-align: top;\n    }\n\n    .dataframe thead th {\n        text-align: right;\n    }\n</style>\n<table border=\"1\" class=\"dataframe\">\n  <thead>\n    <tr style=\"text-align: right;\">\n      <th></th>\n      <th>SEASON_ID</th>\n      <th>TEAM_ID</th>\n      <th>TEAM_ABBREVIATION</th>\n      <th>TEAM_NAME</th>\n      <th>GAME_ID</th>\n      <th>GAME_DATE</th>\n      <th>MATCHUP</th>\n      <th>WL</th>\n      <th>MIN</th>\n      <th>PTS</th>\n      <th>...</th>\n      <th>FT_PCT</th>\n      <th>OREB</th>\n      <th>DREB</th>\n      <th>REB</th>\n      <th>AST</th>\n      <th>STL</th>\n      <th>BLK</th>\n      <th>TOV</th>\n      <th>PF</th>\n      <th>PLUS_MINUS</th>\n    </tr>\n  </thead>\n  <tbody>\n    <tr>\n      <th>0</th>\n      <td>22019</td>\n      <td>1610612759</td>\n      <td>SAS</td>\n      <td>San Antonio Spurs</td>\n      <td>0021901314</td>\n      <td>2020-08-13</td>\n      <td>SAS @ UTA</td>\n      <td>L</td>\n      <td>239</td>\n      <td>112</td>\n      <td>...</td>\n      <td>0.667</td>\n      <td>9</td>\n      <td>35</td>\n      <td>44</td>\n      <td>24</td>\n      <td>4</td>\n      <td>8</td>\n      <td>15</td>\n      <td>20</td>\n      <td>-6.0</td>\n    </tr>\n    <tr>\n      <th>1</th>\n      <td>22019</td>\n      <td>1610612759</td>\n      <td>SAS</td>\n      <td>San Antonio Spurs</td>\n      <td>0021901298</td>\n      <td>2020-08-11</td>\n      <td>SAS vs. HOU</td>\n      <td>W</td>\n      <td>240</td>\n      <td>123</td>\n      <td>...</td>\n      <td>0.900</td>\n      <td>9</td>\n      <td>50</td>\n      <td>59</td>\n      <td>28</td>\n      <td>10</td>\n      <td>5</td>\n      <td>22</td>\n      <td>20</td>\n      <td>18.0</td>\n    </tr>\n    <tr>\n      <th>2</th>\n      <td>22019</td>\n      <td>1610612759</td>\n      <td>SAS</td>\n      <td>San Antonio Spurs</td>\n      <td>0021901287</td>\n      <td>2020-08-09</td>\n      <td>SAS @ NOP</td>\n      <td>W</td>\n      <td>241</td>\n      <td>122</td>\n      <td>...</td>\n      <td>0.969</td>\n      <td>15</td>\n      <td>36</td>\n      <td>51</td>\n      <td>22</td>\n      <td>12</td>\n      <td>6</td>\n      <td>17</td>\n      <td>27</td>\n      <td>9.0</td>\n    </tr>\n    <tr>\n      <th>3</th>\n      <td>22019</td>\n      <td>1610612759</td>\n      <td>SAS</td>\n      <td>San Antonio Spurs</td>\n      <td>0021901274</td>\n      <td>2020-08-07</td>\n      <td>SAS vs. UTA</td>\n      <td>W</td>\n      <td>240</td>\n      <td>119</td>\n      <td>...</td>\n      <td>0.769</td>\n      <td>8</td>\n      <td>39</td>\n      <td>47</td>\n      <td>27</td>\n      <td>10</td>\n      <td>5</td>\n      <td>13</td>\n      <td>18</td>\n      <td>8.0</td>\n    </tr>\n    <tr>\n      <th>4</th>\n      <td>22019</td>\n      <td>1610612759</td>\n      <td>SAS</td>\n      <td>San Antonio Spurs</td>\n      <td>0021901264</td>\n      <td>2020-08-05</td>\n      <td>SAS vs. DEN</td>\n      <td>L</td>\n      <td>239</td>\n      <td>126</td>\n      <td>...</td>\n      <td>0.852</td>\n      <td>10</td>\n      <td>25</td>\n      <td>35</td>\n      <td>29</td>\n      <td>10</td>\n      <td>5</td>\n      <td>7</td>\n      <td>20</td>\n      <td>-6.0</td>\n    </tr>\n  </tbody>\n</table>\n<p>5 rows × 28 columns</p>\n</div>"
     },
     "metadata": {},
     "execution_count": 4
    }
   ],
   "source": [
    "# Get Spurs' team info\n",
    "all_teams = get_teams()\n",
    "spurs_info = find_teams_by_nickname('spurs') # find spurs nickname\n",
    "spurs_id = spurs_info[0]['id'] # get spurs team ID\n",
    "\n",
    "# find all Spurs games\n",
    "gamefinder = leaguegamefinder.LeagueGameFinder(team_id_nullable=spurs_id,\n",
    "                                              season_nullable='2019-20')\n",
    "\n",
    "time.sleep(3)\n",
    "spurs_games_df = gamefinder.get_data_frames()[0]\n",
    "\n",
    "# test - last 2019-20 regular season game vs Utah Jazz\n",
    "test_game_id = spurs_games_df.iloc[0]['GAME_ID']\n",
    "\n",
    "spurs_games_df.head(n=5)"
   ]
  },
  {
   "cell_type": "markdown",
   "metadata": {},
   "source": [
    "# Functions"
   ]
  },
  {
   "cell_type": "code",
   "execution_count": 5,
   "metadata": {},
   "outputs": [],
   "source": [
    "def get_playerid(name):\n",
    "    return find_players_by_full_name(name)[0]['id']"
   ]
  },
  {
   "cell_type": "code",
   "execution_count": 6,
   "metadata": {},
   "outputs": [],
   "source": [
    "def get_shot_chart(playerid, teamid, gameid):\n",
    "    \"\"\"\n",
    "    This function takes in a player and returns his shot chart for a specific game.\n",
    "    \n",
    "    Inputs:\n",
    "    playerid: Player's unique ID\n",
    "    teamid: Associated team ID\n",
    "    gameid: Specific game ID\n",
    "    \n",
    "    Output: Entire DataFrame with shots data\n",
    "    \"\"\"\n",
    "    # First, set a sleep timer\n",
    "    time.sleep(8)\n",
    "    \n",
    "    shots_df = ShotChartDetail(\n",
    "        player_id = playerid,\n",
    "        season_nullable = season,\n",
    "        team_id = teamid,\n",
    "        game_id_nullable = gameid,\n",
    "        context_measure_simple = 'FGA'\n",
    "    )\n",
    "    \n",
    "    return shots_df.data_sets[0].get_data_frame()"
   ]
  },
  {
   "cell_type": "code",
   "execution_count": 7,
   "metadata": {},
   "outputs": [],
   "source": [
    "def gather_team_df(spurs_or_opp):\n",
    "    \"\"\"\n",
    "    This function grabs an entire team's shot data separated by each shot. \n",
    "    It loops through a team's roster and grabs individual team's shot data.\n",
    "    \n",
    "    Input: \n",
    "    spurs_or_opp: True or False\n",
    "    \n",
    "    Output: concatted DataFrame of a team's game shot data\n",
    "    \"\"\"\n",
    "    if spurs_or_opp == True:\n",
    "        player_list = spurs_roster_list\n",
    "        team_id = spurs_id\n",
    "    else:\n",
    "        player_list = opp_roster_list\n",
    "        team_id = opp_teamid\n",
    "        \n",
    "    data = pd.DataFrame() # start with an empty dataframe\n",
    "    \n",
    "    for player in player_list:\n",
    "        df = get_shot_chart(player_ids[player], team_id, test_game_id)\n",
    "        data = pd.concat([data, df])\n",
    "        print('Finished gathering data for {}'.format(player))\n",
    "        \n",
    "    return data"
   ]
  },
  {
   "cell_type": "code",
   "execution_count": 44,
   "metadata": {},
   "outputs": [],
   "source": [
    "def clean_shots_df(shots_df):\n",
    "    \"\"\"\n",
    "    This function aggregates shot dataframes to team levels and cleans it using\n",
    "    function rename_cols(). \n",
    "    \n",
    "    The output dateframe shows the shot zone area, shot zone range, number\n",
    "    of shots made and attempted in each respective area. The final created\n",
    "    column is the field goal percentage formatted to XX.X%.\n",
    "    \n",
    "    input: Concatenated player dataframe\n",
    "    output: cleaned, aggregated dataframe\n",
    "    \"\"\"\n",
    "    df = shots_df.copy()\n",
    "    \n",
    "    groupby_cols = ['GAME_ID', 'TEAM_NAME', 'SHOT_ZONE_AREA', 'SHOT_ZONE_RANGE']\n",
    "    out_cols = ['GAME_ID', 'TEAM_NAME', 'SHOT_ZONE_AREA', 'SHOT_ZONE_RANGE',\n",
    "               'SHOT_MADE_FLAG', 'SHOT_ATTEMPTED_FLAG']\n",
    "    \n",
    "    # aggregate shots \n",
    "    agg_df = df.groupby(groupby_cols)[out_cols].sum().reset_index()\n",
    "    \n",
    "    # add a fg pct column and format it\n",
    "    # format by leaving one decimal place and adding '%' to the end\n",
    "    agg_df['rounded_fg_pct'] = round((agg_df.SHOT_MADE_FLAG / agg_df.SHOT_ATTEMPTED_FLAG)* 100).astype(int)\n",
    "    #agg_df['formatted_fg_pct'] = agg_df.rounded_fg_pct.apply(lambda x: str(x) + '%')\n",
    "    \n",
    "    # format column names\n",
    "    #agg_df = rename_cols(agg_df)\n",
    "    \n",
    "    return agg_df"
   ]
  },
  {
   "cell_type": "code",
   "execution_count": 9,
   "metadata": {},
   "outputs": [],
   "source": [
    "def rename_cols(df):\n",
    "    \"\"\"\n",
    "    This function takes an aggregated team shots dataframe and formats\n",
    "    the columns to lower case. It also renames two flagged columns for\n",
    "    easier readability.\n",
    "    \"\"\"\n",
    "    data = df.copy()\n",
    "    \n",
    "    shots_cols = {\n",
    "        'SHOT_MADE_FLAG' : 'shots_made',\n",
    "        'SHOT_ATTEMPTED_FLAG' : 'shots_attempted'\n",
    "    }\n",
    "    \n",
    "    data.rename(columns = shots_cols, inplace = True)\n",
    "    \n",
    "    # lower column names\n",
    "    cols = dict()\n",
    "    \n",
    "    for col in list(data.columns):\n",
    "        cols[col] = col.lower()\n",
    "        \n",
    "    data.rename(columns = cols, inplace = True)\n",
    "    \n",
    "    return data"
   ]
  },
  {
   "cell_type": "code",
   "execution_count": 10,
   "metadata": {},
   "outputs": [],
   "source": [
    "# format percentages\n",
    "def format_pct(pct):\n",
    "    pct = round(pct*100, 2)\n",
    "    out_format = str(pct) + '%'\n",
    "    return out_format"
   ]
  },
  {
   "cell_type": "code",
   "execution_count": 11,
   "metadata": {},
   "outputs": [],
   "source": [
    "def combine_shooting_fields(df, makes_col, att_col, field_name):\n",
    "    \"\"\"\n",
    "    This function combines FGM and FGA to FGM-FGA format.\n",
    "    \"\"\"\n",
    "    df[field_name] = df[makes_col].astype(int).astype(str) + '-' + df[att_col].astype(int).astype(str)"
   ]
  },
  {
   "cell_type": "code",
   "execution_count": 12,
   "metadata": {},
   "outputs": [],
   "source": [
    "def calc_fg_diffs(team_df, avg_df):\n",
    "    \"\"\"\n",
    "    This function takes a team shots dataframe and the league average dataframe as inputs.\n",
    "    The output is the difference between a team's fg percentage in a certain area\n",
    "    versus the league average.\n",
    "    \"\"\"\n",
    "    \n",
    "    shot_area = 'shot_zone_area'\n",
    "    shot_range = 'shot_zone_range'\n",
    "    \n",
    "    data = list()\n",
    "    \n",
    "    for i in range(len(team_df)):\n",
    "        avg_pct = avg_df[\n",
    "            (avg_df[shot_area] == team_df.iloc[i][shot_area]) &\n",
    "            (avg_df[shot_range] == team_df.iloc[i][shot_range])\n",
    "        ].iloc[0]['rounded_fg_pct']\n",
    "        \n",
    "        team_pct = team_df.iloc[i]['rounded_fg_pct']\n",
    "        \n",
    "        #print(avg_pct)\n",
    "        #print(team_pct)\n",
    "        \n",
    "        diff = team_pct - avg_pct\n",
    "        #print(diff)\n",
    "        \n",
    "        data.append(team_pct - avg_pct)\n",
    "        \n",
    "    return pd.Series(data)"
   ]
  },
  {
   "cell_type": "markdown",
   "metadata": {},
   "source": [
    "# Get Spurs and opponent rosters"
   ]
  },
  {
   "cell_type": "code",
   "execution_count": 13,
   "metadata": {},
   "outputs": [],
   "source": [
    "roster_data_df = BoxScorePlayerTrackV2(game_id=test_game_id).data_sets[0].get_data_frame()\n",
    "time.sleep(5)\n",
    "spurs_roster_list = list(roster_data_df[roster_data_df.TEAM_ABBREVIATION == 'SAS'].PLAYER_NAME)\n",
    "opp_roster_list = list(roster_data_df[roster_data_df.TEAM_ABBREVIATION != 'SAS'].PLAYER_NAME)"
   ]
  },
  {
   "cell_type": "code",
   "execution_count": 14,
   "metadata": {},
   "outputs": [],
   "source": [
    "# get opponent team ID\n",
    "opp_teamid = roster_data_df[roster_data_df.TEAM_ABBREVIATION != 'SAS'].TEAM_ID.iloc[0]"
   ]
  },
  {
   "cell_type": "markdown",
   "metadata": {},
   "source": [
    "## Create dictionary of Player:ID "
   ]
  },
  {
   "cell_type": "code",
   "execution_count": 15,
   "metadata": {},
   "outputs": [],
   "source": [
    "player_ids = dict()\n",
    "\n",
    "for player in spurs_roster_list:\n",
    "    player_ids[player] = get_playerid(player)\n",
    "    \n",
    "for player in opp_roster_list:\n",
    "    player_ids[player] = get_playerid(player)"
   ]
  },
  {
   "cell_type": "markdown",
   "metadata": {},
   "source": [
    "# Gather Team DataFrames"
   ]
  },
  {
   "cell_type": "code",
   "execution_count": 16,
   "metadata": {},
   "outputs": [
    {
     "output_type": "stream",
     "name": "stdout",
     "text": [
      "Finished gathering data for Keldon Johnson\n",
      "Finished gathering data for Luka Samanic\n",
      "Finished gathering data for Jakob Poeltl\n",
      "Finished gathering data for Lonnie Walker IV\n",
      "Finished gathering data for Dejounte Murray\n",
      "Finished gathering data for Marco Belinelli\n",
      "Finished gathering data for Quinndary Weatherspoon\n",
      "Finished gathering data for Drew Eubanks\n",
      "Finished gathering data for Chimezie Metu\n",
      "Finished gathering data for DeMar DeRozan\n",
      "Finished gathering data for Rudy Gay\n",
      "Finished gathering data for Patty Mills\n",
      "Finished gathering data for Derrick White\n",
      "Finished gathering data for Joe Ingles\n",
      "Finished gathering data for Royce O'Neale\n",
      "Finished gathering data for Tony Bradley\n",
      "Finished gathering data for Jordan Clarkson\n",
      "Finished gathering data for Donovan Mitchell\n",
      "Finished gathering data for Georges Niang\n",
      "Finished gathering data for Miye Oni\n",
      "Finished gathering data for Ed Davis\n",
      "Finished gathering data for Juwan Morgan\n",
      "Finished gathering data for Jarrell Brantley\n",
      "Finished gathering data for Rayjon Tucker\n",
      "Finished gathering data for Nigel Williams-Goss\n",
      "Finished gathering data for Justin Wright-Foreman\n"
     ]
    }
   ],
   "source": [
    "spurs_shots_df = gather_team_df(True)\n",
    "opp_shots_df = gather_team_df(False)"
   ]
  },
  {
   "cell_type": "code",
   "execution_count": 43,
   "metadata": {},
   "outputs": [
    {
     "output_type": "execute_result",
     "data": {
      "text/plain": [
       "            GRID_TYPE     GAME_ID GAME_EVENT_ID PLAYER_ID     PLAYER_NAME  \\\n",
       "0   Shot Chart Detail  0021901314            18   1629640  Keldon Johnson   \n",
       "1   Shot Chart Detail  0021901314            34   1629640  Keldon Johnson   \n",
       "2   Shot Chart Detail  0021901314            47   1629640  Keldon Johnson   \n",
       "3   Shot Chart Detail  0021901314            85   1629640  Keldon Johnson   \n",
       "4   Shot Chart Detail  0021901314           235   1629640  Keldon Johnson   \n",
       "..                ...         ...           ...       ...             ...   \n",
       "1   Shot Chart Detail  0021901314           265   1629002   Chimezie Metu   \n",
       "2   Shot Chart Detail  0021901314           444   1629002   Chimezie Metu   \n",
       "3   Shot Chart Detail  0021901314           561   1629002   Chimezie Metu   \n",
       "4   Shot Chart Detail  0021901314           597   1629002   Chimezie Metu   \n",
       "5   Shot Chart Detail  0021901314           618   1629002   Chimezie Metu   \n",
       "\n",
       "       TEAM_ID          TEAM_NAME PERIOD MINUTES_REMAINING SECONDS_REMAINING  \\\n",
       "0   1610612759  San Antonio Spurs      1                10                49   \n",
       "1   1610612759  San Antonio Spurs      1                 9                40   \n",
       "2   1610612759  San Antonio Spurs      1                 7                55   \n",
       "3   1610612759  San Antonio Spurs      1                 4                53   \n",
       "4   1610612759  San Antonio Spurs      2                 7                46   \n",
       "..         ...                ...    ...               ...               ...   \n",
       "1   1610612759  San Antonio Spurs      2                 5                36   \n",
       "2   1610612759  San Antonio Spurs      3                 4                49   \n",
       "3   1610612759  San Antonio Spurs      4                 7                20   \n",
       "4   1610612759  San Antonio Spurs      4                 4                54   \n",
       "5   1610612759  San Antonio Spurs      4                 3                35   \n",
       "\n",
       "    ...        SHOT_ZONE_AREA  SHOT_ZONE_RANGE SHOT_DISTANCE LOC_X LOC_Y  \\\n",
       "0   ...             Center(C)  Less Than 8 ft.             4   -44     9   \n",
       "1   ...         Right Side(R)         8-16 ft.            13   120    71   \n",
       "2   ...  Left Side Center(LC)          24+ ft.            25  -117   225   \n",
       "3   ...             Center(C)  Less Than 8 ft.             2   -24     0   \n",
       "4   ...         Right Side(R)         8-16 ft.             8    68    47   \n",
       "..  ...                   ...              ...           ...   ...   ...   \n",
       "1   ...             Center(C)         8-16 ft.             9    23    89   \n",
       "2   ...         Right Side(R)        16-24 ft.            18   152   109   \n",
       "3   ...             Center(C)  Less Than 8 ft.             2   -19    15   \n",
       "4   ...             Center(C)  Less Than 8 ft.             0     0    -6   \n",
       "5   ...             Center(C)  Less Than 8 ft.             2    -3    20   \n",
       "\n",
       "   SHOT_ATTEMPTED_FLAG SHOT_MADE_FLAG GAME_DATE  HTM  VTM  \n",
       "0                    1              0  20200813  UTA  SAS  \n",
       "1                    1              1  20200813  UTA  SAS  \n",
       "2                    1              1  20200813  UTA  SAS  \n",
       "3                    1              1  20200813  UTA  SAS  \n",
       "4                    1              1  20200813  UTA  SAS  \n",
       "..                 ...            ...       ...  ...  ...  \n",
       "1                    1              1  20200813  UTA  SAS  \n",
       "2                    1              0  20200813  UTA  SAS  \n",
       "3                    1              1  20200813  UTA  SAS  \n",
       "4                    1              1  20200813  UTA  SAS  \n",
       "5                    1              0  20200813  UTA  SAS  \n",
       "\n",
       "[79 rows x 24 columns]"
      ],
      "text/html": "<div>\n<style scoped>\n    .dataframe tbody tr th:only-of-type {\n        vertical-align: middle;\n    }\n\n    .dataframe tbody tr th {\n        vertical-align: top;\n    }\n\n    .dataframe thead th {\n        text-align: right;\n    }\n</style>\n<table border=\"1\" class=\"dataframe\">\n  <thead>\n    <tr style=\"text-align: right;\">\n      <th></th>\n      <th>GRID_TYPE</th>\n      <th>GAME_ID</th>\n      <th>GAME_EVENT_ID</th>\n      <th>PLAYER_ID</th>\n      <th>PLAYER_NAME</th>\n      <th>TEAM_ID</th>\n      <th>TEAM_NAME</th>\n      <th>PERIOD</th>\n      <th>MINUTES_REMAINING</th>\n      <th>SECONDS_REMAINING</th>\n      <th>...</th>\n      <th>SHOT_ZONE_AREA</th>\n      <th>SHOT_ZONE_RANGE</th>\n      <th>SHOT_DISTANCE</th>\n      <th>LOC_X</th>\n      <th>LOC_Y</th>\n      <th>SHOT_ATTEMPTED_FLAG</th>\n      <th>SHOT_MADE_FLAG</th>\n      <th>GAME_DATE</th>\n      <th>HTM</th>\n      <th>VTM</th>\n    </tr>\n  </thead>\n  <tbody>\n    <tr>\n      <th>0</th>\n      <td>Shot Chart Detail</td>\n      <td>0021901314</td>\n      <td>18</td>\n      <td>1629640</td>\n      <td>Keldon Johnson</td>\n      <td>1610612759</td>\n      <td>San Antonio Spurs</td>\n      <td>1</td>\n      <td>10</td>\n      <td>49</td>\n      <td>...</td>\n      <td>Center(C)</td>\n      <td>Less Than 8 ft.</td>\n      <td>4</td>\n      <td>-44</td>\n      <td>9</td>\n      <td>1</td>\n      <td>0</td>\n      <td>20200813</td>\n      <td>UTA</td>\n      <td>SAS</td>\n    </tr>\n    <tr>\n      <th>1</th>\n      <td>Shot Chart Detail</td>\n      <td>0021901314</td>\n      <td>34</td>\n      <td>1629640</td>\n      <td>Keldon Johnson</td>\n      <td>1610612759</td>\n      <td>San Antonio Spurs</td>\n      <td>1</td>\n      <td>9</td>\n      <td>40</td>\n      <td>...</td>\n      <td>Right Side(R)</td>\n      <td>8-16 ft.</td>\n      <td>13</td>\n      <td>120</td>\n      <td>71</td>\n      <td>1</td>\n      <td>1</td>\n      <td>20200813</td>\n      <td>UTA</td>\n      <td>SAS</td>\n    </tr>\n    <tr>\n      <th>2</th>\n      <td>Shot Chart Detail</td>\n      <td>0021901314</td>\n      <td>47</td>\n      <td>1629640</td>\n      <td>Keldon Johnson</td>\n      <td>1610612759</td>\n      <td>San Antonio Spurs</td>\n      <td>1</td>\n      <td>7</td>\n      <td>55</td>\n      <td>...</td>\n      <td>Left Side Center(LC)</td>\n      <td>24+ ft.</td>\n      <td>25</td>\n      <td>-117</td>\n      <td>225</td>\n      <td>1</td>\n      <td>1</td>\n      <td>20200813</td>\n      <td>UTA</td>\n      <td>SAS</td>\n    </tr>\n    <tr>\n      <th>3</th>\n      <td>Shot Chart Detail</td>\n      <td>0021901314</td>\n      <td>85</td>\n      <td>1629640</td>\n      <td>Keldon Johnson</td>\n      <td>1610612759</td>\n      <td>San Antonio Spurs</td>\n      <td>1</td>\n      <td>4</td>\n      <td>53</td>\n      <td>...</td>\n      <td>Center(C)</td>\n      <td>Less Than 8 ft.</td>\n      <td>2</td>\n      <td>-24</td>\n      <td>0</td>\n      <td>1</td>\n      <td>1</td>\n      <td>20200813</td>\n      <td>UTA</td>\n      <td>SAS</td>\n    </tr>\n    <tr>\n      <th>4</th>\n      <td>Shot Chart Detail</td>\n      <td>0021901314</td>\n      <td>235</td>\n      <td>1629640</td>\n      <td>Keldon Johnson</td>\n      <td>1610612759</td>\n      <td>San Antonio Spurs</td>\n      <td>2</td>\n      <td>7</td>\n      <td>46</td>\n      <td>...</td>\n      <td>Right Side(R)</td>\n      <td>8-16 ft.</td>\n      <td>8</td>\n      <td>68</td>\n      <td>47</td>\n      <td>1</td>\n      <td>1</td>\n      <td>20200813</td>\n      <td>UTA</td>\n      <td>SAS</td>\n    </tr>\n    <tr>\n      <th>...</th>\n      <td>...</td>\n      <td>...</td>\n      <td>...</td>\n      <td>...</td>\n      <td>...</td>\n      <td>...</td>\n      <td>...</td>\n      <td>...</td>\n      <td>...</td>\n      <td>...</td>\n      <td>...</td>\n      <td>...</td>\n      <td>...</td>\n      <td>...</td>\n      <td>...</td>\n      <td>...</td>\n      <td>...</td>\n      <td>...</td>\n      <td>...</td>\n      <td>...</td>\n      <td>...</td>\n    </tr>\n    <tr>\n      <th>1</th>\n      <td>Shot Chart Detail</td>\n      <td>0021901314</td>\n      <td>265</td>\n      <td>1629002</td>\n      <td>Chimezie Metu</td>\n      <td>1610612759</td>\n      <td>San Antonio Spurs</td>\n      <td>2</td>\n      <td>5</td>\n      <td>36</td>\n      <td>...</td>\n      <td>Center(C)</td>\n      <td>8-16 ft.</td>\n      <td>9</td>\n      <td>23</td>\n      <td>89</td>\n      <td>1</td>\n      <td>1</td>\n      <td>20200813</td>\n      <td>UTA</td>\n      <td>SAS</td>\n    </tr>\n    <tr>\n      <th>2</th>\n      <td>Shot Chart Detail</td>\n      <td>0021901314</td>\n      <td>444</td>\n      <td>1629002</td>\n      <td>Chimezie Metu</td>\n      <td>1610612759</td>\n      <td>San Antonio Spurs</td>\n      <td>3</td>\n      <td>4</td>\n      <td>49</td>\n      <td>...</td>\n      <td>Right Side(R)</td>\n      <td>16-24 ft.</td>\n      <td>18</td>\n      <td>152</td>\n      <td>109</td>\n      <td>1</td>\n      <td>0</td>\n      <td>20200813</td>\n      <td>UTA</td>\n      <td>SAS</td>\n    </tr>\n    <tr>\n      <th>3</th>\n      <td>Shot Chart Detail</td>\n      <td>0021901314</td>\n      <td>561</td>\n      <td>1629002</td>\n      <td>Chimezie Metu</td>\n      <td>1610612759</td>\n      <td>San Antonio Spurs</td>\n      <td>4</td>\n      <td>7</td>\n      <td>20</td>\n      <td>...</td>\n      <td>Center(C)</td>\n      <td>Less Than 8 ft.</td>\n      <td>2</td>\n      <td>-19</td>\n      <td>15</td>\n      <td>1</td>\n      <td>1</td>\n      <td>20200813</td>\n      <td>UTA</td>\n      <td>SAS</td>\n    </tr>\n    <tr>\n      <th>4</th>\n      <td>Shot Chart Detail</td>\n      <td>0021901314</td>\n      <td>597</td>\n      <td>1629002</td>\n      <td>Chimezie Metu</td>\n      <td>1610612759</td>\n      <td>San Antonio Spurs</td>\n      <td>4</td>\n      <td>4</td>\n      <td>54</td>\n      <td>...</td>\n      <td>Center(C)</td>\n      <td>Less Than 8 ft.</td>\n      <td>0</td>\n      <td>0</td>\n      <td>-6</td>\n      <td>1</td>\n      <td>1</td>\n      <td>20200813</td>\n      <td>UTA</td>\n      <td>SAS</td>\n    </tr>\n    <tr>\n      <th>5</th>\n      <td>Shot Chart Detail</td>\n      <td>0021901314</td>\n      <td>618</td>\n      <td>1629002</td>\n      <td>Chimezie Metu</td>\n      <td>1610612759</td>\n      <td>San Antonio Spurs</td>\n      <td>4</td>\n      <td>3</td>\n      <td>35</td>\n      <td>...</td>\n      <td>Center(C)</td>\n      <td>Less Than 8 ft.</td>\n      <td>2</td>\n      <td>-3</td>\n      <td>20</td>\n      <td>1</td>\n      <td>0</td>\n      <td>20200813</td>\n      <td>UTA</td>\n      <td>SAS</td>\n    </tr>\n  </tbody>\n</table>\n<p>79 rows × 24 columns</p>\n</div>"
     },
     "metadata": {},
     "execution_count": 43
    }
   ],
   "source": [
    "spurs_shots_df"
   ]
  },
  {
   "cell_type": "code",
   "execution_count": 45,
   "metadata": {},
   "outputs": [],
   "source": [
    "clean_spurs_shots_df = clean_shots_df(spurs_shots_df)\n",
    "clean_opp_shots_df = clean_shots_df(opp_shots_df)"
   ]
  },
  {
   "cell_type": "code",
   "execution_count": 47,
   "metadata": {},
   "outputs": [
    {
     "output_type": "execute_result",
     "data": {
      "text/plain": [
       "       GAME_ID          TEAM_NAME         SHOT_ZONE_AREA  SHOT_ZONE_RANGE  \\\n",
       "0   0021901314  San Antonio Spurs              Center(C)          24+ ft.   \n",
       "1   0021901314  San Antonio Spurs              Center(C)         8-16 ft.   \n",
       "2   0021901314  San Antonio Spurs              Center(C)  Less Than 8 ft.   \n",
       "3   0021901314  San Antonio Spurs   Left Side Center(LC)          24+ ft.   \n",
       "4   0021901314  San Antonio Spurs           Left Side(L)        16-24 ft.   \n",
       "5   0021901314  San Antonio Spurs           Left Side(L)          24+ ft.   \n",
       "6   0021901314  San Antonio Spurs           Left Side(L)         8-16 ft.   \n",
       "7   0021901314  San Antonio Spurs  Right Side Center(RC)        16-24 ft.   \n",
       "8   0021901314  San Antonio Spurs  Right Side Center(RC)          24+ ft.   \n",
       "9   0021901314  San Antonio Spurs          Right Side(R)        16-24 ft.   \n",
       "10  0021901314  San Antonio Spurs          Right Side(R)          24+ ft.   \n",
       "11  0021901314  San Antonio Spurs          Right Side(R)         8-16 ft.   \n",
       "\n",
       "    SHOT_MADE_FLAG  SHOT_ATTEMPTED_FLAG  rounded_fg_pct  \n",
       "0                2                    2             100  \n",
       "1                3                   10              30  \n",
       "2               17                   30              57  \n",
       "3                3                    6              50  \n",
       "4                3                    5              60  \n",
       "5                1                    3              33  \n",
       "6                1                    1             100  \n",
       "7                0                    3               0  \n",
       "8                3                    7              43  \n",
       "9                1                    4              25  \n",
       "10               1                    2              50  \n",
       "11               4                    6              67  "
      ],
      "text/html": "<div>\n<style scoped>\n    .dataframe tbody tr th:only-of-type {\n        vertical-align: middle;\n    }\n\n    .dataframe tbody tr th {\n        vertical-align: top;\n    }\n\n    .dataframe thead th {\n        text-align: right;\n    }\n</style>\n<table border=\"1\" class=\"dataframe\">\n  <thead>\n    <tr style=\"text-align: right;\">\n      <th></th>\n      <th>GAME_ID</th>\n      <th>TEAM_NAME</th>\n      <th>SHOT_ZONE_AREA</th>\n      <th>SHOT_ZONE_RANGE</th>\n      <th>SHOT_MADE_FLAG</th>\n      <th>SHOT_ATTEMPTED_FLAG</th>\n      <th>rounded_fg_pct</th>\n    </tr>\n  </thead>\n  <tbody>\n    <tr>\n      <th>0</th>\n      <td>0021901314</td>\n      <td>San Antonio Spurs</td>\n      <td>Center(C)</td>\n      <td>24+ ft.</td>\n      <td>2</td>\n      <td>2</td>\n      <td>100</td>\n    </tr>\n    <tr>\n      <th>1</th>\n      <td>0021901314</td>\n      <td>San Antonio Spurs</td>\n      <td>Center(C)</td>\n      <td>8-16 ft.</td>\n      <td>3</td>\n      <td>10</td>\n      <td>30</td>\n    </tr>\n    <tr>\n      <th>2</th>\n      <td>0021901314</td>\n      <td>San Antonio Spurs</td>\n      <td>Center(C)</td>\n      <td>Less Than 8 ft.</td>\n      <td>17</td>\n      <td>30</td>\n      <td>57</td>\n    </tr>\n    <tr>\n      <th>3</th>\n      <td>0021901314</td>\n      <td>San Antonio Spurs</td>\n      <td>Left Side Center(LC)</td>\n      <td>24+ ft.</td>\n      <td>3</td>\n      <td>6</td>\n      <td>50</td>\n    </tr>\n    <tr>\n      <th>4</th>\n      <td>0021901314</td>\n      <td>San Antonio Spurs</td>\n      <td>Left Side(L)</td>\n      <td>16-24 ft.</td>\n      <td>3</td>\n      <td>5</td>\n      <td>60</td>\n    </tr>\n    <tr>\n      <th>5</th>\n      <td>0021901314</td>\n      <td>San Antonio Spurs</td>\n      <td>Left Side(L)</td>\n      <td>24+ ft.</td>\n      <td>1</td>\n      <td>3</td>\n      <td>33</td>\n    </tr>\n    <tr>\n      <th>6</th>\n      <td>0021901314</td>\n      <td>San Antonio Spurs</td>\n      <td>Left Side(L)</td>\n      <td>8-16 ft.</td>\n      <td>1</td>\n      <td>1</td>\n      <td>100</td>\n    </tr>\n    <tr>\n      <th>7</th>\n      <td>0021901314</td>\n      <td>San Antonio Spurs</td>\n      <td>Right Side Center(RC)</td>\n      <td>16-24 ft.</td>\n      <td>0</td>\n      <td>3</td>\n      <td>0</td>\n    </tr>\n    <tr>\n      <th>8</th>\n      <td>0021901314</td>\n      <td>San Antonio Spurs</td>\n      <td>Right Side Center(RC)</td>\n      <td>24+ ft.</td>\n      <td>3</td>\n      <td>7</td>\n      <td>43</td>\n    </tr>\n    <tr>\n      <th>9</th>\n      <td>0021901314</td>\n      <td>San Antonio Spurs</td>\n      <td>Right Side(R)</td>\n      <td>16-24 ft.</td>\n      <td>1</td>\n      <td>4</td>\n      <td>25</td>\n    </tr>\n    <tr>\n      <th>10</th>\n      <td>0021901314</td>\n      <td>San Antonio Spurs</td>\n      <td>Right Side(R)</td>\n      <td>24+ ft.</td>\n      <td>1</td>\n      <td>2</td>\n      <td>50</td>\n    </tr>\n    <tr>\n      <th>11</th>\n      <td>0021901314</td>\n      <td>San Antonio Spurs</td>\n      <td>Right Side(R)</td>\n      <td>8-16 ft.</td>\n      <td>4</td>\n      <td>6</td>\n      <td>67</td>\n    </tr>\n  </tbody>\n</table>\n</div>"
     },
     "metadata": {},
     "execution_count": 47
    }
   ],
   "source": [
    "clean_spurs_shots_df"
   ]
  },
  {
   "cell_type": "code",
   "execution_count": 19,
   "metadata": {},
   "outputs": [
    {
     "output_type": "execute_result",
     "data": {
      "text/plain": [
       "game_id             object\n",
       "team_name           object\n",
       "shot_zone_area      object\n",
       "shot_zone_range     object\n",
       "shots_made           int64\n",
       "shots_attempted      int64\n",
       "rounded_fg_pct       int64\n",
       "formatted_fg_pct    object\n",
       "dtype: object"
      ]
     },
     "metadata": {},
     "execution_count": 19
    }
   ],
   "source": [
    "clean_spurs_shots_df.dtypes"
   ]
  },
  {
   "cell_type": "markdown",
   "metadata": {},
   "source": [
    "# Get League Average Shot Chart"
   ]
  },
  {
   "cell_type": "code",
   "execution_count": 20,
   "metadata": {},
   "outputs": [],
   "source": [
    "# get league average shot chart\n",
    "\n",
    "name = get_playerid(spurs_roster_list[0])\n",
    "\n",
    "league_avg = ShotChartDetail(\n",
    "    season_nullable=season,\n",
    "    team_id=spurs_id,\n",
    "    player_id=name,\n",
    "    context_measure_simple='FGA'\n",
    ")\n",
    "\n",
    "time.sleep(5)\n",
    "\n",
    "league_avg_df = league_avg.data_sets[1].get_data_frame() # league averages is 1"
   ]
  },
  {
   "cell_type": "code",
   "execution_count": 21,
   "metadata": {},
   "outputs": [
    {
     "output_type": "execute_result",
     "data": {
      "text/plain": [
       "Index(['GRID_TYPE', 'SHOT_ZONE_BASIC', 'SHOT_ZONE_AREA', 'SHOT_ZONE_RANGE',\n",
       "       'FGA', 'FGM', 'FG_PCT'],\n",
       "      dtype='object')"
      ]
     },
     "metadata": {},
     "execution_count": 21
    }
   ],
   "source": [
    "league_avg_df.columns"
   ]
  },
  {
   "cell_type": "code",
   "execution_count": 22,
   "metadata": {},
   "outputs": [
    {
     "output_type": "execute_result",
     "data": {
      "text/plain": [
       "          GRID_TYPE        SHOT_ZONE_BASIC         SHOT_ZONE_AREA  \\\n",
       "0   League Averages      Above the Break 3         Back Court(BC)   \n",
       "1   League Averages      Above the Break 3              Center(C)   \n",
       "2   League Averages      Above the Break 3   Left Side Center(LC)   \n",
       "3   League Averages      Above the Break 3  Right Side Center(RC)   \n",
       "4   League Averages              Backcourt         Back Court(BC)   \n",
       "5   League Averages  In The Paint (Non-RA)              Center(C)   \n",
       "6   League Averages  In The Paint (Non-RA)              Center(C)   \n",
       "7   League Averages  In The Paint (Non-RA)           Left Side(L)   \n",
       "8   League Averages  In The Paint (Non-RA)          Right Side(R)   \n",
       "9   League Averages          Left Corner 3           Left Side(L)   \n",
       "10  League Averages              Mid-Range              Center(C)   \n",
       "11  League Averages              Mid-Range              Center(C)   \n",
       "12  League Averages              Mid-Range   Left Side Center(LC)   \n",
       "13  League Averages              Mid-Range           Left Side(L)   \n",
       "14  League Averages              Mid-Range           Left Side(L)   \n",
       "15  League Averages              Mid-Range  Right Side Center(RC)   \n",
       "16  League Averages              Mid-Range          Right Side(R)   \n",
       "17  League Averages              Mid-Range          Right Side(R)   \n",
       "18  League Averages        Restricted Area              Center(C)   \n",
       "19  League Averages         Right Corner 3          Right Side(R)   \n",
       "\n",
       "    SHOT_ZONE_RANGE    FGA    FGM  FG_PCT  \n",
       "0   Back Court Shot     45      6   0.133  \n",
       "1           24+ ft.  14955   5168   0.346  \n",
       "2           24+ ft.  20895   7459   0.357  \n",
       "3           24+ ft.  19624   6875   0.350  \n",
       "4   Back Court Shot    405      7   0.017  \n",
       "5          8-16 ft.   9820   4159   0.424  \n",
       "6   Less Than 8 ft.  16915   6518   0.385  \n",
       "7          8-16 ft.   1770    714   0.403  \n",
       "8          8-16 ft.   1871    738   0.394  \n",
       "9           24+ ft.   8380   3329   0.397  \n",
       "10         8-16 ft.   1778    746   0.420  \n",
       "11        16-24 ft.   4036   1663   0.412  \n",
       "12        16-24 ft.   3634   1445   0.398  \n",
       "13        16-24 ft.   1541    614   0.398  \n",
       "14         8-16 ft.   4361   1768   0.405  \n",
       "15        16-24 ft.   3820   1556   0.407  \n",
       "16        16-24 ft.   1425    561   0.394  \n",
       "17         8-16 ft.   4471   1792   0.401  \n",
       "18  Less Than 8 ft.  60503  38441   0.635  \n",
       "19          24+ ft.   7867   2991   0.380  "
      ],
      "text/html": "<div>\n<style scoped>\n    .dataframe tbody tr th:only-of-type {\n        vertical-align: middle;\n    }\n\n    .dataframe tbody tr th {\n        vertical-align: top;\n    }\n\n    .dataframe thead th {\n        text-align: right;\n    }\n</style>\n<table border=\"1\" class=\"dataframe\">\n  <thead>\n    <tr style=\"text-align: right;\">\n      <th></th>\n      <th>GRID_TYPE</th>\n      <th>SHOT_ZONE_BASIC</th>\n      <th>SHOT_ZONE_AREA</th>\n      <th>SHOT_ZONE_RANGE</th>\n      <th>FGA</th>\n      <th>FGM</th>\n      <th>FG_PCT</th>\n    </tr>\n  </thead>\n  <tbody>\n    <tr>\n      <th>0</th>\n      <td>League Averages</td>\n      <td>Above the Break 3</td>\n      <td>Back Court(BC)</td>\n      <td>Back Court Shot</td>\n      <td>45</td>\n      <td>6</td>\n      <td>0.133</td>\n    </tr>\n    <tr>\n      <th>1</th>\n      <td>League Averages</td>\n      <td>Above the Break 3</td>\n      <td>Center(C)</td>\n      <td>24+ ft.</td>\n      <td>14955</td>\n      <td>5168</td>\n      <td>0.346</td>\n    </tr>\n    <tr>\n      <th>2</th>\n      <td>League Averages</td>\n      <td>Above the Break 3</td>\n      <td>Left Side Center(LC)</td>\n      <td>24+ ft.</td>\n      <td>20895</td>\n      <td>7459</td>\n      <td>0.357</td>\n    </tr>\n    <tr>\n      <th>3</th>\n      <td>League Averages</td>\n      <td>Above the Break 3</td>\n      <td>Right Side Center(RC)</td>\n      <td>24+ ft.</td>\n      <td>19624</td>\n      <td>6875</td>\n      <td>0.350</td>\n    </tr>\n    <tr>\n      <th>4</th>\n      <td>League Averages</td>\n      <td>Backcourt</td>\n      <td>Back Court(BC)</td>\n      <td>Back Court Shot</td>\n      <td>405</td>\n      <td>7</td>\n      <td>0.017</td>\n    </tr>\n    <tr>\n      <th>5</th>\n      <td>League Averages</td>\n      <td>In The Paint (Non-RA)</td>\n      <td>Center(C)</td>\n      <td>8-16 ft.</td>\n      <td>9820</td>\n      <td>4159</td>\n      <td>0.424</td>\n    </tr>\n    <tr>\n      <th>6</th>\n      <td>League Averages</td>\n      <td>In The Paint (Non-RA)</td>\n      <td>Center(C)</td>\n      <td>Less Than 8 ft.</td>\n      <td>16915</td>\n      <td>6518</td>\n      <td>0.385</td>\n    </tr>\n    <tr>\n      <th>7</th>\n      <td>League Averages</td>\n      <td>In The Paint (Non-RA)</td>\n      <td>Left Side(L)</td>\n      <td>8-16 ft.</td>\n      <td>1770</td>\n      <td>714</td>\n      <td>0.403</td>\n    </tr>\n    <tr>\n      <th>8</th>\n      <td>League Averages</td>\n      <td>In The Paint (Non-RA)</td>\n      <td>Right Side(R)</td>\n      <td>8-16 ft.</td>\n      <td>1871</td>\n      <td>738</td>\n      <td>0.394</td>\n    </tr>\n    <tr>\n      <th>9</th>\n      <td>League Averages</td>\n      <td>Left Corner 3</td>\n      <td>Left Side(L)</td>\n      <td>24+ ft.</td>\n      <td>8380</td>\n      <td>3329</td>\n      <td>0.397</td>\n    </tr>\n    <tr>\n      <th>10</th>\n      <td>League Averages</td>\n      <td>Mid-Range</td>\n      <td>Center(C)</td>\n      <td>8-16 ft.</td>\n      <td>1778</td>\n      <td>746</td>\n      <td>0.420</td>\n    </tr>\n    <tr>\n      <th>11</th>\n      <td>League Averages</td>\n      <td>Mid-Range</td>\n      <td>Center(C)</td>\n      <td>16-24 ft.</td>\n      <td>4036</td>\n      <td>1663</td>\n      <td>0.412</td>\n    </tr>\n    <tr>\n      <th>12</th>\n      <td>League Averages</td>\n      <td>Mid-Range</td>\n      <td>Left Side Center(LC)</td>\n      <td>16-24 ft.</td>\n      <td>3634</td>\n      <td>1445</td>\n      <td>0.398</td>\n    </tr>\n    <tr>\n      <th>13</th>\n      <td>League Averages</td>\n      <td>Mid-Range</td>\n      <td>Left Side(L)</td>\n      <td>16-24 ft.</td>\n      <td>1541</td>\n      <td>614</td>\n      <td>0.398</td>\n    </tr>\n    <tr>\n      <th>14</th>\n      <td>League Averages</td>\n      <td>Mid-Range</td>\n      <td>Left Side(L)</td>\n      <td>8-16 ft.</td>\n      <td>4361</td>\n      <td>1768</td>\n      <td>0.405</td>\n    </tr>\n    <tr>\n      <th>15</th>\n      <td>League Averages</td>\n      <td>Mid-Range</td>\n      <td>Right Side Center(RC)</td>\n      <td>16-24 ft.</td>\n      <td>3820</td>\n      <td>1556</td>\n      <td>0.407</td>\n    </tr>\n    <tr>\n      <th>16</th>\n      <td>League Averages</td>\n      <td>Mid-Range</td>\n      <td>Right Side(R)</td>\n      <td>16-24 ft.</td>\n      <td>1425</td>\n      <td>561</td>\n      <td>0.394</td>\n    </tr>\n    <tr>\n      <th>17</th>\n      <td>League Averages</td>\n      <td>Mid-Range</td>\n      <td>Right Side(R)</td>\n      <td>8-16 ft.</td>\n      <td>4471</td>\n      <td>1792</td>\n      <td>0.401</td>\n    </tr>\n    <tr>\n      <th>18</th>\n      <td>League Averages</td>\n      <td>Restricted Area</td>\n      <td>Center(C)</td>\n      <td>Less Than 8 ft.</td>\n      <td>60503</td>\n      <td>38441</td>\n      <td>0.635</td>\n    </tr>\n    <tr>\n      <th>19</th>\n      <td>League Averages</td>\n      <td>Right Corner 3</td>\n      <td>Right Side(R)</td>\n      <td>24+ ft.</td>\n      <td>7867</td>\n      <td>2991</td>\n      <td>0.380</td>\n    </tr>\n  </tbody>\n</table>\n</div>"
     },
     "metadata": {},
     "execution_count": 22
    }
   ],
   "source": [
    "league_avg_df"
   ]
  },
  {
   "cell_type": "code",
   "execution_count": 23,
   "metadata": {},
   "outputs": [],
   "source": [
    "groupby_cols = ['SHOT_ZONE_AREA', 'SHOT_ZONE_RANGE']\n",
    "out_cols = ['SHOT_ZONE_AREA', 'SHOT_ZONE_RANGE', 'FGA', 'FGM']\n",
    "\n",
    "league_avg_df = league_avg_df.groupby(groupby_cols)[out_cols].sum().reset_index()"
   ]
  },
  {
   "cell_type": "code",
   "execution_count": 24,
   "metadata": {},
   "outputs": [
    {
     "output_type": "execute_result",
     "data": {
      "text/plain": [
       "           SHOT_ZONE_AREA  SHOT_ZONE_RANGE    FGA    FGM\n",
       "0          Back Court(BC)  Back Court Shot    450     13\n",
       "1               Center(C)        16-24 ft.   4036   1663\n",
       "2               Center(C)          24+ ft.  14955   5168\n",
       "3               Center(C)         8-16 ft.  11598   4905\n",
       "4               Center(C)  Less Than 8 ft.  77418  44959\n",
       "5    Left Side Center(LC)        16-24 ft.   3634   1445\n",
       "6    Left Side Center(LC)          24+ ft.  20895   7459\n",
       "7            Left Side(L)        16-24 ft.   1541    614\n",
       "8            Left Side(L)          24+ ft.   8380   3329\n",
       "9            Left Side(L)         8-16 ft.   6131   2482\n",
       "10  Right Side Center(RC)        16-24 ft.   3820   1556\n",
       "11  Right Side Center(RC)          24+ ft.  19624   6875\n",
       "12          Right Side(R)        16-24 ft.   1425    561\n",
       "13          Right Side(R)          24+ ft.   7867   2991\n",
       "14          Right Side(R)         8-16 ft.   6342   2530"
      ],
      "text/html": "<div>\n<style scoped>\n    .dataframe tbody tr th:only-of-type {\n        vertical-align: middle;\n    }\n\n    .dataframe tbody tr th {\n        vertical-align: top;\n    }\n\n    .dataframe thead th {\n        text-align: right;\n    }\n</style>\n<table border=\"1\" class=\"dataframe\">\n  <thead>\n    <tr style=\"text-align: right;\">\n      <th></th>\n      <th>SHOT_ZONE_AREA</th>\n      <th>SHOT_ZONE_RANGE</th>\n      <th>FGA</th>\n      <th>FGM</th>\n    </tr>\n  </thead>\n  <tbody>\n    <tr>\n      <th>0</th>\n      <td>Back Court(BC)</td>\n      <td>Back Court Shot</td>\n      <td>450</td>\n      <td>13</td>\n    </tr>\n    <tr>\n      <th>1</th>\n      <td>Center(C)</td>\n      <td>16-24 ft.</td>\n      <td>4036</td>\n      <td>1663</td>\n    </tr>\n    <tr>\n      <th>2</th>\n      <td>Center(C)</td>\n      <td>24+ ft.</td>\n      <td>14955</td>\n      <td>5168</td>\n    </tr>\n    <tr>\n      <th>3</th>\n      <td>Center(C)</td>\n      <td>8-16 ft.</td>\n      <td>11598</td>\n      <td>4905</td>\n    </tr>\n    <tr>\n      <th>4</th>\n      <td>Center(C)</td>\n      <td>Less Than 8 ft.</td>\n      <td>77418</td>\n      <td>44959</td>\n    </tr>\n    <tr>\n      <th>5</th>\n      <td>Left Side Center(LC)</td>\n      <td>16-24 ft.</td>\n      <td>3634</td>\n      <td>1445</td>\n    </tr>\n    <tr>\n      <th>6</th>\n      <td>Left Side Center(LC)</td>\n      <td>24+ ft.</td>\n      <td>20895</td>\n      <td>7459</td>\n    </tr>\n    <tr>\n      <th>7</th>\n      <td>Left Side(L)</td>\n      <td>16-24 ft.</td>\n      <td>1541</td>\n      <td>614</td>\n    </tr>\n    <tr>\n      <th>8</th>\n      <td>Left Side(L)</td>\n      <td>24+ ft.</td>\n      <td>8380</td>\n      <td>3329</td>\n    </tr>\n    <tr>\n      <th>9</th>\n      <td>Left Side(L)</td>\n      <td>8-16 ft.</td>\n      <td>6131</td>\n      <td>2482</td>\n    </tr>\n    <tr>\n      <th>10</th>\n      <td>Right Side Center(RC)</td>\n      <td>16-24 ft.</td>\n      <td>3820</td>\n      <td>1556</td>\n    </tr>\n    <tr>\n      <th>11</th>\n      <td>Right Side Center(RC)</td>\n      <td>24+ ft.</td>\n      <td>19624</td>\n      <td>6875</td>\n    </tr>\n    <tr>\n      <th>12</th>\n      <td>Right Side(R)</td>\n      <td>16-24 ft.</td>\n      <td>1425</td>\n      <td>561</td>\n    </tr>\n    <tr>\n      <th>13</th>\n      <td>Right Side(R)</td>\n      <td>24+ ft.</td>\n      <td>7867</td>\n      <td>2991</td>\n    </tr>\n    <tr>\n      <th>14</th>\n      <td>Right Side(R)</td>\n      <td>8-16 ft.</td>\n      <td>6342</td>\n      <td>2530</td>\n    </tr>\n  </tbody>\n</table>\n</div>"
     },
     "metadata": {},
     "execution_count": 24
    }
   ],
   "source": [
    "league_avg_df"
   ]
  },
  {
   "cell_type": "code",
   "execution_count": 25,
   "metadata": {},
   "outputs": [],
   "source": [
    "# league_avg_df = league_avg.data_sets[1].get_data_frame() # league averages is 1\n",
    "# league_avg_df = rename_cols(league_avg_df)\n",
    "# league_avg_df['rounded_fg_pct'] = (league_avg_df.fg_pct * 100).astype(int)\n",
    "# league_avg_df['formatted_fg_pct'] = round(league_avg_df.rounded_fg_pct).astype(str) + '%'"
   ]
  },
  {
   "cell_type": "code",
   "execution_count": 49,
   "metadata": {},
   "outputs": [
    {
     "output_type": "execute_result",
     "data": {
      "text/plain": [
       "           SHOT_ZONE_AREA  SHOT_ZONE_RANGE\n",
       "0          Back Court(BC)  Back Court Shot\n",
       "1               Center(C)        16-24 ft.\n",
       "2               Center(C)          24+ ft.\n",
       "3               Center(C)         8-16 ft.\n",
       "4               Center(C)  Less Than 8 ft.\n",
       "5    Left Side Center(LC)        16-24 ft.\n",
       "6    Left Side Center(LC)          24+ ft.\n",
       "7            Left Side(L)        16-24 ft.\n",
       "8            Left Side(L)          24+ ft.\n",
       "9            Left Side(L)         8-16 ft.\n",
       "10  Right Side Center(RC)        16-24 ft.\n",
       "11  Right Side Center(RC)          24+ ft.\n",
       "12          Right Side(R)        16-24 ft.\n",
       "13          Right Side(R)          24+ ft.\n",
       "14          Right Side(R)         8-16 ft."
      ],
      "text/html": "<div>\n<style scoped>\n    .dataframe tbody tr th:only-of-type {\n        vertical-align: middle;\n    }\n\n    .dataframe tbody tr th {\n        vertical-align: top;\n    }\n\n    .dataframe thead th {\n        text-align: right;\n    }\n</style>\n<table border=\"1\" class=\"dataframe\">\n  <thead>\n    <tr style=\"text-align: right;\">\n      <th></th>\n      <th>SHOT_ZONE_AREA</th>\n      <th>SHOT_ZONE_RANGE</th>\n    </tr>\n  </thead>\n  <tbody>\n    <tr>\n      <th>0</th>\n      <td>Back Court(BC)</td>\n      <td>Back Court Shot</td>\n    </tr>\n    <tr>\n      <th>1</th>\n      <td>Center(C)</td>\n      <td>16-24 ft.</td>\n    </tr>\n    <tr>\n      <th>2</th>\n      <td>Center(C)</td>\n      <td>24+ ft.</td>\n    </tr>\n    <tr>\n      <th>3</th>\n      <td>Center(C)</td>\n      <td>8-16 ft.</td>\n    </tr>\n    <tr>\n      <th>4</th>\n      <td>Center(C)</td>\n      <td>Less Than 8 ft.</td>\n    </tr>\n    <tr>\n      <th>5</th>\n      <td>Left Side Center(LC)</td>\n      <td>16-24 ft.</td>\n    </tr>\n    <tr>\n      <th>6</th>\n      <td>Left Side Center(LC)</td>\n      <td>24+ ft.</td>\n    </tr>\n    <tr>\n      <th>7</th>\n      <td>Left Side(L)</td>\n      <td>16-24 ft.</td>\n    </tr>\n    <tr>\n      <th>8</th>\n      <td>Left Side(L)</td>\n      <td>24+ ft.</td>\n    </tr>\n    <tr>\n      <th>9</th>\n      <td>Left Side(L)</td>\n      <td>8-16 ft.</td>\n    </tr>\n    <tr>\n      <th>10</th>\n      <td>Right Side Center(RC)</td>\n      <td>16-24 ft.</td>\n    </tr>\n    <tr>\n      <th>11</th>\n      <td>Right Side Center(RC)</td>\n      <td>24+ ft.</td>\n    </tr>\n    <tr>\n      <th>12</th>\n      <td>Right Side(R)</td>\n      <td>16-24 ft.</td>\n    </tr>\n    <tr>\n      <th>13</th>\n      <td>Right Side(R)</td>\n      <td>24+ ft.</td>\n    </tr>\n    <tr>\n      <th>14</th>\n      <td>Right Side(R)</td>\n      <td>8-16 ft.</td>\n    </tr>\n  </tbody>\n</table>\n</div>"
     },
     "metadata": {},
     "execution_count": 49
    }
   ],
   "source": [
    "# Create df with standard shot area zones\n",
    "zones = league_avg_df[['SHOT_ZONE_AREA', 'SHOT_ZONE_RANGE']].copy()\n",
    "# zones.rename(columns = {\n",
    "#     'SHOT_ZONE_AREA' : 'SHOT_ZONE_AREA'.lower(),\n",
    "#     'SHOT_ZONE_RANGE' : 'SHOT_ZONE_RANGE'.lower()\n",
    "# },\n",
    "# inplace=True)\n",
    "zones"
   ]
  },
  {
   "cell_type": "code",
   "execution_count": 50,
   "metadata": {},
   "outputs": [
    {
     "output_type": "execute_result",
     "data": {
      "text/plain": [
       "       GAME_ID          TEAM_NAME         SHOT_ZONE_AREA  SHOT_ZONE_RANGE  \\\n",
       "0   0021901314  San Antonio Spurs              Center(C)          24+ ft.   \n",
       "1   0021901314  San Antonio Spurs              Center(C)         8-16 ft.   \n",
       "2   0021901314  San Antonio Spurs              Center(C)  Less Than 8 ft.   \n",
       "3   0021901314  San Antonio Spurs   Left Side Center(LC)          24+ ft.   \n",
       "4   0021901314  San Antonio Spurs           Left Side(L)        16-24 ft.   \n",
       "5   0021901314  San Antonio Spurs           Left Side(L)          24+ ft.   \n",
       "6   0021901314  San Antonio Spurs           Left Side(L)         8-16 ft.   \n",
       "7   0021901314  San Antonio Spurs  Right Side Center(RC)        16-24 ft.   \n",
       "8   0021901314  San Antonio Spurs  Right Side Center(RC)          24+ ft.   \n",
       "9   0021901314  San Antonio Spurs          Right Side(R)        16-24 ft.   \n",
       "10  0021901314  San Antonio Spurs          Right Side(R)          24+ ft.   \n",
       "11  0021901314  San Antonio Spurs          Right Side(R)         8-16 ft.   \n",
       "\n",
       "    SHOT_MADE_FLAG  SHOT_ATTEMPTED_FLAG  rounded_fg_pct  \n",
       "0                2                    2             100  \n",
       "1                3                   10              30  \n",
       "2               17                   30              57  \n",
       "3                3                    6              50  \n",
       "4                3                    5              60  \n",
       "5                1                    3              33  \n",
       "6                1                    1             100  \n",
       "7                0                    3               0  \n",
       "8                3                    7              43  \n",
       "9                1                    4              25  \n",
       "10               1                    2              50  \n",
       "11               4                    6              67  "
      ],
      "text/html": "<div>\n<style scoped>\n    .dataframe tbody tr th:only-of-type {\n        vertical-align: middle;\n    }\n\n    .dataframe tbody tr th {\n        vertical-align: top;\n    }\n\n    .dataframe thead th {\n        text-align: right;\n    }\n</style>\n<table border=\"1\" class=\"dataframe\">\n  <thead>\n    <tr style=\"text-align: right;\">\n      <th></th>\n      <th>GAME_ID</th>\n      <th>TEAM_NAME</th>\n      <th>SHOT_ZONE_AREA</th>\n      <th>SHOT_ZONE_RANGE</th>\n      <th>SHOT_MADE_FLAG</th>\n      <th>SHOT_ATTEMPTED_FLAG</th>\n      <th>rounded_fg_pct</th>\n    </tr>\n  </thead>\n  <tbody>\n    <tr>\n      <th>0</th>\n      <td>0021901314</td>\n      <td>San Antonio Spurs</td>\n      <td>Center(C)</td>\n      <td>24+ ft.</td>\n      <td>2</td>\n      <td>2</td>\n      <td>100</td>\n    </tr>\n    <tr>\n      <th>1</th>\n      <td>0021901314</td>\n      <td>San Antonio Spurs</td>\n      <td>Center(C)</td>\n      <td>8-16 ft.</td>\n      <td>3</td>\n      <td>10</td>\n      <td>30</td>\n    </tr>\n    <tr>\n      <th>2</th>\n      <td>0021901314</td>\n      <td>San Antonio Spurs</td>\n      <td>Center(C)</td>\n      <td>Less Than 8 ft.</td>\n      <td>17</td>\n      <td>30</td>\n      <td>57</td>\n    </tr>\n    <tr>\n      <th>3</th>\n      <td>0021901314</td>\n      <td>San Antonio Spurs</td>\n      <td>Left Side Center(LC)</td>\n      <td>24+ ft.</td>\n      <td>3</td>\n      <td>6</td>\n      <td>50</td>\n    </tr>\n    <tr>\n      <th>4</th>\n      <td>0021901314</td>\n      <td>San Antonio Spurs</td>\n      <td>Left Side(L)</td>\n      <td>16-24 ft.</td>\n      <td>3</td>\n      <td>5</td>\n      <td>60</td>\n    </tr>\n    <tr>\n      <th>5</th>\n      <td>0021901314</td>\n      <td>San Antonio Spurs</td>\n      <td>Left Side(L)</td>\n      <td>24+ ft.</td>\n      <td>1</td>\n      <td>3</td>\n      <td>33</td>\n    </tr>\n    <tr>\n      <th>6</th>\n      <td>0021901314</td>\n      <td>San Antonio Spurs</td>\n      <td>Left Side(L)</td>\n      <td>8-16 ft.</td>\n      <td>1</td>\n      <td>1</td>\n      <td>100</td>\n    </tr>\n    <tr>\n      <th>7</th>\n      <td>0021901314</td>\n      <td>San Antonio Spurs</td>\n      <td>Right Side Center(RC)</td>\n      <td>16-24 ft.</td>\n      <td>0</td>\n      <td>3</td>\n      <td>0</td>\n    </tr>\n    <tr>\n      <th>8</th>\n      <td>0021901314</td>\n      <td>San Antonio Spurs</td>\n      <td>Right Side Center(RC)</td>\n      <td>24+ ft.</td>\n      <td>3</td>\n      <td>7</td>\n      <td>43</td>\n    </tr>\n    <tr>\n      <th>9</th>\n      <td>0021901314</td>\n      <td>San Antonio Spurs</td>\n      <td>Right Side(R)</td>\n      <td>16-24 ft.</td>\n      <td>1</td>\n      <td>4</td>\n      <td>25</td>\n    </tr>\n    <tr>\n      <th>10</th>\n      <td>0021901314</td>\n      <td>San Antonio Spurs</td>\n      <td>Right Side(R)</td>\n      <td>24+ ft.</td>\n      <td>1</td>\n      <td>2</td>\n      <td>50</td>\n    </tr>\n    <tr>\n      <th>11</th>\n      <td>0021901314</td>\n      <td>San Antonio Spurs</td>\n      <td>Right Side(R)</td>\n      <td>8-16 ft.</td>\n      <td>4</td>\n      <td>6</td>\n      <td>67</td>\n    </tr>\n  </tbody>\n</table>\n</div>"
     },
     "metadata": {},
     "execution_count": 50
    }
   ],
   "source": [
    "clean_spurs_shots_df"
   ]
  },
  {
   "cell_type": "code",
   "execution_count": 51,
   "metadata": {},
   "outputs": [],
   "source": [
    "new_df = zones.merge(clean_spurs_shots_df, on = ['SHOT_ZONE_AREA', 'SHOT_ZONE_RANGE'], how='left')"
   ]
  },
  {
   "cell_type": "code",
   "execution_count": 52,
   "metadata": {},
   "outputs": [],
   "source": [
    "new_df.fillna(0, inplace=True)"
   ]
  },
  {
   "cell_type": "code",
   "execution_count": 53,
   "metadata": {},
   "outputs": [
    {
     "output_type": "execute_result",
     "data": {
      "text/plain": [
       "           SHOT_ZONE_AREA  SHOT_ZONE_RANGE     GAME_ID          TEAM_NAME  \\\n",
       "0          Back Court(BC)  Back Court Shot           0                  0   \n",
       "1               Center(C)        16-24 ft.           0                  0   \n",
       "2               Center(C)          24+ ft.  0021901314  San Antonio Spurs   \n",
       "3               Center(C)         8-16 ft.  0021901314  San Antonio Spurs   \n",
       "4               Center(C)  Less Than 8 ft.  0021901314  San Antonio Spurs   \n",
       "5    Left Side Center(LC)        16-24 ft.           0                  0   \n",
       "6    Left Side Center(LC)          24+ ft.  0021901314  San Antonio Spurs   \n",
       "7            Left Side(L)        16-24 ft.  0021901314  San Antonio Spurs   \n",
       "8            Left Side(L)          24+ ft.  0021901314  San Antonio Spurs   \n",
       "9            Left Side(L)         8-16 ft.  0021901314  San Antonio Spurs   \n",
       "10  Right Side Center(RC)        16-24 ft.  0021901314  San Antonio Spurs   \n",
       "11  Right Side Center(RC)          24+ ft.  0021901314  San Antonio Spurs   \n",
       "12          Right Side(R)        16-24 ft.  0021901314  San Antonio Spurs   \n",
       "13          Right Side(R)          24+ ft.  0021901314  San Antonio Spurs   \n",
       "14          Right Side(R)         8-16 ft.  0021901314  San Antonio Spurs   \n",
       "\n",
       "    SHOT_MADE_FLAG  SHOT_ATTEMPTED_FLAG  rounded_fg_pct  \n",
       "0              0.0                  0.0             0.0  \n",
       "1              0.0                  0.0             0.0  \n",
       "2              2.0                  2.0           100.0  \n",
       "3              3.0                 10.0            30.0  \n",
       "4             17.0                 30.0            57.0  \n",
       "5              0.0                  0.0             0.0  \n",
       "6              3.0                  6.0            50.0  \n",
       "7              3.0                  5.0            60.0  \n",
       "8              1.0                  3.0            33.0  \n",
       "9              1.0                  1.0           100.0  \n",
       "10             0.0                  3.0             0.0  \n",
       "11             3.0                  7.0            43.0  \n",
       "12             1.0                  4.0            25.0  \n",
       "13             1.0                  2.0            50.0  \n",
       "14             4.0                  6.0            67.0  "
      ],
      "text/html": "<div>\n<style scoped>\n    .dataframe tbody tr th:only-of-type {\n        vertical-align: middle;\n    }\n\n    .dataframe tbody tr th {\n        vertical-align: top;\n    }\n\n    .dataframe thead th {\n        text-align: right;\n    }\n</style>\n<table border=\"1\" class=\"dataframe\">\n  <thead>\n    <tr style=\"text-align: right;\">\n      <th></th>\n      <th>SHOT_ZONE_AREA</th>\n      <th>SHOT_ZONE_RANGE</th>\n      <th>GAME_ID</th>\n      <th>TEAM_NAME</th>\n      <th>SHOT_MADE_FLAG</th>\n      <th>SHOT_ATTEMPTED_FLAG</th>\n      <th>rounded_fg_pct</th>\n    </tr>\n  </thead>\n  <tbody>\n    <tr>\n      <th>0</th>\n      <td>Back Court(BC)</td>\n      <td>Back Court Shot</td>\n      <td>0</td>\n      <td>0</td>\n      <td>0.0</td>\n      <td>0.0</td>\n      <td>0.0</td>\n    </tr>\n    <tr>\n      <th>1</th>\n      <td>Center(C)</td>\n      <td>16-24 ft.</td>\n      <td>0</td>\n      <td>0</td>\n      <td>0.0</td>\n      <td>0.0</td>\n      <td>0.0</td>\n    </tr>\n    <tr>\n      <th>2</th>\n      <td>Center(C)</td>\n      <td>24+ ft.</td>\n      <td>0021901314</td>\n      <td>San Antonio Spurs</td>\n      <td>2.0</td>\n      <td>2.0</td>\n      <td>100.0</td>\n    </tr>\n    <tr>\n      <th>3</th>\n      <td>Center(C)</td>\n      <td>8-16 ft.</td>\n      <td>0021901314</td>\n      <td>San Antonio Spurs</td>\n      <td>3.0</td>\n      <td>10.0</td>\n      <td>30.0</td>\n    </tr>\n    <tr>\n      <th>4</th>\n      <td>Center(C)</td>\n      <td>Less Than 8 ft.</td>\n      <td>0021901314</td>\n      <td>San Antonio Spurs</td>\n      <td>17.0</td>\n      <td>30.0</td>\n      <td>57.0</td>\n    </tr>\n    <tr>\n      <th>5</th>\n      <td>Left Side Center(LC)</td>\n      <td>16-24 ft.</td>\n      <td>0</td>\n      <td>0</td>\n      <td>0.0</td>\n      <td>0.0</td>\n      <td>0.0</td>\n    </tr>\n    <tr>\n      <th>6</th>\n      <td>Left Side Center(LC)</td>\n      <td>24+ ft.</td>\n      <td>0021901314</td>\n      <td>San Antonio Spurs</td>\n      <td>3.0</td>\n      <td>6.0</td>\n      <td>50.0</td>\n    </tr>\n    <tr>\n      <th>7</th>\n      <td>Left Side(L)</td>\n      <td>16-24 ft.</td>\n      <td>0021901314</td>\n      <td>San Antonio Spurs</td>\n      <td>3.0</td>\n      <td>5.0</td>\n      <td>60.0</td>\n    </tr>\n    <tr>\n      <th>8</th>\n      <td>Left Side(L)</td>\n      <td>24+ ft.</td>\n      <td>0021901314</td>\n      <td>San Antonio Spurs</td>\n      <td>1.0</td>\n      <td>3.0</td>\n      <td>33.0</td>\n    </tr>\n    <tr>\n      <th>9</th>\n      <td>Left Side(L)</td>\n      <td>8-16 ft.</td>\n      <td>0021901314</td>\n      <td>San Antonio Spurs</td>\n      <td>1.0</td>\n      <td>1.0</td>\n      <td>100.0</td>\n    </tr>\n    <tr>\n      <th>10</th>\n      <td>Right Side Center(RC)</td>\n      <td>16-24 ft.</td>\n      <td>0021901314</td>\n      <td>San Antonio Spurs</td>\n      <td>0.0</td>\n      <td>3.0</td>\n      <td>0.0</td>\n    </tr>\n    <tr>\n      <th>11</th>\n      <td>Right Side Center(RC)</td>\n      <td>24+ ft.</td>\n      <td>0021901314</td>\n      <td>San Antonio Spurs</td>\n      <td>3.0</td>\n      <td>7.0</td>\n      <td>43.0</td>\n    </tr>\n    <tr>\n      <th>12</th>\n      <td>Right Side(R)</td>\n      <td>16-24 ft.</td>\n      <td>0021901314</td>\n      <td>San Antonio Spurs</td>\n      <td>1.0</td>\n      <td>4.0</td>\n      <td>25.0</td>\n    </tr>\n    <tr>\n      <th>13</th>\n      <td>Right Side(R)</td>\n      <td>24+ ft.</td>\n      <td>0021901314</td>\n      <td>San Antonio Spurs</td>\n      <td>1.0</td>\n      <td>2.0</td>\n      <td>50.0</td>\n    </tr>\n    <tr>\n      <th>14</th>\n      <td>Right Side(R)</td>\n      <td>8-16 ft.</td>\n      <td>0021901314</td>\n      <td>San Antonio Spurs</td>\n      <td>4.0</td>\n      <td>6.0</td>\n      <td>67.0</td>\n    </tr>\n  </tbody>\n</table>\n</div>"
     },
     "metadata": {},
     "execution_count": 53
    }
   ],
   "source": [
    "new_df"
   ]
  },
  {
   "cell_type": "code",
   "execution_count": 56,
   "metadata": {},
   "outputs": [
    {
     "output_type": "execute_result",
     "data": {
      "text/plain": [
       "Index(['SHOT_MADE_FLAG', 'SHOT_ATTEMPTED_FLAG', 'rounded_fg_pct'], dtype='object')"
      ]
     },
     "metadata": {},
     "execution_count": 56
    }
   ],
   "source": [
    "new_df.iloc[:, 4:7].columns"
   ]
  },
  {
   "cell_type": "code",
   "execution_count": 57,
   "metadata": {},
   "outputs": [],
   "source": [
    "for col in list(new_df.iloc[:, 4:7].columns):\n",
    "    new_df[col] = new_df[col].astype(int)"
   ]
  },
  {
   "cell_type": "code",
   "execution_count": 58,
   "metadata": {},
   "outputs": [
    {
     "output_type": "execute_result",
     "data": {
      "text/plain": [
       "           SHOT_ZONE_AREA  SHOT_ZONE_RANGE     GAME_ID          TEAM_NAME  \\\n",
       "0          Back Court(BC)  Back Court Shot           0                  0   \n",
       "1               Center(C)        16-24 ft.           0                  0   \n",
       "2               Center(C)          24+ ft.  0021901314  San Antonio Spurs   \n",
       "3               Center(C)         8-16 ft.  0021901314  San Antonio Spurs   \n",
       "4               Center(C)  Less Than 8 ft.  0021901314  San Antonio Spurs   \n",
       "5    Left Side Center(LC)        16-24 ft.           0                  0   \n",
       "6    Left Side Center(LC)          24+ ft.  0021901314  San Antonio Spurs   \n",
       "7            Left Side(L)        16-24 ft.  0021901314  San Antonio Spurs   \n",
       "8            Left Side(L)          24+ ft.  0021901314  San Antonio Spurs   \n",
       "9            Left Side(L)         8-16 ft.  0021901314  San Antonio Spurs   \n",
       "10  Right Side Center(RC)        16-24 ft.  0021901314  San Antonio Spurs   \n",
       "11  Right Side Center(RC)          24+ ft.  0021901314  San Antonio Spurs   \n",
       "12          Right Side(R)        16-24 ft.  0021901314  San Antonio Spurs   \n",
       "13          Right Side(R)          24+ ft.  0021901314  San Antonio Spurs   \n",
       "14          Right Side(R)         8-16 ft.  0021901314  San Antonio Spurs   \n",
       "\n",
       "    SHOT_MADE_FLAG  SHOT_ATTEMPTED_FLAG  rounded_fg_pct  \n",
       "0                0                    0               0  \n",
       "1                0                    0               0  \n",
       "2                2                    2             100  \n",
       "3                3                   10              30  \n",
       "4               17                   30              57  \n",
       "5                0                    0               0  \n",
       "6                3                    6              50  \n",
       "7                3                    5              60  \n",
       "8                1                    3              33  \n",
       "9                1                    1             100  \n",
       "10               0                    3               0  \n",
       "11               3                    7              43  \n",
       "12               1                    4              25  \n",
       "13               1                    2              50  \n",
       "14               4                    6              67  "
      ],
      "text/html": "<div>\n<style scoped>\n    .dataframe tbody tr th:only-of-type {\n        vertical-align: middle;\n    }\n\n    .dataframe tbody tr th {\n        vertical-align: top;\n    }\n\n    .dataframe thead th {\n        text-align: right;\n    }\n</style>\n<table border=\"1\" class=\"dataframe\">\n  <thead>\n    <tr style=\"text-align: right;\">\n      <th></th>\n      <th>SHOT_ZONE_AREA</th>\n      <th>SHOT_ZONE_RANGE</th>\n      <th>GAME_ID</th>\n      <th>TEAM_NAME</th>\n      <th>SHOT_MADE_FLAG</th>\n      <th>SHOT_ATTEMPTED_FLAG</th>\n      <th>rounded_fg_pct</th>\n    </tr>\n  </thead>\n  <tbody>\n    <tr>\n      <th>0</th>\n      <td>Back Court(BC)</td>\n      <td>Back Court Shot</td>\n      <td>0</td>\n      <td>0</td>\n      <td>0</td>\n      <td>0</td>\n      <td>0</td>\n    </tr>\n    <tr>\n      <th>1</th>\n      <td>Center(C)</td>\n      <td>16-24 ft.</td>\n      <td>0</td>\n      <td>0</td>\n      <td>0</td>\n      <td>0</td>\n      <td>0</td>\n    </tr>\n    <tr>\n      <th>2</th>\n      <td>Center(C)</td>\n      <td>24+ ft.</td>\n      <td>0021901314</td>\n      <td>San Antonio Spurs</td>\n      <td>2</td>\n      <td>2</td>\n      <td>100</td>\n    </tr>\n    <tr>\n      <th>3</th>\n      <td>Center(C)</td>\n      <td>8-16 ft.</td>\n      <td>0021901314</td>\n      <td>San Antonio Spurs</td>\n      <td>3</td>\n      <td>10</td>\n      <td>30</td>\n    </tr>\n    <tr>\n      <th>4</th>\n      <td>Center(C)</td>\n      <td>Less Than 8 ft.</td>\n      <td>0021901314</td>\n      <td>San Antonio Spurs</td>\n      <td>17</td>\n      <td>30</td>\n      <td>57</td>\n    </tr>\n    <tr>\n      <th>5</th>\n      <td>Left Side Center(LC)</td>\n      <td>16-24 ft.</td>\n      <td>0</td>\n      <td>0</td>\n      <td>0</td>\n      <td>0</td>\n      <td>0</td>\n    </tr>\n    <tr>\n      <th>6</th>\n      <td>Left Side Center(LC)</td>\n      <td>24+ ft.</td>\n      <td>0021901314</td>\n      <td>San Antonio Spurs</td>\n      <td>3</td>\n      <td>6</td>\n      <td>50</td>\n    </tr>\n    <tr>\n      <th>7</th>\n      <td>Left Side(L)</td>\n      <td>16-24 ft.</td>\n      <td>0021901314</td>\n      <td>San Antonio Spurs</td>\n      <td>3</td>\n      <td>5</td>\n      <td>60</td>\n    </tr>\n    <tr>\n      <th>8</th>\n      <td>Left Side(L)</td>\n      <td>24+ ft.</td>\n      <td>0021901314</td>\n      <td>San Antonio Spurs</td>\n      <td>1</td>\n      <td>3</td>\n      <td>33</td>\n    </tr>\n    <tr>\n      <th>9</th>\n      <td>Left Side(L)</td>\n      <td>8-16 ft.</td>\n      <td>0021901314</td>\n      <td>San Antonio Spurs</td>\n      <td>1</td>\n      <td>1</td>\n      <td>100</td>\n    </tr>\n    <tr>\n      <th>10</th>\n      <td>Right Side Center(RC)</td>\n      <td>16-24 ft.</td>\n      <td>0021901314</td>\n      <td>San Antonio Spurs</td>\n      <td>0</td>\n      <td>3</td>\n      <td>0</td>\n    </tr>\n    <tr>\n      <th>11</th>\n      <td>Right Side Center(RC)</td>\n      <td>24+ ft.</td>\n      <td>0021901314</td>\n      <td>San Antonio Spurs</td>\n      <td>3</td>\n      <td>7</td>\n      <td>43</td>\n    </tr>\n    <tr>\n      <th>12</th>\n      <td>Right Side(R)</td>\n      <td>16-24 ft.</td>\n      <td>0021901314</td>\n      <td>San Antonio Spurs</td>\n      <td>1</td>\n      <td>4</td>\n      <td>25</td>\n    </tr>\n    <tr>\n      <th>13</th>\n      <td>Right Side(R)</td>\n      <td>24+ ft.</td>\n      <td>0021901314</td>\n      <td>San Antonio Spurs</td>\n      <td>1</td>\n      <td>2</td>\n      <td>50</td>\n    </tr>\n    <tr>\n      <th>14</th>\n      <td>Right Side(R)</td>\n      <td>8-16 ft.</td>\n      <td>0021901314</td>\n      <td>San Antonio Spurs</td>\n      <td>4</td>\n      <td>6</td>\n      <td>67</td>\n    </tr>\n  </tbody>\n</table>\n</div>"
     },
     "metadata": {},
     "execution_count": 58
    }
   ],
   "source": [
    "new_df"
   ]
  },
  {
   "cell_type": "markdown",
   "metadata": {},
   "source": [
    "# Calculate team fg pct minus league avg fg pct by area"
   ]
  },
  {
   "cell_type": "code",
   "execution_count": 30,
   "metadata": {},
   "outputs": [
    {
     "output_type": "error",
     "ename": "KeyError",
     "evalue": "'shot_zone_area'",
     "traceback": [
      "\u001b[0;31m---------------------------------------------------------------------------\u001b[0m",
      "\u001b[0;31mKeyError\u001b[0m                                  Traceback (most recent call last)",
      "\u001b[0;32m~/.local/lib/python3.8/site-packages/pandas/core/indexes/base.py\u001b[0m in \u001b[0;36mget_loc\u001b[0;34m(self, key, method, tolerance)\u001b[0m\n\u001b[1;32m   2894\u001b[0m             \u001b[0;32mtry\u001b[0m\u001b[0;34m:\u001b[0m\u001b[0;34m\u001b[0m\u001b[0;34m\u001b[0m\u001b[0m\n\u001b[0;32m-> 2895\u001b[0;31m                 \u001b[0;32mreturn\u001b[0m \u001b[0mself\u001b[0m\u001b[0;34m.\u001b[0m\u001b[0m_engine\u001b[0m\u001b[0;34m.\u001b[0m\u001b[0mget_loc\u001b[0m\u001b[0;34m(\u001b[0m\u001b[0mcasted_key\u001b[0m\u001b[0;34m)\u001b[0m\u001b[0;34m\u001b[0m\u001b[0;34m\u001b[0m\u001b[0m\n\u001b[0m\u001b[1;32m   2896\u001b[0m             \u001b[0;32mexcept\u001b[0m \u001b[0mKeyError\u001b[0m \u001b[0;32mas\u001b[0m \u001b[0merr\u001b[0m\u001b[0;34m:\u001b[0m\u001b[0;34m\u001b[0m\u001b[0;34m\u001b[0m\u001b[0m\n",
      "\u001b[0;32mpandas/_libs/index.pyx\u001b[0m in \u001b[0;36mpandas._libs.index.IndexEngine.get_loc\u001b[0;34m()\u001b[0m\n",
      "\u001b[0;32mpandas/_libs/index.pyx\u001b[0m in \u001b[0;36mpandas._libs.index.IndexEngine.get_loc\u001b[0;34m()\u001b[0m\n",
      "\u001b[0;32mpandas/_libs/hashtable_class_helper.pxi\u001b[0m in \u001b[0;36mpandas._libs.hashtable.PyObjectHashTable.get_item\u001b[0;34m()\u001b[0m\n",
      "\u001b[0;32mpandas/_libs/hashtable_class_helper.pxi\u001b[0m in \u001b[0;36mpandas._libs.hashtable.PyObjectHashTable.get_item\u001b[0;34m()\u001b[0m\n",
      "\u001b[0;31mKeyError\u001b[0m: 'shot_zone_area'",
      "\nThe above exception was the direct cause of the following exception:\n",
      "\u001b[0;31mKeyError\u001b[0m                                  Traceback (most recent call last)",
      "\u001b[0;32m<ipython-input-30-4da61beecc6d>\u001b[0m in \u001b[0;36m<module>\u001b[0;34m\u001b[0m\n\u001b[1;32m      1\u001b[0m \u001b[0;31m# call function to calculate difference\u001b[0m\u001b[0;34m\u001b[0m\u001b[0;34m\u001b[0m\u001b[0;34m\u001b[0m\u001b[0m\n\u001b[0;32m----> 2\u001b[0;31m \u001b[0mclean_spurs_shots_df\u001b[0m\u001b[0;34m[\u001b[0m\u001b[0;34m'fg_diff'\u001b[0m\u001b[0;34m]\u001b[0m \u001b[0;34m=\u001b[0m \u001b[0mcalc_fg_diffs\u001b[0m\u001b[0;34m(\u001b[0m\u001b[0mclean_spurs_shots_df\u001b[0m\u001b[0;34m,\u001b[0m \u001b[0mleague_avg_df\u001b[0m\u001b[0;34m)\u001b[0m\u001b[0;34m\u001b[0m\u001b[0;34m\u001b[0m\u001b[0m\n\u001b[0m\u001b[1;32m      3\u001b[0m \u001b[0mclean_opp_shots_df\u001b[0m\u001b[0;34m[\u001b[0m\u001b[0;34m'fg_diff'\u001b[0m\u001b[0;34m]\u001b[0m \u001b[0;34m=\u001b[0m \u001b[0mcalc_fg_diffs\u001b[0m\u001b[0;34m(\u001b[0m\u001b[0mclean_opp_shots_df\u001b[0m\u001b[0;34m,\u001b[0m \u001b[0mleague_avg_df\u001b[0m\u001b[0;34m)\u001b[0m\u001b[0;34m\u001b[0m\u001b[0;34m\u001b[0m\u001b[0m\n",
      "\u001b[0;32m<ipython-input-12-1ec6699a188c>\u001b[0m in \u001b[0;36mcalc_fg_diffs\u001b[0;34m(team_df, avg_df)\u001b[0m\n\u001b[1;32m     13\u001b[0m     \u001b[0;32mfor\u001b[0m \u001b[0mi\u001b[0m \u001b[0;32min\u001b[0m \u001b[0mrange\u001b[0m\u001b[0;34m(\u001b[0m\u001b[0mlen\u001b[0m\u001b[0;34m(\u001b[0m\u001b[0mteam_df\u001b[0m\u001b[0;34m)\u001b[0m\u001b[0;34m)\u001b[0m\u001b[0;34m:\u001b[0m\u001b[0;34m\u001b[0m\u001b[0;34m\u001b[0m\u001b[0m\n\u001b[1;32m     14\u001b[0m         avg_pct = avg_df[\n\u001b[0;32m---> 15\u001b[0;31m             \u001b[0;34m(\u001b[0m\u001b[0mavg_df\u001b[0m\u001b[0;34m[\u001b[0m\u001b[0mshot_area\u001b[0m\u001b[0;34m]\u001b[0m \u001b[0;34m==\u001b[0m \u001b[0mteam_df\u001b[0m\u001b[0;34m.\u001b[0m\u001b[0miloc\u001b[0m\u001b[0;34m[\u001b[0m\u001b[0mi\u001b[0m\u001b[0;34m]\u001b[0m\u001b[0;34m[\u001b[0m\u001b[0mshot_area\u001b[0m\u001b[0;34m]\u001b[0m\u001b[0;34m)\u001b[0m \u001b[0;34m&\u001b[0m\u001b[0;34m\u001b[0m\u001b[0;34m\u001b[0m\u001b[0m\n\u001b[0m\u001b[1;32m     16\u001b[0m             \u001b[0;34m(\u001b[0m\u001b[0mavg_df\u001b[0m\u001b[0;34m[\u001b[0m\u001b[0mshot_range\u001b[0m\u001b[0;34m]\u001b[0m \u001b[0;34m==\u001b[0m \u001b[0mteam_df\u001b[0m\u001b[0;34m.\u001b[0m\u001b[0miloc\u001b[0m\u001b[0;34m[\u001b[0m\u001b[0mi\u001b[0m\u001b[0;34m]\u001b[0m\u001b[0;34m[\u001b[0m\u001b[0mshot_range\u001b[0m\u001b[0;34m]\u001b[0m\u001b[0;34m)\u001b[0m\u001b[0;34m\u001b[0m\u001b[0;34m\u001b[0m\u001b[0m\n\u001b[1;32m     17\u001b[0m         ].iloc[0]['rounded_fg_pct']\n",
      "\u001b[0;32m~/.local/lib/python3.8/site-packages/pandas/core/frame.py\u001b[0m in \u001b[0;36m__getitem__\u001b[0;34m(self, key)\u001b[0m\n\u001b[1;32m   2900\u001b[0m             \u001b[0;32mif\u001b[0m \u001b[0mself\u001b[0m\u001b[0;34m.\u001b[0m\u001b[0mcolumns\u001b[0m\u001b[0;34m.\u001b[0m\u001b[0mnlevels\u001b[0m \u001b[0;34m>\u001b[0m \u001b[0;36m1\u001b[0m\u001b[0;34m:\u001b[0m\u001b[0;34m\u001b[0m\u001b[0;34m\u001b[0m\u001b[0m\n\u001b[1;32m   2901\u001b[0m                 \u001b[0;32mreturn\u001b[0m \u001b[0mself\u001b[0m\u001b[0;34m.\u001b[0m\u001b[0m_getitem_multilevel\u001b[0m\u001b[0;34m(\u001b[0m\u001b[0mkey\u001b[0m\u001b[0;34m)\u001b[0m\u001b[0;34m\u001b[0m\u001b[0;34m\u001b[0m\u001b[0m\n\u001b[0;32m-> 2902\u001b[0;31m             \u001b[0mindexer\u001b[0m \u001b[0;34m=\u001b[0m \u001b[0mself\u001b[0m\u001b[0;34m.\u001b[0m\u001b[0mcolumns\u001b[0m\u001b[0;34m.\u001b[0m\u001b[0mget_loc\u001b[0m\u001b[0;34m(\u001b[0m\u001b[0mkey\u001b[0m\u001b[0;34m)\u001b[0m\u001b[0;34m\u001b[0m\u001b[0;34m\u001b[0m\u001b[0m\n\u001b[0m\u001b[1;32m   2903\u001b[0m             \u001b[0;32mif\u001b[0m \u001b[0mis_integer\u001b[0m\u001b[0;34m(\u001b[0m\u001b[0mindexer\u001b[0m\u001b[0;34m)\u001b[0m\u001b[0;34m:\u001b[0m\u001b[0;34m\u001b[0m\u001b[0;34m\u001b[0m\u001b[0m\n\u001b[1;32m   2904\u001b[0m                 \u001b[0mindexer\u001b[0m \u001b[0;34m=\u001b[0m \u001b[0;34m[\u001b[0m\u001b[0mindexer\u001b[0m\u001b[0;34m]\u001b[0m\u001b[0;34m\u001b[0m\u001b[0;34m\u001b[0m\u001b[0m\n",
      "\u001b[0;32m~/.local/lib/python3.8/site-packages/pandas/core/indexes/base.py\u001b[0m in \u001b[0;36mget_loc\u001b[0;34m(self, key, method, tolerance)\u001b[0m\n\u001b[1;32m   2895\u001b[0m                 \u001b[0;32mreturn\u001b[0m \u001b[0mself\u001b[0m\u001b[0;34m.\u001b[0m\u001b[0m_engine\u001b[0m\u001b[0;34m.\u001b[0m\u001b[0mget_loc\u001b[0m\u001b[0;34m(\u001b[0m\u001b[0mcasted_key\u001b[0m\u001b[0;34m)\u001b[0m\u001b[0;34m\u001b[0m\u001b[0;34m\u001b[0m\u001b[0m\n\u001b[1;32m   2896\u001b[0m             \u001b[0;32mexcept\u001b[0m \u001b[0mKeyError\u001b[0m \u001b[0;32mas\u001b[0m \u001b[0merr\u001b[0m\u001b[0;34m:\u001b[0m\u001b[0;34m\u001b[0m\u001b[0;34m\u001b[0m\u001b[0m\n\u001b[0;32m-> 2897\u001b[0;31m                 \u001b[0;32mraise\u001b[0m \u001b[0mKeyError\u001b[0m\u001b[0;34m(\u001b[0m\u001b[0mkey\u001b[0m\u001b[0;34m)\u001b[0m \u001b[0;32mfrom\u001b[0m \u001b[0merr\u001b[0m\u001b[0;34m\u001b[0m\u001b[0;34m\u001b[0m\u001b[0m\n\u001b[0m\u001b[1;32m   2898\u001b[0m \u001b[0;34m\u001b[0m\u001b[0m\n\u001b[1;32m   2899\u001b[0m         \u001b[0;32mif\u001b[0m \u001b[0mtolerance\u001b[0m \u001b[0;32mis\u001b[0m \u001b[0;32mnot\u001b[0m \u001b[0;32mNone\u001b[0m\u001b[0;34m:\u001b[0m\u001b[0;34m\u001b[0m\u001b[0;34m\u001b[0m\u001b[0m\n",
      "\u001b[0;31mKeyError\u001b[0m: 'shot_zone_area'"
     ]
    }
   ],
   "source": [
    "# call function to calculate difference\n",
    "clean_spurs_shots_df['fg_diff'] = calc_fg_diffs(clean_spurs_shots_df, league_avg_df)\n",
    "clean_opp_shots_df['fg_diff'] = calc_fg_diffs(clean_opp_shots_df, league_avg_df)"
   ]
  },
  {
   "cell_type": "code",
   "execution_count": 25,
   "metadata": {},
   "outputs": [],
   "source": [
    "# format by giving it a % marker\n",
    "clean_spurs_shots_df['formatted_fgpct_diff'] = clean_spurs_shots_df.fg_diff.apply(lambda x: str(x) + '%')\n",
    "clean_opp_shots_df['formatted_fgpct_diff'] = clean_opp_shots_df.fg_diff.apply(lambda x: str(x) + '%')"
   ]
  },
  {
   "cell_type": "markdown",
   "metadata": {},
   "source": [
    "# Clean up columns formatting for outputs"
   ]
  },
  {
   "cell_type": "code",
   "execution_count": 26,
   "metadata": {},
   "outputs": [],
   "source": [
    "# combine shooting fields \n",
    "combine_shooting_fields(clean_spurs_shots_df, 'shots_made', 'shots_attempted', 'fg')\n",
    "combine_shooting_fields(clean_opp_shots_df, 'shots_made', 'shots_attempted', 'fg')"
   ]
  },
  {
   "cell_type": "code",
   "execution_count": 27,
   "metadata": {},
   "outputs": [
    {
     "output_type": "execute_result",
     "data": {
      "text/plain": [
       "Index(['grid_type', 'shot_zone_basic', 'shot_zone_area', 'shot_zone_range',\n",
       "       'fga', 'fgm', 'fg_pct', 'rounded_fg_pct', 'formatted_fg_pct'],\n",
       "      dtype='object')"
      ]
     },
     "metadata": {},
     "execution_count": 27
    }
   ],
   "source": [
    "league_avg_df.columns"
   ]
  },
  {
   "cell_type": "code",
   "execution_count": 28,
   "metadata": {},
   "outputs": [
    {
     "output_type": "execute_result",
     "data": {
      "text/plain": [
       "Index(['game_id', 'team_name', 'shot_zone_area', 'shot_zone_range',\n",
       "       'shots_made', 'shots_attempted', 'rounded_fg_pct', 'formatted_fg_pct',\n",
       "       'fg_diff', 'formatted_fgpct_diff', 'fg'],\n",
       "      dtype='object')"
      ]
     },
     "metadata": {},
     "execution_count": 28
    }
   ],
   "source": [
    "clean_spurs_shots_df.columns"
   ]
  },
  {
   "cell_type": "code",
   "execution_count": 29,
   "metadata": {},
   "outputs": [
    {
     "output_type": "execute_result",
     "data": {
      "text/plain": [
       "Index(['game_id', 'team_name', 'shot_zone_area', 'shot_zone_range',\n",
       "       'shots_made', 'shots_attempted', 'rounded_fg_pct', 'formatted_fg_pct',\n",
       "       'fg_diff', 'formatted_fgpct_diff', 'fg'],\n",
       "      dtype='object')"
      ]
     },
     "metadata": {},
     "execution_count": 29
    }
   ],
   "source": [
    "clean_opp_shots_df.columns"
   ]
  },
  {
   "cell_type": "code",
   "execution_count": 30,
   "metadata": {},
   "outputs": [],
   "source": [
    "# Filter out working columns\n",
    "out_spurs_df = clean_spurs_shots_df[[\n",
    "    'game_id', 'team_name', 'shot_zone_area', 'shot_zone_range', 'fg',\n",
    "    'formatted_fg_pct', 'formatted_fgpct_diff'\n",
    "]].copy()\n",
    "\n",
    "out_opp_df = clean_opp_shots_df[[\n",
    "    'game_id', 'team_name', 'shot_zone_area', 'shot_zone_range', 'fg',\n",
    "    'formatted_fg_pct', 'formatted_fgpct_diff'\n",
    "]].copy()\n",
    "\n",
    "out_league_avg_df = league_avg_df[[\n",
    "    'shot_zone_basic', 'shot_zone_area', 'shot_zone_range',\n",
    "    'fgm', 'fga', 'fg_pct', 'formatted_fg_pct'\n",
    "]].copy()"
   ]
  },
  {
   "cell_type": "code",
   "execution_count": 31,
   "metadata": {},
   "outputs": [],
   "source": [
    "# rename column for formatting\n",
    "\n",
    "col_renames = {\n",
    "    'formatted_fg_pct' : 'fg_pct',\n",
    "    'formatted_fgpct_diff': 'fg_pct_diff'\n",
    "}\n",
    "\n",
    "out_spurs_df.rename(columns=col_renames, inplace=True)\n",
    "out_opp_df.rename(columns=col_renames, inplace=True)"
   ]
  },
  {
   "cell_type": "code",
   "execution_count": 32,
   "metadata": {},
   "outputs": [
    {
     "output_type": "execute_result",
     "data": {
      "text/plain": [
       "       game_id          team_name         shot_zone_area  shot_zone_range  \\\n",
       "0   0021901314  San Antonio Spurs              Center(C)          24+ ft.   \n",
       "1   0021901314  San Antonio Spurs              Center(C)         8-16 ft.   \n",
       "2   0021901314  San Antonio Spurs              Center(C)  Less Than 8 ft.   \n",
       "3   0021901314  San Antonio Spurs   Left Side Center(LC)          24+ ft.   \n",
       "4   0021901314  San Antonio Spurs           Left Side(L)        16-24 ft.   \n",
       "5   0021901314  San Antonio Spurs           Left Side(L)          24+ ft.   \n",
       "6   0021901314  San Antonio Spurs           Left Side(L)         8-16 ft.   \n",
       "7   0021901314  San Antonio Spurs  Right Side Center(RC)        16-24 ft.   \n",
       "8   0021901314  San Antonio Spurs  Right Side Center(RC)          24+ ft.   \n",
       "9   0021901314  San Antonio Spurs          Right Side(R)        16-24 ft.   \n",
       "10  0021901314  San Antonio Spurs          Right Side(R)          24+ ft.   \n",
       "11  0021901314  San Antonio Spurs          Right Side(R)         8-16 ft.   \n",
       "\n",
       "       fg fg_pct fg_pct_diff  \n",
       "0     2-2   100%         66%  \n",
       "1    3-10    30%        -12%  \n",
       "2   17-30    57%         19%  \n",
       "3     3-6    50%         15%  \n",
       "4     3-5    60%         21%  \n",
       "5     1-3    33%         -6%  \n",
       "6     1-1   100%         60%  \n",
       "7     0-3     0%        -40%  \n",
       "8     3-7    43%          8%  \n",
       "9     1-4    25%        -14%  \n",
       "10    1-2    50%         12%  \n",
       "11    4-6    67%         28%  "
      ],
      "text/html": "<div>\n<style scoped>\n    .dataframe tbody tr th:only-of-type {\n        vertical-align: middle;\n    }\n\n    .dataframe tbody tr th {\n        vertical-align: top;\n    }\n\n    .dataframe thead th {\n        text-align: right;\n    }\n</style>\n<table border=\"1\" class=\"dataframe\">\n  <thead>\n    <tr style=\"text-align: right;\">\n      <th></th>\n      <th>game_id</th>\n      <th>team_name</th>\n      <th>shot_zone_area</th>\n      <th>shot_zone_range</th>\n      <th>fg</th>\n      <th>fg_pct</th>\n      <th>fg_pct_diff</th>\n    </tr>\n  </thead>\n  <tbody>\n    <tr>\n      <th>0</th>\n      <td>0021901314</td>\n      <td>San Antonio Spurs</td>\n      <td>Center(C)</td>\n      <td>24+ ft.</td>\n      <td>2-2</td>\n      <td>100%</td>\n      <td>66%</td>\n    </tr>\n    <tr>\n      <th>1</th>\n      <td>0021901314</td>\n      <td>San Antonio Spurs</td>\n      <td>Center(C)</td>\n      <td>8-16 ft.</td>\n      <td>3-10</td>\n      <td>30%</td>\n      <td>-12%</td>\n    </tr>\n    <tr>\n      <th>2</th>\n      <td>0021901314</td>\n      <td>San Antonio Spurs</td>\n      <td>Center(C)</td>\n      <td>Less Than 8 ft.</td>\n      <td>17-30</td>\n      <td>57%</td>\n      <td>19%</td>\n    </tr>\n    <tr>\n      <th>3</th>\n      <td>0021901314</td>\n      <td>San Antonio Spurs</td>\n      <td>Left Side Center(LC)</td>\n      <td>24+ ft.</td>\n      <td>3-6</td>\n      <td>50%</td>\n      <td>15%</td>\n    </tr>\n    <tr>\n      <th>4</th>\n      <td>0021901314</td>\n      <td>San Antonio Spurs</td>\n      <td>Left Side(L)</td>\n      <td>16-24 ft.</td>\n      <td>3-5</td>\n      <td>60%</td>\n      <td>21%</td>\n    </tr>\n    <tr>\n      <th>5</th>\n      <td>0021901314</td>\n      <td>San Antonio Spurs</td>\n      <td>Left Side(L)</td>\n      <td>24+ ft.</td>\n      <td>1-3</td>\n      <td>33%</td>\n      <td>-6%</td>\n    </tr>\n    <tr>\n      <th>6</th>\n      <td>0021901314</td>\n      <td>San Antonio Spurs</td>\n      <td>Left Side(L)</td>\n      <td>8-16 ft.</td>\n      <td>1-1</td>\n      <td>100%</td>\n      <td>60%</td>\n    </tr>\n    <tr>\n      <th>7</th>\n      <td>0021901314</td>\n      <td>San Antonio Spurs</td>\n      <td>Right Side Center(RC)</td>\n      <td>16-24 ft.</td>\n      <td>0-3</td>\n      <td>0%</td>\n      <td>-40%</td>\n    </tr>\n    <tr>\n      <th>8</th>\n      <td>0021901314</td>\n      <td>San Antonio Spurs</td>\n      <td>Right Side Center(RC)</td>\n      <td>24+ ft.</td>\n      <td>3-7</td>\n      <td>43%</td>\n      <td>8%</td>\n    </tr>\n    <tr>\n      <th>9</th>\n      <td>0021901314</td>\n      <td>San Antonio Spurs</td>\n      <td>Right Side(R)</td>\n      <td>16-24 ft.</td>\n      <td>1-4</td>\n      <td>25%</td>\n      <td>-14%</td>\n    </tr>\n    <tr>\n      <th>10</th>\n      <td>0021901314</td>\n      <td>San Antonio Spurs</td>\n      <td>Right Side(R)</td>\n      <td>24+ ft.</td>\n      <td>1-2</td>\n      <td>50%</td>\n      <td>12%</td>\n    </tr>\n    <tr>\n      <th>11</th>\n      <td>0021901314</td>\n      <td>San Antonio Spurs</td>\n      <td>Right Side(R)</td>\n      <td>8-16 ft.</td>\n      <td>4-6</td>\n      <td>67%</td>\n      <td>28%</td>\n    </tr>\n  </tbody>\n</table>\n</div>"
     },
     "metadata": {},
     "execution_count": 32
    }
   ],
   "source": [
    "out_spurs_df"
   ]
  },
  {
   "cell_type": "code",
   "execution_count": 33,
   "metadata": {},
   "outputs": [
    {
     "output_type": "execute_result",
     "data": {
      "text/plain": [
       "       game_id  team_name         shot_zone_area  shot_zone_range     fg  \\\n",
       "0   0021901314  Utah Jazz              Center(C)        16-24 ft.    0-1   \n",
       "1   0021901314  Utah Jazz              Center(C)          24+ ft.    2-3   \n",
       "2   0021901314  Utah Jazz              Center(C)         8-16 ft.    2-3   \n",
       "3   0021901314  Utah Jazz              Center(C)  Less Than 8 ft.  28-45   \n",
       "4   0021901314  Utah Jazz   Left Side Center(LC)          24+ ft.   6-18   \n",
       "5   0021901314  Utah Jazz           Left Side(L)          24+ ft.    0-3   \n",
       "6   0021901314  Utah Jazz           Left Side(L)         8-16 ft.    0-1   \n",
       "7   0021901314  Utah Jazz  Right Side Center(RC)          24+ ft.   5-16   \n",
       "8   0021901314  Utah Jazz          Right Side(R)        16-24 ft.    1-2   \n",
       "9   0021901314  Utah Jazz          Right Side(R)          24+ ft.    2-6   \n",
       "10  0021901314  Utah Jazz          Right Side(R)         8-16 ft.    1-3   \n",
       "\n",
       "   fg_pct fg_pct_diff  \n",
       "0      0%        -41%  \n",
       "1     67%         33%  \n",
       "2     67%         25%  \n",
       "3     62%         24%  \n",
       "4     33%         -2%  \n",
       "5      0%        -39%  \n",
       "6      0%        -40%  \n",
       "7     31%         -4%  \n",
       "8     50%         11%  \n",
       "9     33%         -5%  \n",
       "10    33%         -6%  "
      ],
      "text/html": "<div>\n<style scoped>\n    .dataframe tbody tr th:only-of-type {\n        vertical-align: middle;\n    }\n\n    .dataframe tbody tr th {\n        vertical-align: top;\n    }\n\n    .dataframe thead th {\n        text-align: right;\n    }\n</style>\n<table border=\"1\" class=\"dataframe\">\n  <thead>\n    <tr style=\"text-align: right;\">\n      <th></th>\n      <th>game_id</th>\n      <th>team_name</th>\n      <th>shot_zone_area</th>\n      <th>shot_zone_range</th>\n      <th>fg</th>\n      <th>fg_pct</th>\n      <th>fg_pct_diff</th>\n    </tr>\n  </thead>\n  <tbody>\n    <tr>\n      <th>0</th>\n      <td>0021901314</td>\n      <td>Utah Jazz</td>\n      <td>Center(C)</td>\n      <td>16-24 ft.</td>\n      <td>0-1</td>\n      <td>0%</td>\n      <td>-41%</td>\n    </tr>\n    <tr>\n      <th>1</th>\n      <td>0021901314</td>\n      <td>Utah Jazz</td>\n      <td>Center(C)</td>\n      <td>24+ ft.</td>\n      <td>2-3</td>\n      <td>67%</td>\n      <td>33%</td>\n    </tr>\n    <tr>\n      <th>2</th>\n      <td>0021901314</td>\n      <td>Utah Jazz</td>\n      <td>Center(C)</td>\n      <td>8-16 ft.</td>\n      <td>2-3</td>\n      <td>67%</td>\n      <td>25%</td>\n    </tr>\n    <tr>\n      <th>3</th>\n      <td>0021901314</td>\n      <td>Utah Jazz</td>\n      <td>Center(C)</td>\n      <td>Less Than 8 ft.</td>\n      <td>28-45</td>\n      <td>62%</td>\n      <td>24%</td>\n    </tr>\n    <tr>\n      <th>4</th>\n      <td>0021901314</td>\n      <td>Utah Jazz</td>\n      <td>Left Side Center(LC)</td>\n      <td>24+ ft.</td>\n      <td>6-18</td>\n      <td>33%</td>\n      <td>-2%</td>\n    </tr>\n    <tr>\n      <th>5</th>\n      <td>0021901314</td>\n      <td>Utah Jazz</td>\n      <td>Left Side(L)</td>\n      <td>24+ ft.</td>\n      <td>0-3</td>\n      <td>0%</td>\n      <td>-39%</td>\n    </tr>\n    <tr>\n      <th>6</th>\n      <td>0021901314</td>\n      <td>Utah Jazz</td>\n      <td>Left Side(L)</td>\n      <td>8-16 ft.</td>\n      <td>0-1</td>\n      <td>0%</td>\n      <td>-40%</td>\n    </tr>\n    <tr>\n      <th>7</th>\n      <td>0021901314</td>\n      <td>Utah Jazz</td>\n      <td>Right Side Center(RC)</td>\n      <td>24+ ft.</td>\n      <td>5-16</td>\n      <td>31%</td>\n      <td>-4%</td>\n    </tr>\n    <tr>\n      <th>8</th>\n      <td>0021901314</td>\n      <td>Utah Jazz</td>\n      <td>Right Side(R)</td>\n      <td>16-24 ft.</td>\n      <td>1-2</td>\n      <td>50%</td>\n      <td>11%</td>\n    </tr>\n    <tr>\n      <th>9</th>\n      <td>0021901314</td>\n      <td>Utah Jazz</td>\n      <td>Right Side(R)</td>\n      <td>24+ ft.</td>\n      <td>2-6</td>\n      <td>33%</td>\n      <td>-5%</td>\n    </tr>\n    <tr>\n      <th>10</th>\n      <td>0021901314</td>\n      <td>Utah Jazz</td>\n      <td>Right Side(R)</td>\n      <td>8-16 ft.</td>\n      <td>1-3</td>\n      <td>33%</td>\n      <td>-6%</td>\n    </tr>\n  </tbody>\n</table>\n</div>"
     },
     "metadata": {},
     "execution_count": 33
    }
   ],
   "source": [
    "out_opp_df"
   ]
  },
  {
   "cell_type": "code",
   "execution_count": 34,
   "metadata": {},
   "outputs": [
    {
     "output_type": "execute_result",
     "data": {
      "text/plain": [
       "          shot_zone_basic         shot_zone_area  shot_zone_range    fgm  \\\n",
       "0       Above the Break 3         Back Court(BC)  Back Court Shot      6   \n",
       "1       Above the Break 3              Center(C)          24+ ft.   5168   \n",
       "2       Above the Break 3   Left Side Center(LC)          24+ ft.   7459   \n",
       "3       Above the Break 3  Right Side Center(RC)          24+ ft.   6875   \n",
       "4               Backcourt         Back Court(BC)  Back Court Shot      7   \n",
       "5   In The Paint (Non-RA)              Center(C)         8-16 ft.   4159   \n",
       "6   In The Paint (Non-RA)              Center(C)  Less Than 8 ft.   6518   \n",
       "7   In The Paint (Non-RA)           Left Side(L)         8-16 ft.    714   \n",
       "8   In The Paint (Non-RA)          Right Side(R)         8-16 ft.    738   \n",
       "9           Left Corner 3           Left Side(L)          24+ ft.   3329   \n",
       "10              Mid-Range              Center(C)         8-16 ft.    746   \n",
       "11              Mid-Range              Center(C)        16-24 ft.   1663   \n",
       "12              Mid-Range   Left Side Center(LC)        16-24 ft.   1445   \n",
       "13              Mid-Range           Left Side(L)        16-24 ft.    614   \n",
       "14              Mid-Range           Left Side(L)         8-16 ft.   1768   \n",
       "15              Mid-Range  Right Side Center(RC)        16-24 ft.   1556   \n",
       "16              Mid-Range          Right Side(R)        16-24 ft.    561   \n",
       "17              Mid-Range          Right Side(R)         8-16 ft.   1792   \n",
       "18        Restricted Area              Center(C)  Less Than 8 ft.  38441   \n",
       "19         Right Corner 3          Right Side(R)          24+ ft.   2991   \n",
       "\n",
       "      fga  fg_pct formatted_fg_pct  \n",
       "0      45   0.133              13%  \n",
       "1   14955   0.346              34%  \n",
       "2   20895   0.357              35%  \n",
       "3   19624   0.350              35%  \n",
       "4     405   0.017               1%  \n",
       "5    9820   0.424              42%  \n",
       "6   16915   0.385              38%  \n",
       "7    1770   0.403              40%  \n",
       "8    1871   0.394              39%  \n",
       "9    8380   0.397              39%  \n",
       "10   1778   0.420              42%  \n",
       "11   4036   0.412              41%  \n",
       "12   3634   0.398              39%  \n",
       "13   1541   0.398              39%  \n",
       "14   4361   0.405              40%  \n",
       "15   3820   0.407              40%  \n",
       "16   1425   0.394              39%  \n",
       "17   4471   0.401              40%  \n",
       "18  60503   0.635              63%  \n",
       "19   7867   0.380              38%  "
      ],
      "text/html": "<div>\n<style scoped>\n    .dataframe tbody tr th:only-of-type {\n        vertical-align: middle;\n    }\n\n    .dataframe tbody tr th {\n        vertical-align: top;\n    }\n\n    .dataframe thead th {\n        text-align: right;\n    }\n</style>\n<table border=\"1\" class=\"dataframe\">\n  <thead>\n    <tr style=\"text-align: right;\">\n      <th></th>\n      <th>shot_zone_basic</th>\n      <th>shot_zone_area</th>\n      <th>shot_zone_range</th>\n      <th>fgm</th>\n      <th>fga</th>\n      <th>fg_pct</th>\n      <th>formatted_fg_pct</th>\n    </tr>\n  </thead>\n  <tbody>\n    <tr>\n      <th>0</th>\n      <td>Above the Break 3</td>\n      <td>Back Court(BC)</td>\n      <td>Back Court Shot</td>\n      <td>6</td>\n      <td>45</td>\n      <td>0.133</td>\n      <td>13%</td>\n    </tr>\n    <tr>\n      <th>1</th>\n      <td>Above the Break 3</td>\n      <td>Center(C)</td>\n      <td>24+ ft.</td>\n      <td>5168</td>\n      <td>14955</td>\n      <td>0.346</td>\n      <td>34%</td>\n    </tr>\n    <tr>\n      <th>2</th>\n      <td>Above the Break 3</td>\n      <td>Left Side Center(LC)</td>\n      <td>24+ ft.</td>\n      <td>7459</td>\n      <td>20895</td>\n      <td>0.357</td>\n      <td>35%</td>\n    </tr>\n    <tr>\n      <th>3</th>\n      <td>Above the Break 3</td>\n      <td>Right Side Center(RC)</td>\n      <td>24+ ft.</td>\n      <td>6875</td>\n      <td>19624</td>\n      <td>0.350</td>\n      <td>35%</td>\n    </tr>\n    <tr>\n      <th>4</th>\n      <td>Backcourt</td>\n      <td>Back Court(BC)</td>\n      <td>Back Court Shot</td>\n      <td>7</td>\n      <td>405</td>\n      <td>0.017</td>\n      <td>1%</td>\n    </tr>\n    <tr>\n      <th>5</th>\n      <td>In The Paint (Non-RA)</td>\n      <td>Center(C)</td>\n      <td>8-16 ft.</td>\n      <td>4159</td>\n      <td>9820</td>\n      <td>0.424</td>\n      <td>42%</td>\n    </tr>\n    <tr>\n      <th>6</th>\n      <td>In The Paint (Non-RA)</td>\n      <td>Center(C)</td>\n      <td>Less Than 8 ft.</td>\n      <td>6518</td>\n      <td>16915</td>\n      <td>0.385</td>\n      <td>38%</td>\n    </tr>\n    <tr>\n      <th>7</th>\n      <td>In The Paint (Non-RA)</td>\n      <td>Left Side(L)</td>\n      <td>8-16 ft.</td>\n      <td>714</td>\n      <td>1770</td>\n      <td>0.403</td>\n      <td>40%</td>\n    </tr>\n    <tr>\n      <th>8</th>\n      <td>In The Paint (Non-RA)</td>\n      <td>Right Side(R)</td>\n      <td>8-16 ft.</td>\n      <td>738</td>\n      <td>1871</td>\n      <td>0.394</td>\n      <td>39%</td>\n    </tr>\n    <tr>\n      <th>9</th>\n      <td>Left Corner 3</td>\n      <td>Left Side(L)</td>\n      <td>24+ ft.</td>\n      <td>3329</td>\n      <td>8380</td>\n      <td>0.397</td>\n      <td>39%</td>\n    </tr>\n    <tr>\n      <th>10</th>\n      <td>Mid-Range</td>\n      <td>Center(C)</td>\n      <td>8-16 ft.</td>\n      <td>746</td>\n      <td>1778</td>\n      <td>0.420</td>\n      <td>42%</td>\n    </tr>\n    <tr>\n      <th>11</th>\n      <td>Mid-Range</td>\n      <td>Center(C)</td>\n      <td>16-24 ft.</td>\n      <td>1663</td>\n      <td>4036</td>\n      <td>0.412</td>\n      <td>41%</td>\n    </tr>\n    <tr>\n      <th>12</th>\n      <td>Mid-Range</td>\n      <td>Left Side Center(LC)</td>\n      <td>16-24 ft.</td>\n      <td>1445</td>\n      <td>3634</td>\n      <td>0.398</td>\n      <td>39%</td>\n    </tr>\n    <tr>\n      <th>13</th>\n      <td>Mid-Range</td>\n      <td>Left Side(L)</td>\n      <td>16-24 ft.</td>\n      <td>614</td>\n      <td>1541</td>\n      <td>0.398</td>\n      <td>39%</td>\n    </tr>\n    <tr>\n      <th>14</th>\n      <td>Mid-Range</td>\n      <td>Left Side(L)</td>\n      <td>8-16 ft.</td>\n      <td>1768</td>\n      <td>4361</td>\n      <td>0.405</td>\n      <td>40%</td>\n    </tr>\n    <tr>\n      <th>15</th>\n      <td>Mid-Range</td>\n      <td>Right Side Center(RC)</td>\n      <td>16-24 ft.</td>\n      <td>1556</td>\n      <td>3820</td>\n      <td>0.407</td>\n      <td>40%</td>\n    </tr>\n    <tr>\n      <th>16</th>\n      <td>Mid-Range</td>\n      <td>Right Side(R)</td>\n      <td>16-24 ft.</td>\n      <td>561</td>\n      <td>1425</td>\n      <td>0.394</td>\n      <td>39%</td>\n    </tr>\n    <tr>\n      <th>17</th>\n      <td>Mid-Range</td>\n      <td>Right Side(R)</td>\n      <td>8-16 ft.</td>\n      <td>1792</td>\n      <td>4471</td>\n      <td>0.401</td>\n      <td>40%</td>\n    </tr>\n    <tr>\n      <th>18</th>\n      <td>Restricted Area</td>\n      <td>Center(C)</td>\n      <td>Less Than 8 ft.</td>\n      <td>38441</td>\n      <td>60503</td>\n      <td>0.635</td>\n      <td>63%</td>\n    </tr>\n    <tr>\n      <th>19</th>\n      <td>Right Corner 3</td>\n      <td>Right Side(R)</td>\n      <td>24+ ft.</td>\n      <td>2991</td>\n      <td>7867</td>\n      <td>0.380</td>\n      <td>38%</td>\n    </tr>\n  </tbody>\n</table>\n</div>"
     },
     "metadata": {},
     "execution_count": 34
    }
   ],
   "source": [
    "out_league_avg_df"
   ]
  },
  {
   "cell_type": "code",
   "execution_count": 35,
   "metadata": {},
   "outputs": [],
   "source": [
    "# output files\n",
    "\n",
    "out_spurs_df.to_json('data/shots_spurs.json', orient='records')\n",
    "out_opp_df.to_json('data/shots_opp.json', orient='records')\n",
    "out_league_avg_df.to_json('data/shots_league_avg.json', orient='records')"
   ]
  }
 ],
 "metadata": {
  "kernelspec": {
   "display_name": "Python 3.8.2 64-bit",
   "language": "python",
   "name": "python38264bitd767e0bfb6d9465ea876a3fb1b5bba27"
  },
  "language_info": {
   "codemirror_mode": {
    "name": "ipython",
    "version": 3
   },
   "file_extension": ".py",
   "mimetype": "text/x-python",
   "name": "python",
   "nbconvert_exporter": "python",
   "pygments_lexer": "ipython3",
   "version": "3.8.5-final"
  }
 },
 "nbformat": 4,
 "nbformat_minor": 4
}